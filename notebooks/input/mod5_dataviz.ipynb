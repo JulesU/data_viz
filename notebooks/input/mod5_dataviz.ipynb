{
 "cells": [
  {
   "cell_type": "markdown",
   "metadata": {
    "Collapsed": "false"
   },
   "source": [
    "<B>Data Visualization with Python and Data Viz Tools:  \n",
    "\n"
   ]
  },
  {
   "cell_type": "markdown",
   "metadata": {
    "Collapsed": "false"
   },
   "source": [
    "<b> Introduction to Project \n",
    "\n",
    "In this project, I'll be exploring several data visualization tools used with Python including Dash, etc. I'll also be working with openpyxl to do extra and clean up the initial data that will be used in the plotting and statistical analysis.\n",
    "\n",
    "I'll be working with 1 (or 2?) datasets and use them in to create some interesting visualizations of the data including presentation of the different variables in tables, charts, dynamic plots, etc using several dataviz tools such as: Dash, Great Table, Plotly\n",
    "\n",
    "Interactive visualization tools from Prof Isken:\n",
    "Dash, Bokeh, Panel, Holoviz, Streamlit and Voila\n",
    "\n",
    "Some ideas of visualizations:\n",
    "https://towardsdatascience.com/four-visualisation-libraries-that-seamlessly-integrate-with-pandas-dataframe-b0dd851966c2/"
   ]
  },
  {
   "cell_type": "markdown",
   "metadata": {},
   "source": [
    "# Part 1: Pizza \n",
    "\n",
    "Let's start with some fun data that's included with Great Tables which is one of the packages I'll explore. In this first part, I'll work with a dataset provided by Great Table in its package of which provides a year of pizza sales from a pizza place: data.pizzaplace. One of my favorite foods is pizza and I've been able to enjoy some %%%% pies in my life. I installed the Great Tables package to work with in Part 1 and we saw some of those features already and it came with some interesting datasets. I'll use one of those  to test out some additional features of this package, along with etc...."
   ]
  },
  {
   "cell_type": "markdown",
   "metadata": {},
   "source": [
    "## Preliminary Steps - Loading Packages"
   ]
  },
  {
   "cell_type": "code",
   "execution_count": 1,
   "metadata": {
    "Collapsed": "false"
   },
   "outputs": [],
   "source": [
    "# To auto-reload modules in jupyter notebook (so that changes in files *.py doesn't require manual reloading):\n",
    "# https://stackoverflow.com/questions/5364050/reloading-submodules-in-ipython\n",
    "%load_ext autoreload\n",
    "%autoreload 2"
   ]
  },
  {
   "cell_type": "markdown",
   "metadata": {},
   "source": [
    "I installed these packages from the command line first: plotly, Great Tables.....\n",
    "\n",
    "We covered these in my Python class, but for those following along, it's easy to install packages.\n",
    "From any conda environment or using pip install, I typed these commands:\n",
    "\n",
    "For Plotly:\n",
    "```\n",
    "$ conda install -c plotly plotly=5.14.1\n",
    "```\n",
    "And for Great Tables:\n",
    "\n",
    "```\n",
    "pip install great_tables\n",
    "```\n",
    "\n",
    "And for Dash:\n",
    "\n",
    "Dash is the best way to build analytical apps in Python using Plotly figures. To run the app below, run pip install dash, click \"Download\" to get the code and run python app.py (https://plotly.com/python/getting-started/)\n",
    "\n",
    "```\n",
    "$ conda install jupyterlab anywidget\n",
    "```\n",
    "or notebooks:\n",
    "```\n",
    "conda install \"notebook>=7.0\" \"anywidget>=0.9.13\"\n",
    "```\n",
    "Info on Plotly here:\n",
    "https://plotly.com/python/getting-started/\n",
    "\n",
    "And Great Tables:\n",
    "https://posit-dev.github.io/great-tables/reference/\n",
    "and here:\n",
    "https://github.com/posit-dev/great-tables\n",
    "\n",
    "I also checked out the GitHub Discussions on Great Tables here: https://posit-dev.github.io/great-tables/articles/intro.html  along my journey to using the package and the pizza dataset later.\n"
   ]
  },
  {
   "cell_type": "markdown",
   "metadata": {},
   "source": [
    "### Importing Libraries\n",
    "\n",
    "Now we can import them along with our other commonly used libraries and magic command for inline plotting, etc....."
   ]
  },
  {
   "cell_type": "code",
   "execution_count": 2,
   "metadata": {
    "Collapsed": "false"
   },
   "outputs": [],
   "source": [
    "import numpy as np\n",
    "import pandas as pd\n",
    "import matplotlib.pyplot as plt\n",
    "import seaborn as sns\n",
    "import plotly.express as px\n",
    "import plotly.graph_objects as go\n",
    "from great_tables import GT\n"
   ]
  },
  {
   "cell_type": "code",
   "execution_count": 3,
   "metadata": {},
   "outputs": [],
   "source": [
    "%matplotlib inline"
   ]
  },
  {
   "cell_type": "markdown",
   "metadata": {},
   "source": [
    "## Data Reading and Prep\n",
    "\n",
    "First we'll start with reading in the data again and determine what kind of cleaning we need to do to work with it.\n",
    "\n",
    "\n",
    "The first dataset I'll explore is a cleaned up one and simple, so it's a good way to begin looking at the visualization tools before moving onto a more complicated one. \n",
    "I started with something easy - the GT class in Great Tables to lay out the variables "
   ]
  },
  {
   "cell_type": "code",
   "execution_count": 4,
   "metadata": {},
   "outputs": [],
   "source": [
    "# Here we'll import the pizza dataset\n",
    "\n",
    "from great_tables.data import pizzaplace"
   ]
  },
  {
   "cell_type": "markdown",
   "metadata": {},
   "source": [
    "### Topic pizza\n",
    "\n",
    "Take a quick look at the first 10 rows in the dataset with default values and all variables\n",
    "\n"
   ]
  },
  {
   "cell_type": "code",
   "execution_count": 5,
   "metadata": {},
   "outputs": [
    {
     "data": {
      "text/html": [
       "<div id=\"pxkzsnnpzs\" style=\"padding-left:0px;padding-right:0px;padding-top:10px;padding-bottom:10px;overflow-x:auto;overflow-y:auto;width:auto;height:auto;\">\n",
       "<style>\n",
       "#pxkzsnnpzs table {\n",
       "          font-family: -apple-system, BlinkMacSystemFont, 'Segoe UI', Roboto, Oxygen, Ubuntu, Cantarell, 'Helvetica Neue', 'Fira Sans', 'Droid Sans', Arial, sans-serif;\n",
       "          -webkit-font-smoothing: antialiased;\n",
       "          -moz-osx-font-smoothing: grayscale;\n",
       "        }\n",
       "\n",
       "#pxkzsnnpzs thead, tbody, tfoot, tr, td, th { border-style: none; }\n",
       " tr { background-color: transparent; }\n",
       "#pxkzsnnpzs p { margin: 0; padding: 0; }\n",
       " #pxkzsnnpzs .gt_table { display: table; border-collapse: collapse; line-height: normal; margin-left: auto; margin-right: auto; color: #333333; font-size: 16px; font-weight: normal; font-style: normal; background-color: #FFFFFF; width: auto; border-top-style: solid; border-top-width: 2px; border-top-color: #A8A8A8; border-right-style: none; border-right-width: 2px; border-right-color: #D3D3D3; border-bottom-style: solid; border-bottom-width: 2px; border-bottom-color: #A8A8A8; border-left-style: none; border-left-width: 2px; border-left-color: #D3D3D3; }\n",
       " #pxkzsnnpzs .gt_caption { padding-top: 4px; padding-bottom: 4px; }\n",
       " #pxkzsnnpzs .gt_title { color: #333333; font-size: 125%; font-weight: initial; padding-top: 4px; padding-bottom: 4px; padding-left: 5px; padding-right: 5px; border-bottom-color: #FFFFFF; border-bottom-width: 0; }\n",
       " #pxkzsnnpzs .gt_subtitle { color: #333333; font-size: 85%; font-weight: initial; padding-top: 3px; padding-bottom: 5px; padding-left: 5px; padding-right: 5px; border-top-color: #FFFFFF; border-top-width: 0; }\n",
       " #pxkzsnnpzs .gt_heading { background-color: #FFFFFF; text-align: center; border-bottom-color: #FFFFFF; border-left-style: none; border-left-width: 1px; border-left-color: #D3D3D3; border-right-style: none; border-right-width: 1px; border-right-color: #D3D3D3; }\n",
       " #pxkzsnnpzs .gt_bottom_border { border-bottom-style: solid; border-bottom-width: 2px; border-bottom-color: #D3D3D3; }\n",
       " #pxkzsnnpzs .gt_col_headings { border-top-style: solid; border-top-width: 2px; border-top-color: #D3D3D3; border-bottom-style: solid; border-bottom-width: 2px; border-bottom-color: #D3D3D3; border-left-style: none; border-left-width: 1px; border-left-color: #D3D3D3; border-right-style: none; border-right-width: 1px; border-right-color: #D3D3D3; }\n",
       " #pxkzsnnpzs .gt_col_heading { color: #333333; background-color: #FFFFFF; font-size: 100%; font-weight: normal; text-transform: inherit; border-left-style: none; border-left-width: 1px; border-left-color: #D3D3D3; border-right-style: none; border-right-width: 1px; border-right-color: #D3D3D3; vertical-align: bottom; padding-top: 5px; padding-bottom: 5px; padding-left: 5px; padding-right: 5px; overflow-x: hidden; }\n",
       " #pxkzsnnpzs .gt_column_spanner_outer { color: #333333; background-color: #FFFFFF; font-size: 100%; font-weight: normal; text-transform: inherit; padding-top: 0; padding-bottom: 0; padding-left: 4px; padding-right: 4px; }\n",
       " #pxkzsnnpzs .gt_column_spanner_outer:first-child { padding-left: 0; }\n",
       " #pxkzsnnpzs .gt_column_spanner_outer:last-child { padding-right: 0; }\n",
       " #pxkzsnnpzs .gt_column_spanner { border-bottom-style: solid; border-bottom-width: 2px; border-bottom-color: #D3D3D3; vertical-align: bottom; padding-top: 5px; padding-bottom: 5px; overflow-x: hidden; display: inline-block; width: 100%; }\n",
       " #pxkzsnnpzs .gt_spanner_row { border-bottom-style: hidden; }\n",
       " #pxkzsnnpzs .gt_group_heading { padding-top: 8px; padding-bottom: 8px; padding-left: 5px; padding-right: 5px; color: #333333; background-color: #FFFFFF; font-size: 100%; font-weight: initial; text-transform: inherit; border-top-style: solid; border-top-width: 2px; border-top-color: #D3D3D3; border-bottom-style: solid; border-bottom-width: 2px; border-bottom-color: #D3D3D3; border-left-style: none; border-left-width: 1px; border-left-color: #D3D3D3; border-right-style: none; border-right-width: 1px; border-right-color: #D3D3D3; vertical-align: middle; text-align: left; }\n",
       " #pxkzsnnpzs .gt_empty_group_heading { padding: 0.5px; color: #333333; background-color: #FFFFFF; font-size: 100%; font-weight: initial; border-top-style: solid; border-top-width: 2px; border-top-color: #D3D3D3; border-bottom-style: solid; border-bottom-width: 2px; border-bottom-color: #D3D3D3; vertical-align: middle; }\n",
       " #pxkzsnnpzs .gt_from_md> :first-child { margin-top: 0; }\n",
       " #pxkzsnnpzs .gt_from_md> :last-child { margin-bottom: 0; }\n",
       " #pxkzsnnpzs .gt_row { padding-top: 8px; padding-bottom: 8px; padding-left: 5px; padding-right: 5px; margin: 10px; border-top-style: solid; border-top-width: 1px; border-top-color: #D3D3D3; border-left-style: none; border-left-width: 1px; border-left-color: #D3D3D3; border-right-style: none; border-right-width: 1px; border-right-color: #D3D3D3; vertical-align: middle; overflow-x: hidden; }\n",
       " #pxkzsnnpzs .gt_stub { color: #333333; background-color: #FFFFFF; font-size: 100%; font-weight: initial; text-transform: inherit; border-right-style: solid; border-right-width: 2px; border-right-color: #D3D3D3; padding-left: 5px; padding-right: 5px; }\n",
       " #pxkzsnnpzs .gt_stub_row_group { color: #333333; background-color: #FFFFFF; font-size: 100%; font-weight: initial; text-transform: inherit; border-right-style: solid; border-right-width: 2px; border-right-color: #D3D3D3; padding-left: 5px; padding-right: 5px; vertical-align: top; }\n",
       " #pxkzsnnpzs .gt_row_group_first td { border-top-width: 2px; }\n",
       " #pxkzsnnpzs .gt_row_group_first th { border-top-width: 2px; }\n",
       " #pxkzsnnpzs .gt_striped { background-color: rgba(128,128,128,0.05); }\n",
       " #pxkzsnnpzs .gt_table_body { border-top-style: solid; border-top-width: 2px; border-top-color: #D3D3D3; border-bottom-style: solid; border-bottom-width: 2px; border-bottom-color: #D3D3D3; }\n",
       " #pxkzsnnpzs .gt_sourcenotes { color: #333333; background-color: #FFFFFF; border-bottom-style: none; border-bottom-width: 2px; border-bottom-color: #D3D3D3; border-left-style: none; border-left-width: 2px; border-left-color: #D3D3D3; border-right-style: none; border-right-width: 2px; border-right-color: #D3D3D3; }\n",
       " #pxkzsnnpzs .gt_sourcenote { font-size: 90%; padding-top: 4px; padding-bottom: 4px; padding-left: 5px; padding-right: 5px; text-align: left; }\n",
       " #pxkzsnnpzs .gt_left { text-align: left; }\n",
       " #pxkzsnnpzs .gt_center { text-align: center; }\n",
       " #pxkzsnnpzs .gt_right { text-align: right; font-variant-numeric: tabular-nums; }\n",
       " #pxkzsnnpzs .gt_font_normal { font-weight: normal; }\n",
       " #pxkzsnnpzs .gt_font_bold { font-weight: bold; }\n",
       " #pxkzsnnpzs .gt_font_italic { font-style: italic; }\n",
       " #pxkzsnnpzs .gt_super { font-size: 65%; }\n",
       " #pxkzsnnpzs .gt_footnote_marks { font-size: 75%; vertical-align: 0.4em; position: initial; }\n",
       " #pxkzsnnpzs .gt_asterisk { font-size: 100%; vertical-align: 0; }\n",
       " \n",
       "</style>\n",
       "<table class=\"gt_table\" data-quarto-disable-processing=\"false\" data-quarto-bootstrap=\"false\">\n",
       "<thead>\n",
       "\n",
       "<tr class=\"gt_col_headings\">\n",
       "  <th class=\"gt_col_heading gt_columns_bottom_border gt_right\" rowspan=\"1\" colspan=\"1\" scope=\"col\" id=\"id\">id</th>\n",
       "  <th class=\"gt_col_heading gt_columns_bottom_border gt_right\" rowspan=\"1\" colspan=\"1\" scope=\"col\" id=\"date\">date</th>\n",
       "  <th class=\"gt_col_heading gt_columns_bottom_border gt_right\" rowspan=\"1\" colspan=\"1\" scope=\"col\" id=\"time\">time</th>\n",
       "  <th class=\"gt_col_heading gt_columns_bottom_border gt_left\" rowspan=\"1\" colspan=\"1\" scope=\"col\" id=\"name\">name</th>\n",
       "  <th class=\"gt_col_heading gt_columns_bottom_border gt_left\" rowspan=\"1\" colspan=\"1\" scope=\"col\" id=\"size\">size</th>\n",
       "  <th class=\"gt_col_heading gt_columns_bottom_border gt_left\" rowspan=\"1\" colspan=\"1\" scope=\"col\" id=\"type\">type</th>\n",
       "  <th class=\"gt_col_heading gt_columns_bottom_border gt_right\" rowspan=\"1\" colspan=\"1\" scope=\"col\" id=\"price\">price</th>\n",
       "</tr>\n",
       "</thead>\n",
       "<tbody class=\"gt_table_body\">\n",
       "  <tr>\n",
       "    <td class=\"gt_row gt_right\">2015-000001</td>\n",
       "    <td class=\"gt_row gt_right\">2015-01-01</td>\n",
       "    <td class=\"gt_row gt_right\">11:38:36</td>\n",
       "    <td class=\"gt_row gt_left\">hawaiian</td>\n",
       "    <td class=\"gt_row gt_left\">M</td>\n",
       "    <td class=\"gt_row gt_left\">classic</td>\n",
       "    <td class=\"gt_row gt_right\">13.25</td>\n",
       "  </tr>\n",
       "  <tr>\n",
       "    <td class=\"gt_row gt_right\">2015-000002</td>\n",
       "    <td class=\"gt_row gt_right\">2015-01-01</td>\n",
       "    <td class=\"gt_row gt_right\">11:57:40</td>\n",
       "    <td class=\"gt_row gt_left\">classic_dlx</td>\n",
       "    <td class=\"gt_row gt_left\">M</td>\n",
       "    <td class=\"gt_row gt_left\">classic</td>\n",
       "    <td class=\"gt_row gt_right\">16.0</td>\n",
       "  </tr>\n",
       "  <tr>\n",
       "    <td class=\"gt_row gt_right\">2015-000002</td>\n",
       "    <td class=\"gt_row gt_right\">2015-01-01</td>\n",
       "    <td class=\"gt_row gt_right\">11:57:40</td>\n",
       "    <td class=\"gt_row gt_left\">mexicana</td>\n",
       "    <td class=\"gt_row gt_left\">M</td>\n",
       "    <td class=\"gt_row gt_left\">veggie</td>\n",
       "    <td class=\"gt_row gt_right\">16.0</td>\n",
       "  </tr>\n",
       "  <tr>\n",
       "    <td class=\"gt_row gt_right\">2015-000002</td>\n",
       "    <td class=\"gt_row gt_right\">2015-01-01</td>\n",
       "    <td class=\"gt_row gt_right\">11:57:40</td>\n",
       "    <td class=\"gt_row gt_left\">thai_ckn</td>\n",
       "    <td class=\"gt_row gt_left\">L</td>\n",
       "    <td class=\"gt_row gt_left\">chicken</td>\n",
       "    <td class=\"gt_row gt_right\">20.75</td>\n",
       "  </tr>\n",
       "  <tr>\n",
       "    <td class=\"gt_row gt_right\">2015-000002</td>\n",
       "    <td class=\"gt_row gt_right\">2015-01-01</td>\n",
       "    <td class=\"gt_row gt_right\">11:57:40</td>\n",
       "    <td class=\"gt_row gt_left\">five_cheese</td>\n",
       "    <td class=\"gt_row gt_left\">L</td>\n",
       "    <td class=\"gt_row gt_left\">veggie</td>\n",
       "    <td class=\"gt_row gt_right\">18.5</td>\n",
       "  </tr>\n",
       "  <tr>\n",
       "    <td class=\"gt_row gt_right\">2015-000002</td>\n",
       "    <td class=\"gt_row gt_right\">2015-01-01</td>\n",
       "    <td class=\"gt_row gt_right\">11:57:40</td>\n",
       "    <td class=\"gt_row gt_left\">ital_supr</td>\n",
       "    <td class=\"gt_row gt_left\">L</td>\n",
       "    <td class=\"gt_row gt_left\">supreme</td>\n",
       "    <td class=\"gt_row gt_right\">20.75</td>\n",
       "  </tr>\n",
       "  <tr>\n",
       "    <td class=\"gt_row gt_right\">2015-000003</td>\n",
       "    <td class=\"gt_row gt_right\">2015-01-01</td>\n",
       "    <td class=\"gt_row gt_right\">12:12:28</td>\n",
       "    <td class=\"gt_row gt_left\">prsc_argla</td>\n",
       "    <td class=\"gt_row gt_left\">L</td>\n",
       "    <td class=\"gt_row gt_left\">supreme</td>\n",
       "    <td class=\"gt_row gt_right\">20.75</td>\n",
       "  </tr>\n",
       "  <tr>\n",
       "    <td class=\"gt_row gt_right\">2015-000003</td>\n",
       "    <td class=\"gt_row gt_right\">2015-01-01</td>\n",
       "    <td class=\"gt_row gt_right\">12:12:28</td>\n",
       "    <td class=\"gt_row gt_left\">ital_supr</td>\n",
       "    <td class=\"gt_row gt_left\">M</td>\n",
       "    <td class=\"gt_row gt_left\">supreme</td>\n",
       "    <td class=\"gt_row gt_right\">16.5</td>\n",
       "  </tr>\n",
       "  <tr>\n",
       "    <td class=\"gt_row gt_right\">2015-000004</td>\n",
       "    <td class=\"gt_row gt_right\">2015-01-01</td>\n",
       "    <td class=\"gt_row gt_right\">12:16:31</td>\n",
       "    <td class=\"gt_row gt_left\">ital_supr</td>\n",
       "    <td class=\"gt_row gt_left\">M</td>\n",
       "    <td class=\"gt_row gt_left\">supreme</td>\n",
       "    <td class=\"gt_row gt_right\">16.5</td>\n",
       "  </tr>\n",
       "  <tr>\n",
       "    <td class=\"gt_row gt_right\">2015-000005</td>\n",
       "    <td class=\"gt_row gt_right\">2015-01-01</td>\n",
       "    <td class=\"gt_row gt_right\">12:21:30</td>\n",
       "    <td class=\"gt_row gt_left\">ital_supr</td>\n",
       "    <td class=\"gt_row gt_left\">M</td>\n",
       "    <td class=\"gt_row gt_left\">supreme</td>\n",
       "    <td class=\"gt_row gt_right\">16.5</td>\n",
       "  </tr>\n",
       "</tbody>\n",
       "\n",
       "\n",
       "</table>\n",
       "\n",
       "</div>\n",
       "        "
      ],
      "text/plain": [
       "GT(_tbl_data=            id        date      time         name size     type  price\n",
       "0  2015-000001  2015-01-01  11:38:36     hawaiian    M  classic  13.25\n",
       "1  2015-000002  2015-01-01  11:57:40  classic_dlx    M  classic  16.00\n",
       "2  2015-000002  2015-01-01  11:57:40     mexicana    M   veggie  16.00\n",
       "3  2015-000002  2015-01-01  11:57:40     thai_ckn    L  chicken  20.75\n",
       "4  2015-000002  2015-01-01  11:57:40  five_cheese    L   veggie  18.50\n",
       "5  2015-000002  2015-01-01  11:57:40    ital_supr    L  supreme  20.75\n",
       "6  2015-000003  2015-01-01  12:12:28   prsc_argla    L  supreme  20.75\n",
       "7  2015-000003  2015-01-01  12:12:28    ital_supr    M  supreme  16.50\n",
       "8  2015-000004  2015-01-01  12:16:31    ital_supr    M  supreme  16.50\n",
       "9  2015-000005  2015-01-01  12:21:30    ital_supr    M  supreme  16.50, _body=<great_tables._gt_data.Body object at 0x000001EF63C54AA0>, _boxhead=Boxhead([ColInfo(var='id', type=<ColInfoTypeEnum.default: 1>, column_label='id', column_align='right', column_width=None), ColInfo(var='date', type=<ColInfoTypeEnum.default: 1>, column_label='date', column_align='right', column_width=None), ColInfo(var='time', type=<ColInfoTypeEnum.default: 1>, column_label='time', column_align='right', column_width=None), ColInfo(var='name', type=<ColInfoTypeEnum.default: 1>, column_label='name', column_align='left', column_width=None), ColInfo(var='size', type=<ColInfoTypeEnum.default: 1>, column_label='size', column_align='left', column_width=None), ColInfo(var='type', type=<ColInfoTypeEnum.default: 1>, column_label='type', column_align='left', column_width=None), ColInfo(var='price', type=<ColInfoTypeEnum.default: 1>, column_label='price', column_align='right', column_width=None)]), _stub=<great_tables._gt_data.Stub object at 0x000001EF5E1651F0>, _spanners=Spanners([]), _heading=Heading(title=None, subtitle=None, preheader=None), _stubhead=None, _source_notes=[], _footnotes=[], _styles=[], _locale=<great_tables._gt_data.Locale object at 0x000001EF652C7260>, _formats=[], _substitutions=[], _options=Options(table_id=OptionsInfo(scss=False, category='table', type='value', value=None), table_caption=OptionsInfo(scss=False, category='table', type='value', value=None), table_width=OptionsInfo(scss=True, category='table', type='px', value='auto'), table_layout=OptionsInfo(scss=True, category='table', type='value', value='fixed'), table_margin_left=OptionsInfo(scss=True, category='table', type='px', value='auto'), table_margin_right=OptionsInfo(scss=True, category='table', type='px', value='auto'), table_background_color=OptionsInfo(scss=True, category='table', type='value', value='#FFFFFF'), table_additional_css=OptionsInfo(scss=False, category='table', type='values', value=[]), table_font_names=OptionsInfo(scss=False, category='table', type='values', value=['-apple-system', 'BlinkMacSystemFont', 'Segoe UI', 'Roboto', 'Oxygen', 'Ubuntu', 'Cantarell', 'Helvetica Neue', 'Fira Sans', 'Droid Sans', 'Arial', 'sans-serif']), table_font_size=OptionsInfo(scss=True, category='table', type='px', value='16px'), table_font_weight=OptionsInfo(scss=True, category='table', type='value', value='normal'), table_font_style=OptionsInfo(scss=True, category='table', type='value', value='normal'), table_font_color=OptionsInfo(scss=True, category='table', type='value', value='#333333'), table_font_color_light=OptionsInfo(scss=True, category='table', type='value', value='#FFFFFF'), table_border_top_include=OptionsInfo(scss=False, category='table', type='boolean', value=True), table_border_top_style=OptionsInfo(scss=True, category='table', type='value', value='solid'), table_border_top_width=OptionsInfo(scss=True, category='table', type='px', value='2px'), table_border_top_color=OptionsInfo(scss=True, category='table', type='value', value='#A8A8A8'), table_border_right_style=OptionsInfo(scss=True, category='table', type='value', value='none'), table_border_right_width=OptionsInfo(scss=True, category='table', type='px', value='2px'), table_border_right_color=OptionsInfo(scss=True, category='table', type='value', value='#D3D3D3'), table_border_bottom_include=OptionsInfo(scss=False, category='table', type='boolean', value=True), table_border_bottom_style=OptionsInfo(scss=True, category='table', type='value', value='solid'), table_border_bottom_width=OptionsInfo(scss=True, category='table', type='px', value='2px'), table_border_bottom_color=OptionsInfo(scss=True, category='table', type='value', value='#A8A8A8'), table_border_left_style=OptionsInfo(scss=True, category='table', type='value', value='none'), table_border_left_width=OptionsInfo(scss=True, category='table', type='px', value='2px'), table_border_left_color=OptionsInfo(scss=True, category='table', type='value', value='#D3D3D3'), heading_background_color=OptionsInfo(scss=True, category='heading', type='value', value=None), heading_align=OptionsInfo(scss=True, category='heading', type='value', value='center'), heading_title_font_size=OptionsInfo(scss=True, category='heading', type='px', value='125%'), heading_title_font_weight=OptionsInfo(scss=True, category='heading', type='value', value='initial'), heading_subtitle_font_size=OptionsInfo(scss=True, category='heading', type='px', value='85%'), heading_subtitle_font_weight=OptionsInfo(scss=True, category='heading', type='value', value='initial'), heading_padding=OptionsInfo(scss=True, category='heading', type='px', value='4px'), heading_padding_horizontal=OptionsInfo(scss=True, category='heading', type='px', value='5px'), heading_border_bottom_style=OptionsInfo(scss=True, category='heading', type='value', value='solid'), heading_border_bottom_width=OptionsInfo(scss=True, category='heading', type='px', value='2px'), heading_border_bottom_color=OptionsInfo(scss=True, category='heading', type='value', value='#D3D3D3'), heading_border_lr_style=OptionsInfo(scss=True, category='heading', type='value', value='none'), heading_border_lr_width=OptionsInfo(scss=True, category='heading', type='px', value='1px'), heading_border_lr_color=OptionsInfo(scss=True, category='heading', type='value', value='#D3D3D3'), column_labels_background_color=OptionsInfo(scss=True, category='column_labels', type='value', value=None), column_labels_font_size=OptionsInfo(scss=True, category='column_labels', type='px', value='100%'), column_labels_font_weight=OptionsInfo(scss=True, category='column_labels', type='value', value='normal'), column_labels_text_transform=OptionsInfo(scss=True, category='column_labels', type='value', value='inherit'), column_labels_padding=OptionsInfo(scss=True, category='column_labels', type='px', value='5px'), column_labels_padding_horizontal=OptionsInfo(scss=True, category='column_labels', type='px', value='5px'), column_labels_vlines_style=OptionsInfo(scss=True, category='table_body', type='value', value='none'), column_labels_vlines_width=OptionsInfo(scss=True, category='table_body', type='px', value='1px'), column_labels_vlines_color=OptionsInfo(scss=True, category='table_body', type='value', value='#D3D3D3'), column_labels_border_top_style=OptionsInfo(scss=True, category='column_labels', type='value', value='solid'), column_labels_border_top_width=OptionsInfo(scss=True, category='column_labels', type='px', value='2px'), column_labels_border_top_color=OptionsInfo(scss=True, category='column_labels', type='value', value='#D3D3D3'), column_labels_border_bottom_style=OptionsInfo(scss=True, category='column_labels', type='value', value='solid'), column_labels_border_bottom_width=OptionsInfo(scss=True, category='column_labels', type='px', value='2px'), column_labels_border_bottom_color=OptionsInfo(scss=True, category='column_labels', type='value', value='#D3D3D3'), column_labels_border_lr_style=OptionsInfo(scss=True, category='column_labels', type='value', value='none'), column_labels_border_lr_width=OptionsInfo(scss=True, category='column_labels', type='px', value='1px'), column_labels_border_lr_color=OptionsInfo(scss=True, category='column_labels', type='value', value='#D3D3D3'), column_labels_hidden=OptionsInfo(scss=False, category='column_labels', type='boolean', value=False), row_group_background_color=OptionsInfo(scss=True, category='row_group', type='value', value=None), row_group_font_size=OptionsInfo(scss=True, category='row_group', type='px', value='100%'), row_group_font_weight=OptionsInfo(scss=True, category='row_group', type='value', value='initial'), row_group_text_transform=OptionsInfo(scss=True, category='row_group', type='value', value='inherit'), row_group_padding=OptionsInfo(scss=True, category='row_group', type='px', value='8px'), row_group_padding_horizontal=OptionsInfo(scss=True, category='row_group', type='px', value='5px'), row_group_border_top_style=OptionsInfo(scss=True, category='row_group', type='value', value='solid'), row_group_border_top_width=OptionsInfo(scss=True, category='row_group', type='px', value='2px'), row_group_border_top_color=OptionsInfo(scss=True, category='row_group', type='value', value='#D3D3D3'), row_group_border_right_style=OptionsInfo(scss=True, category='row_group', type='value', value='none'), row_group_border_right_width=OptionsInfo(scss=True, category='row_group', type='px', value='1px'), row_group_border_right_color=OptionsInfo(scss=True, category='row_group', type='value', value='#D3D3D3'), row_group_border_bottom_style=OptionsInfo(scss=True, category='row_group', type='value', value='solid'), row_group_border_bottom_width=OptionsInfo(scss=True, category='row_group', type='px', value='2px'), row_group_border_bottom_color=OptionsInfo(scss=True, category='row_group', type='value', value='#D3D3D3'), row_group_border_left_style=OptionsInfo(scss=True, category='row_group', type='value', value='none'), row_group_border_left_width=OptionsInfo(scss=True, category='row_group', type='px', value='1px'), row_group_border_left_color=OptionsInfo(scss=True, category='row_group', type='value', value='#D3D3D3'), row_group_as_column=OptionsInfo(scss=False, category='row_group', type='boolean', value=False), table_body_hlines_style=OptionsInfo(scss=True, category='table_body', type='value', value='solid'), table_body_hlines_width=OptionsInfo(scss=True, category='table_body', type='px', value='1px'), table_body_hlines_color=OptionsInfo(scss=True, category='table_body', type='value', value='#D3D3D3'), table_body_vlines_style=OptionsInfo(scss=True, category='table_body', type='value', value='none'), table_body_vlines_width=OptionsInfo(scss=True, category='table_body', type='px', value='1px'), table_body_vlines_color=OptionsInfo(scss=True, category='table_body', type='value', value='#D3D3D3'), table_body_border_top_style=OptionsInfo(scss=True, category='table_body', type='value', value='solid'), table_body_border_top_width=OptionsInfo(scss=True, category='table_body', type='px', value='2px'), table_body_border_top_color=OptionsInfo(scss=True, category='table_body', type='value', value='#D3D3D3'), table_body_border_bottom_style=OptionsInfo(scss=True, category='table_body', type='value', value='solid'), table_body_border_bottom_width=OptionsInfo(scss=True, category='table_body', type='px', value='2px'), table_body_border_bottom_color=OptionsInfo(scss=True, category='table_body', type='value', value='#D3D3D3'), data_row_padding=OptionsInfo(scss=True, category='data_row', type='px', value='8px'), data_row_padding_horizontal=OptionsInfo(scss=True, category='data_row', type='px', value='5px'), stub_background_color=OptionsInfo(scss=True, category='stub', type='value', value=None), stub_font_size=OptionsInfo(scss=True, category='stub', type='px', value='100%'), stub_font_weight=OptionsInfo(scss=True, category='stub', type='value', value='initial'), stub_text_transform=OptionsInfo(scss=True, category='stub', type='value', value='inherit'), stub_border_style=OptionsInfo(scss=True, category='stub', type='value', value='solid'), stub_border_width=OptionsInfo(scss=True, category='stub', type='px', value='2px'), stub_border_color=OptionsInfo(scss=True, category='stub', type='value', value='#D3D3D3'), stub_row_group_background_color=OptionsInfo(scss=True, category='stub', type='value', value=None), stub_row_group_font_size=OptionsInfo(scss=True, category='stub', type='px', value='100%'), stub_row_group_font_weight=OptionsInfo(scss=True, category='stub', type='value', value='initial'), stub_row_group_text_transform=OptionsInfo(scss=True, category='stub', type='value', value='inherit'), stub_row_group_border_style=OptionsInfo(scss=True, category='stub', type='value', value='solid'), stub_row_group_border_width=OptionsInfo(scss=True, category='stub', type='px', value='2px'), stub_row_group_border_color=OptionsInfo(scss=True, category='stub', type='value', value='#D3D3D3'), source_notes_padding=OptionsInfo(scss=True, category='source_notes', type='px', value='4px'), source_notes_padding_horizontal=OptionsInfo(scss=True, category='source_notes', type='px', value='5px'), source_notes_background_color=OptionsInfo(scss=True, category='source_notes', type='value', value=None), source_notes_font_size=OptionsInfo(scss=True, category='source_notes', type='px', value='90%'), source_notes_border_bottom_style=OptionsInfo(scss=True, category='source_notes', type='value', value='none'), source_notes_border_bottom_width=OptionsInfo(scss=True, category='source_notes', type='px', value='2px'), source_notes_border_bottom_color=OptionsInfo(scss=True, category='source_notes', type='value', value='#D3D3D3'), source_notes_border_lr_style=OptionsInfo(scss=True, category='source_notes', type='value', value='none'), source_notes_border_lr_width=OptionsInfo(scss=True, category='source_notes', type='px', value='2px'), source_notes_border_lr_color=OptionsInfo(scss=True, category='source_notes', type='value', value='#D3D3D3'), source_notes_multiline=OptionsInfo(scss=False, category='source_notes', type='boolean', value=True), source_notes_sep=OptionsInfo(scss=False, category='source_notes', type='value', value=' '), row_striping_background_color=OptionsInfo(scss=True, category='row', type='value', value='rgba(128,128,128,0.05)'), row_striping_include_stub=OptionsInfo(scss=False, category='row', type='boolean', value=False), row_striping_include_table_body=OptionsInfo(scss=False, category='row', type='boolean', value=False), container_width=OptionsInfo(scss=False, category='container', type='px', value='auto'), container_height=OptionsInfo(scss=False, category='container', type='px', value='auto'), container_padding_x=OptionsInfo(scss=False, category='container', type='px', value='0px'), container_padding_y=OptionsInfo(scss=False, category='container', type='px', value='10px'), container_overflow_x=OptionsInfo(scss=False, category='container', type='overflow', value='auto'), container_overflow_y=OptionsInfo(scss=False, category='container', type='overflow', value='auto'), quarto_disable_processing=OptionsInfo(scss=False, category='quarto', type='logical', value=False), quarto_use_bootstrap=OptionsInfo(scss=False, category='quarto', type='logical', value=False)), _has_built=False)"
      ]
     },
     "execution_count": 5,
     "metadata": {},
     "output_type": "execute_result"
    }
   ],
   "source": [
    "# Create a display table showing ten first records \n",
    "\n",
    "pizza_mini = pizzaplace.head(10)\n",
    "gt_tbl = GT(pizza_mini)\n",
    "\n",
    "# Show the output table\n",
    "# If working in the console, use gt_tbl.show()\n",
    "gt_tbl"
   ]
  },
  {
   "cell_type": "markdown",
   "metadata": {},
   "source": [
    "Does Great tables (GT) provide information? No, it really only makes display tables. But you can modify and add columns, format the data, and ????? Let's remove the id, and format the date and time differently and change our price to currency."
   ]
  },
  {
   "cell_type": "markdown",
   "metadata": {},
   "source": [
    "### Formatting\n",
    "\n",
    "We append each field we want to format with the column name and relevant formatting methods: fmt.currency, fmt.date etc"
   ]
  },
  {
   "cell_type": "code",
   "execution_count": 6,
   "metadata": {},
   "outputs": [
    {
     "data": {
      "text/html": [
       "<div id=\"bekecbvlib\" style=\"padding-left:0px;padding-right:0px;padding-top:10px;padding-bottom:10px;overflow-x:auto;overflow-y:auto;width:auto;height:auto;\">\n",
       "<style>\n",
       "#bekecbvlib table {\n",
       "          font-family: -apple-system, BlinkMacSystemFont, 'Segoe UI', Roboto, Oxygen, Ubuntu, Cantarell, 'Helvetica Neue', 'Fira Sans', 'Droid Sans', Arial, sans-serif;\n",
       "          -webkit-font-smoothing: antialiased;\n",
       "          -moz-osx-font-smoothing: grayscale;\n",
       "        }\n",
       "\n",
       "#bekecbvlib thead, tbody, tfoot, tr, td, th { border-style: none; }\n",
       " tr { background-color: transparent; }\n",
       "#bekecbvlib p { margin: 0; padding: 0; }\n",
       " #bekecbvlib .gt_table { display: table; border-collapse: collapse; line-height: normal; margin-left: auto; margin-right: auto; color: #333333; font-size: 16px; font-weight: normal; font-style: normal; background-color: #FFFFFF; width: auto; border-top-style: solid; border-top-width: 2px; border-top-color: #A8A8A8; border-right-style: none; border-right-width: 2px; border-right-color: #D3D3D3; border-bottom-style: solid; border-bottom-width: 2px; border-bottom-color: #A8A8A8; border-left-style: none; border-left-width: 2px; border-left-color: #D3D3D3; }\n",
       " #bekecbvlib .gt_caption { padding-top: 4px; padding-bottom: 4px; }\n",
       " #bekecbvlib .gt_title { color: #333333; font-size: 125%; font-weight: initial; padding-top: 4px; padding-bottom: 4px; padding-left: 5px; padding-right: 5px; border-bottom-color: #FFFFFF; border-bottom-width: 0; }\n",
       " #bekecbvlib .gt_subtitle { color: #333333; font-size: 85%; font-weight: initial; padding-top: 3px; padding-bottom: 5px; padding-left: 5px; padding-right: 5px; border-top-color: #FFFFFF; border-top-width: 0; }\n",
       " #bekecbvlib .gt_heading { background-color: #FFFFFF; text-align: center; border-bottom-color: #FFFFFF; border-left-style: none; border-left-width: 1px; border-left-color: #D3D3D3; border-right-style: none; border-right-width: 1px; border-right-color: #D3D3D3; }\n",
       " #bekecbvlib .gt_bottom_border { border-bottom-style: solid; border-bottom-width: 2px; border-bottom-color: #D3D3D3; }\n",
       " #bekecbvlib .gt_col_headings { border-top-style: solid; border-top-width: 2px; border-top-color: #D3D3D3; border-bottom-style: solid; border-bottom-width: 2px; border-bottom-color: #D3D3D3; border-left-style: none; border-left-width: 1px; border-left-color: #D3D3D3; border-right-style: none; border-right-width: 1px; border-right-color: #D3D3D3; }\n",
       " #bekecbvlib .gt_col_heading { color: #333333; background-color: #FFFFFF; font-size: 100%; font-weight: normal; text-transform: inherit; border-left-style: none; border-left-width: 1px; border-left-color: #D3D3D3; border-right-style: none; border-right-width: 1px; border-right-color: #D3D3D3; vertical-align: bottom; padding-top: 5px; padding-bottom: 5px; padding-left: 5px; padding-right: 5px; overflow-x: hidden; }\n",
       " #bekecbvlib .gt_column_spanner_outer { color: #333333; background-color: #FFFFFF; font-size: 100%; font-weight: normal; text-transform: inherit; padding-top: 0; padding-bottom: 0; padding-left: 4px; padding-right: 4px; }\n",
       " #bekecbvlib .gt_column_spanner_outer:first-child { padding-left: 0; }\n",
       " #bekecbvlib .gt_column_spanner_outer:last-child { padding-right: 0; }\n",
       " #bekecbvlib .gt_column_spanner { border-bottom-style: solid; border-bottom-width: 2px; border-bottom-color: #D3D3D3; vertical-align: bottom; padding-top: 5px; padding-bottom: 5px; overflow-x: hidden; display: inline-block; width: 100%; }\n",
       " #bekecbvlib .gt_spanner_row { border-bottom-style: hidden; }\n",
       " #bekecbvlib .gt_group_heading { padding-top: 8px; padding-bottom: 8px; padding-left: 5px; padding-right: 5px; color: #333333; background-color: #FFFFFF; font-size: 100%; font-weight: initial; text-transform: inherit; border-top-style: solid; border-top-width: 2px; border-top-color: #D3D3D3; border-bottom-style: solid; border-bottom-width: 2px; border-bottom-color: #D3D3D3; border-left-style: none; border-left-width: 1px; border-left-color: #D3D3D3; border-right-style: none; border-right-width: 1px; border-right-color: #D3D3D3; vertical-align: middle; text-align: left; }\n",
       " #bekecbvlib .gt_empty_group_heading { padding: 0.5px; color: #333333; background-color: #FFFFFF; font-size: 100%; font-weight: initial; border-top-style: solid; border-top-width: 2px; border-top-color: #D3D3D3; border-bottom-style: solid; border-bottom-width: 2px; border-bottom-color: #D3D3D3; vertical-align: middle; }\n",
       " #bekecbvlib .gt_from_md> :first-child { margin-top: 0; }\n",
       " #bekecbvlib .gt_from_md> :last-child { margin-bottom: 0; }\n",
       " #bekecbvlib .gt_row { padding-top: 8px; padding-bottom: 8px; padding-left: 5px; padding-right: 5px; margin: 10px; border-top-style: solid; border-top-width: 1px; border-top-color: #D3D3D3; border-left-style: none; border-left-width: 1px; border-left-color: #D3D3D3; border-right-style: none; border-right-width: 1px; border-right-color: #D3D3D3; vertical-align: middle; overflow-x: hidden; }\n",
       " #bekecbvlib .gt_stub { color: #333333; background-color: #FFFFFF; font-size: 100%; font-weight: initial; text-transform: inherit; border-right-style: solid; border-right-width: 2px; border-right-color: #D3D3D3; padding-left: 5px; padding-right: 5px; }\n",
       " #bekecbvlib .gt_stub_row_group { color: #333333; background-color: #FFFFFF; font-size: 100%; font-weight: initial; text-transform: inherit; border-right-style: solid; border-right-width: 2px; border-right-color: #D3D3D3; padding-left: 5px; padding-right: 5px; vertical-align: top; }\n",
       " #bekecbvlib .gt_row_group_first td { border-top-width: 2px; }\n",
       " #bekecbvlib .gt_row_group_first th { border-top-width: 2px; }\n",
       " #bekecbvlib .gt_striped { background-color: rgba(128,128,128,0.05); }\n",
       " #bekecbvlib .gt_table_body { border-top-style: solid; border-top-width: 2px; border-top-color: #D3D3D3; border-bottom-style: solid; border-bottom-width: 2px; border-bottom-color: #D3D3D3; }\n",
       " #bekecbvlib .gt_sourcenotes { color: #333333; background-color: #FFFFFF; border-bottom-style: none; border-bottom-width: 2px; border-bottom-color: #D3D3D3; border-left-style: none; border-left-width: 2px; border-left-color: #D3D3D3; border-right-style: none; border-right-width: 2px; border-right-color: #D3D3D3; }\n",
       " #bekecbvlib .gt_sourcenote { font-size: 90%; padding-top: 4px; padding-bottom: 4px; padding-left: 5px; padding-right: 5px; text-align: left; }\n",
       " #bekecbvlib .gt_left { text-align: left; }\n",
       " #bekecbvlib .gt_center { text-align: center; }\n",
       " #bekecbvlib .gt_right { text-align: right; font-variant-numeric: tabular-nums; }\n",
       " #bekecbvlib .gt_font_normal { font-weight: normal; }\n",
       " #bekecbvlib .gt_font_bold { font-weight: bold; }\n",
       " #bekecbvlib .gt_font_italic { font-style: italic; }\n",
       " #bekecbvlib .gt_super { font-size: 65%; }\n",
       " #bekecbvlib .gt_footnote_marks { font-size: 75%; vertical-align: 0.4em; position: initial; }\n",
       " #bekecbvlib .gt_asterisk { font-size: 100%; vertical-align: 0; }\n",
       " \n",
       "</style>\n",
       "<table class=\"gt_table\" data-quarto-disable-processing=\"false\" data-quarto-bootstrap=\"false\">\n",
       "<thead>\n",
       "\n",
       "<tr class=\"gt_col_headings\">\n",
       "  <th class=\"gt_col_heading gt_columns_bottom_border gt_right\" rowspan=\"1\" colspan=\"1\" scope=\"col\" id=\"date\">date</th>\n",
       "  <th class=\"gt_col_heading gt_columns_bottom_border gt_right\" rowspan=\"1\" colspan=\"1\" scope=\"col\" id=\"time\">time</th>\n",
       "  <th class=\"gt_col_heading gt_columns_bottom_border gt_left\" rowspan=\"1\" colspan=\"1\" scope=\"col\" id=\"type\">type</th>\n",
       "  <th class=\"gt_col_heading gt_columns_bottom_border gt_right\" rowspan=\"1\" colspan=\"1\" scope=\"col\" id=\"price\">price</th>\n",
       "</tr>\n",
       "</thead>\n",
       "<tbody class=\"gt_table_body\">\n",
       "  <tr>\n",
       "    <td class=\"gt_row gt_right\">Jan 1, 2015</td>\n",
       "    <td class=\"gt_row gt_right\">11:38 AM</td>\n",
       "    <td class=\"gt_row gt_left\">classic</td>\n",
       "    <td class=\"gt_row gt_right\">$13.25</td>\n",
       "  </tr>\n",
       "  <tr>\n",
       "    <td class=\"gt_row gt_right\">Jan 1, 2015</td>\n",
       "    <td class=\"gt_row gt_right\">11:57 AM</td>\n",
       "    <td class=\"gt_row gt_left\">classic</td>\n",
       "    <td class=\"gt_row gt_right\">$16.00</td>\n",
       "  </tr>\n",
       "  <tr>\n",
       "    <td class=\"gt_row gt_right\">Jan 1, 2015</td>\n",
       "    <td class=\"gt_row gt_right\">11:57 AM</td>\n",
       "    <td class=\"gt_row gt_left\">veggie</td>\n",
       "    <td class=\"gt_row gt_right\">$16.00</td>\n",
       "  </tr>\n",
       "  <tr>\n",
       "    <td class=\"gt_row gt_right\">Jan 1, 2015</td>\n",
       "    <td class=\"gt_row gt_right\">11:57 AM</td>\n",
       "    <td class=\"gt_row gt_left\">chicken</td>\n",
       "    <td class=\"gt_row gt_right\">$20.75</td>\n",
       "  </tr>\n",
       "  <tr>\n",
       "    <td class=\"gt_row gt_right\">Jan 1, 2015</td>\n",
       "    <td class=\"gt_row gt_right\">11:57 AM</td>\n",
       "    <td class=\"gt_row gt_left\">veggie</td>\n",
       "    <td class=\"gt_row gt_right\">$18.50</td>\n",
       "  </tr>\n",
       "</tbody>\n",
       "\n",
       "\n",
       "</table>\n",
       "\n",
       "</div>\n",
       "        "
      ],
      "text/plain": [
       "GT(_tbl_data=         date      time     type  price\n",
       "0  2015-01-01  11:38:36  classic  13.25\n",
       "1  2015-01-01  11:57:40  classic  16.00\n",
       "2  2015-01-01  11:57:40   veggie  16.00\n",
       "3  2015-01-01  11:57:40  chicken  20.75\n",
       "4  2015-01-01  11:57:40   veggie  18.50, _body=<great_tables._gt_data.Body object at 0x000001EF6579CAA0>, _boxhead=Boxhead([ColInfo(var='date', type=<ColInfoTypeEnum.default: 1>, column_label='date', column_align='right', column_width=None), ColInfo(var='time', type=<ColInfoTypeEnum.default: 1>, column_label='time', column_align='right', column_width=None), ColInfo(var='type', type=<ColInfoTypeEnum.default: 1>, column_label='type', column_align='left', column_width=None), ColInfo(var='price', type=<ColInfoTypeEnum.default: 1>, column_label='price', column_align='right', column_width=None)]), _stub=<great_tables._gt_data.Stub object at 0x000001EF652C6690>, _spanners=Spanners([]), _heading=Heading(title=None, subtitle=None, preheader=None), _stubhead=None, _source_notes=[], _footnotes=[], _styles=[], _locale=<great_tables._gt_data.Locale object at 0x000001EF652F45F0>, _formats=[<great_tables._gt_data.FormatInfo object at 0x000001EF635D1370>, <great_tables._gt_data.FormatInfo object at 0x000001EF652F46B0>, <great_tables._gt_data.FormatInfo object at 0x000001EF652F47A0>], _substitutions=[], _options=Options(table_id=OptionsInfo(scss=False, category='table', type='value', value=None), table_caption=OptionsInfo(scss=False, category='table', type='value', value=None), table_width=OptionsInfo(scss=True, category='table', type='px', value='auto'), table_layout=OptionsInfo(scss=True, category='table', type='value', value='fixed'), table_margin_left=OptionsInfo(scss=True, category='table', type='px', value='auto'), table_margin_right=OptionsInfo(scss=True, category='table', type='px', value='auto'), table_background_color=OptionsInfo(scss=True, category='table', type='value', value='#FFFFFF'), table_additional_css=OptionsInfo(scss=False, category='table', type='values', value=[]), table_font_names=OptionsInfo(scss=False, category='table', type='values', value=['-apple-system', 'BlinkMacSystemFont', 'Segoe UI', 'Roboto', 'Oxygen', 'Ubuntu', 'Cantarell', 'Helvetica Neue', 'Fira Sans', 'Droid Sans', 'Arial', 'sans-serif']), table_font_size=OptionsInfo(scss=True, category='table', type='px', value='16px'), table_font_weight=OptionsInfo(scss=True, category='table', type='value', value='normal'), table_font_style=OptionsInfo(scss=True, category='table', type='value', value='normal'), table_font_color=OptionsInfo(scss=True, category='table', type='value', value='#333333'), table_font_color_light=OptionsInfo(scss=True, category='table', type='value', value='#FFFFFF'), table_border_top_include=OptionsInfo(scss=False, category='table', type='boolean', value=True), table_border_top_style=OptionsInfo(scss=True, category='table', type='value', value='solid'), table_border_top_width=OptionsInfo(scss=True, category='table', type='px', value='2px'), table_border_top_color=OptionsInfo(scss=True, category='table', type='value', value='#A8A8A8'), table_border_right_style=OptionsInfo(scss=True, category='table', type='value', value='none'), table_border_right_width=OptionsInfo(scss=True, category='table', type='px', value='2px'), table_border_right_color=OptionsInfo(scss=True, category='table', type='value', value='#D3D3D3'), table_border_bottom_include=OptionsInfo(scss=False, category='table', type='boolean', value=True), table_border_bottom_style=OptionsInfo(scss=True, category='table', type='value', value='solid'), table_border_bottom_width=OptionsInfo(scss=True, category='table', type='px', value='2px'), table_border_bottom_color=OptionsInfo(scss=True, category='table', type='value', value='#A8A8A8'), table_border_left_style=OptionsInfo(scss=True, category='table', type='value', value='none'), table_border_left_width=OptionsInfo(scss=True, category='table', type='px', value='2px'), table_border_left_color=OptionsInfo(scss=True, category='table', type='value', value='#D3D3D3'), heading_background_color=OptionsInfo(scss=True, category='heading', type='value', value=None), heading_align=OptionsInfo(scss=True, category='heading', type='value', value='center'), heading_title_font_size=OptionsInfo(scss=True, category='heading', type='px', value='125%'), heading_title_font_weight=OptionsInfo(scss=True, category='heading', type='value', value='initial'), heading_subtitle_font_size=OptionsInfo(scss=True, category='heading', type='px', value='85%'), heading_subtitle_font_weight=OptionsInfo(scss=True, category='heading', type='value', value='initial'), heading_padding=OptionsInfo(scss=True, category='heading', type='px', value='4px'), heading_padding_horizontal=OptionsInfo(scss=True, category='heading', type='px', value='5px'), heading_border_bottom_style=OptionsInfo(scss=True, category='heading', type='value', value='solid'), heading_border_bottom_width=OptionsInfo(scss=True, category='heading', type='px', value='2px'), heading_border_bottom_color=OptionsInfo(scss=True, category='heading', type='value', value='#D3D3D3'), heading_border_lr_style=OptionsInfo(scss=True, category='heading', type='value', value='none'), heading_border_lr_width=OptionsInfo(scss=True, category='heading', type='px', value='1px'), heading_border_lr_color=OptionsInfo(scss=True, category='heading', type='value', value='#D3D3D3'), column_labels_background_color=OptionsInfo(scss=True, category='column_labels', type='value', value=None), column_labels_font_size=OptionsInfo(scss=True, category='column_labels', type='px', value='100%'), column_labels_font_weight=OptionsInfo(scss=True, category='column_labels', type='value', value='normal'), column_labels_text_transform=OptionsInfo(scss=True, category='column_labels', type='value', value='inherit'), column_labels_padding=OptionsInfo(scss=True, category='column_labels', type='px', value='5px'), column_labels_padding_horizontal=OptionsInfo(scss=True, category='column_labels', type='px', value='5px'), column_labels_vlines_style=OptionsInfo(scss=True, category='table_body', type='value', value='none'), column_labels_vlines_width=OptionsInfo(scss=True, category='table_body', type='px', value='1px'), column_labels_vlines_color=OptionsInfo(scss=True, category='table_body', type='value', value='#D3D3D3'), column_labels_border_top_style=OptionsInfo(scss=True, category='column_labels', type='value', value='solid'), column_labels_border_top_width=OptionsInfo(scss=True, category='column_labels', type='px', value='2px'), column_labels_border_top_color=OptionsInfo(scss=True, category='column_labels', type='value', value='#D3D3D3'), column_labels_border_bottom_style=OptionsInfo(scss=True, category='column_labels', type='value', value='solid'), column_labels_border_bottom_width=OptionsInfo(scss=True, category='column_labels', type='px', value='2px'), column_labels_border_bottom_color=OptionsInfo(scss=True, category='column_labels', type='value', value='#D3D3D3'), column_labels_border_lr_style=OptionsInfo(scss=True, category='column_labels', type='value', value='none'), column_labels_border_lr_width=OptionsInfo(scss=True, category='column_labels', type='px', value='1px'), column_labels_border_lr_color=OptionsInfo(scss=True, category='column_labels', type='value', value='#D3D3D3'), column_labels_hidden=OptionsInfo(scss=False, category='column_labels', type='boolean', value=False), row_group_background_color=OptionsInfo(scss=True, category='row_group', type='value', value=None), row_group_font_size=OptionsInfo(scss=True, category='row_group', type='px', value='100%'), row_group_font_weight=OptionsInfo(scss=True, category='row_group', type='value', value='initial'), row_group_text_transform=OptionsInfo(scss=True, category='row_group', type='value', value='inherit'), row_group_padding=OptionsInfo(scss=True, category='row_group', type='px', value='8px'), row_group_padding_horizontal=OptionsInfo(scss=True, category='row_group', type='px', value='5px'), row_group_border_top_style=OptionsInfo(scss=True, category='row_group', type='value', value='solid'), row_group_border_top_width=OptionsInfo(scss=True, category='row_group', type='px', value='2px'), row_group_border_top_color=OptionsInfo(scss=True, category='row_group', type='value', value='#D3D3D3'), row_group_border_right_style=OptionsInfo(scss=True, category='row_group', type='value', value='none'), row_group_border_right_width=OptionsInfo(scss=True, category='row_group', type='px', value='1px'), row_group_border_right_color=OptionsInfo(scss=True, category='row_group', type='value', value='#D3D3D3'), row_group_border_bottom_style=OptionsInfo(scss=True, category='row_group', type='value', value='solid'), row_group_border_bottom_width=OptionsInfo(scss=True, category='row_group', type='px', value='2px'), row_group_border_bottom_color=OptionsInfo(scss=True, category='row_group', type='value', value='#D3D3D3'), row_group_border_left_style=OptionsInfo(scss=True, category='row_group', type='value', value='none'), row_group_border_left_width=OptionsInfo(scss=True, category='row_group', type='px', value='1px'), row_group_border_left_color=OptionsInfo(scss=True, category='row_group', type='value', value='#D3D3D3'), row_group_as_column=OptionsInfo(scss=False, category='row_group', type='boolean', value=False), table_body_hlines_style=OptionsInfo(scss=True, category='table_body', type='value', value='solid'), table_body_hlines_width=OptionsInfo(scss=True, category='table_body', type='px', value='1px'), table_body_hlines_color=OptionsInfo(scss=True, category='table_body', type='value', value='#D3D3D3'), table_body_vlines_style=OptionsInfo(scss=True, category='table_body', type='value', value='none'), table_body_vlines_width=OptionsInfo(scss=True, category='table_body', type='px', value='1px'), table_body_vlines_color=OptionsInfo(scss=True, category='table_body', type='value', value='#D3D3D3'), table_body_border_top_style=OptionsInfo(scss=True, category='table_body', type='value', value='solid'), table_body_border_top_width=OptionsInfo(scss=True, category='table_body', type='px', value='2px'), table_body_border_top_color=OptionsInfo(scss=True, category='table_body', type='value', value='#D3D3D3'), table_body_border_bottom_style=OptionsInfo(scss=True, category='table_body', type='value', value='solid'), table_body_border_bottom_width=OptionsInfo(scss=True, category='table_body', type='px', value='2px'), table_body_border_bottom_color=OptionsInfo(scss=True, category='table_body', type='value', value='#D3D3D3'), data_row_padding=OptionsInfo(scss=True, category='data_row', type='px', value='8px'), data_row_padding_horizontal=OptionsInfo(scss=True, category='data_row', type='px', value='5px'), stub_background_color=OptionsInfo(scss=True, category='stub', type='value', value=None), stub_font_size=OptionsInfo(scss=True, category='stub', type='px', value='100%'), stub_font_weight=OptionsInfo(scss=True, category='stub', type='value', value='initial'), stub_text_transform=OptionsInfo(scss=True, category='stub', type='value', value='inherit'), stub_border_style=OptionsInfo(scss=True, category='stub', type='value', value='solid'), stub_border_width=OptionsInfo(scss=True, category='stub', type='px', value='2px'), stub_border_color=OptionsInfo(scss=True, category='stub', type='value', value='#D3D3D3'), stub_row_group_background_color=OptionsInfo(scss=True, category='stub', type='value', value=None), stub_row_group_font_size=OptionsInfo(scss=True, category='stub', type='px', value='100%'), stub_row_group_font_weight=OptionsInfo(scss=True, category='stub', type='value', value='initial'), stub_row_group_text_transform=OptionsInfo(scss=True, category='stub', type='value', value='inherit'), stub_row_group_border_style=OptionsInfo(scss=True, category='stub', type='value', value='solid'), stub_row_group_border_width=OptionsInfo(scss=True, category='stub', type='px', value='2px'), stub_row_group_border_color=OptionsInfo(scss=True, category='stub', type='value', value='#D3D3D3'), source_notes_padding=OptionsInfo(scss=True, category='source_notes', type='px', value='4px'), source_notes_padding_horizontal=OptionsInfo(scss=True, category='source_notes', type='px', value='5px'), source_notes_background_color=OptionsInfo(scss=True, category='source_notes', type='value', value=None), source_notes_font_size=OptionsInfo(scss=True, category='source_notes', type='px', value='90%'), source_notes_border_bottom_style=OptionsInfo(scss=True, category='source_notes', type='value', value='none'), source_notes_border_bottom_width=OptionsInfo(scss=True, category='source_notes', type='px', value='2px'), source_notes_border_bottom_color=OptionsInfo(scss=True, category='source_notes', type='value', value='#D3D3D3'), source_notes_border_lr_style=OptionsInfo(scss=True, category='source_notes', type='value', value='none'), source_notes_border_lr_width=OptionsInfo(scss=True, category='source_notes', type='px', value='2px'), source_notes_border_lr_color=OptionsInfo(scss=True, category='source_notes', type='value', value='#D3D3D3'), source_notes_multiline=OptionsInfo(scss=False, category='source_notes', type='boolean', value=True), source_notes_sep=OptionsInfo(scss=False, category='source_notes', type='value', value=' '), row_striping_background_color=OptionsInfo(scss=True, category='row', type='value', value='rgba(128,128,128,0.05)'), row_striping_include_stub=OptionsInfo(scss=False, category='row', type='boolean', value=False), row_striping_include_table_body=OptionsInfo(scss=False, category='row', type='boolean', value=False), container_width=OptionsInfo(scss=False, category='container', type='px', value='auto'), container_height=OptionsInfo(scss=False, category='container', type='px', value='auto'), container_padding_x=OptionsInfo(scss=False, category='container', type='px', value='0px'), container_padding_y=OptionsInfo(scss=False, category='container', type='px', value='10px'), container_overflow_x=OptionsInfo(scss=False, category='container', type='overflow', value='auto'), container_overflow_y=OptionsInfo(scss=False, category='container', type='overflow', value='auto'), quarto_disable_processing=OptionsInfo(scss=False, category='quarto', type='logical', value=False), quarto_use_bootstrap=OptionsInfo(scss=False, category='quarto', type='logical', value=False)), _has_built=False)"
      ]
     },
     "execution_count": 6,
     "metadata": {},
     "output_type": "execute_result"
    }
   ],
   "source": [
    "from great_tables import vals\n",
    "\n",
    "# we can drop just include the fields we want by adding them to our next mini set\n",
    "# Is there way to add 10 records at bottom????\n",
    "\n",
    "gt_pizza2 = GT(pizza_mini[[\"date\", \"time\", \"type\" ,\"price\"]].head(5))\n",
    "gt_pizza2 = gt_pizza2.fmt_currency(columns=\"price\").fmt_date(columns=\"date\", date_style=\"m_day_year\").fmt_time(columns=\"time\", time_style=\"h_m_p\")\n",
    "\n",
    "gt_pizza2"
   ]
  },
  {
   "cell_type": "code",
   "execution_count": 7,
   "metadata": {},
   "outputs": [],
   "source": [
    "# Col Spanner\n",
    "# Nanoplots - Line and bar plots"
   ]
  },
  {
   "cell_type": "markdown",
   "metadata": {},
   "source": [
    "Now let's move the dataset into a dataframe so we can manipulate the data and create more interesting tables. GT supports both pandas and polars. Let's create a pandas dataframe."
   ]
  },
  {
   "cell_type": "markdown",
   "metadata": {},
   "source": [
    "### Moving our dataset to a Dataframe\n",
    "\n",
    "We have several ways to move our data into a Dataframe. We can use the csv file that Great Tables provides and read in the data that way."
   ]
  },
  {
   "cell_type": "code",
   "execution_count": 8,
   "metadata": {},
   "outputs": [
    {
     "name": "stdout",
     "output_type": "stream",
     "text": [
      "             id        date      time          name size     type  price\n",
      "0   2015-000001  2015-01-01  11:38:36      hawaiian    M  classic  13.25\n",
      "1   2015-000002  2015-01-01  11:57:40   classic_dlx    M  classic  16.00\n",
      "2   2015-000002  2015-01-01  11:57:40      mexicana    M   veggie  16.00\n",
      "3   2015-000002  2015-01-01  11:57:40      thai_ckn    L  chicken  20.75\n",
      "4   2015-000002  2015-01-01  11:57:40   five_cheese    L   veggie  18.50\n",
      "..          ...         ...       ...           ...  ...      ...    ...\n",
      "95  2015-000038  2015-01-01  17:03:00      hawaiian    S  classic  10.50\n",
      "96  2015-000039  2015-01-01  17:07:23     ital_supr    L  supreme  20.75\n",
      "97  2015-000040  2015-01-01  17:14:36    southw_ckn    S  chicken  12.75\n",
      "98  2015-000040  2015-01-01  17:14:36   four_cheese    L   veggie  17.95\n",
      "99  2015-000041  2015-01-01  17:15:20  green_garden    S   veggie  12.00\n",
      "\n",
      "[100 rows x 7 columns]\n"
     ]
    }
   ],
   "source": [
    "# Dataframe using Pandas\n",
    "\n",
    "pizza_csv = '../../data/pizzaplace.csv'\n",
    "\n",
    "df_pizza = pd.read_csv(pizza_csv)\n",
    "# Getting first 3 rows from the DataFrame\n",
    "df_pizza_mini = df_pizza.head(100)\n",
    "print(df_pizza_mini)"
   ]
  },
  {
   "cell_type": "code",
   "execution_count": 9,
   "metadata": {},
   "outputs": [],
   "source": [
    "# Change time to hour only - with am and pm - and date to month / year only\n",
    "# add col of quantity - random generated 1-5 \n"
   ]
  },
  {
   "cell_type": "code",
   "execution_count": 10,
   "metadata": {},
   "outputs": [],
   "source": [
    "# Time series of entire data set.....\n",
    "\n"
   ]
  },
  {
   "cell_type": "code",
   "execution_count": 11,
   "metadata": {},
   "outputs": [
    {
     "ename": "SyntaxError",
     "evalue": "invalid syntax (361281054.py, line 4)",
     "output_type": "error",
     "traceback": [
      "\u001b[1;36m  Cell \u001b[1;32mIn[11], line 4\u001b[1;36m\u001b[0m\n\u001b[1;33m    print(df_pandas(:10))\u001b[0m\n\u001b[1;37m                    ^\u001b[0m\n\u001b[1;31mSyntaxError\u001b[0m\u001b[1;31m:\u001b[0m invalid syntax\n"
     ]
    }
   ],
   "source": [
    "# with Polars\n",
    "\n",
    "df_polars = pl.from_pandas(p)\n",
    "print(df_pandas(:10))"
   ]
  },
  {
   "cell_type": "markdown",
   "metadata": {},
   "source": [
    "Great Tables works with pandas and polars. Polars is similar to pandas except does not use an index like pandas. Other blah blah"
   ]
  },
  {
   "cell_type": "code",
   "execution_count": null,
   "metadata": {},
   "outputs": [],
   "source": [
    "# replace dataframe with pizza data\n",
    "\n",
    "#df_pizza_mini = pd.DataFrame(\n",
    "#    {   \"example\": [\"Row \" + str(x) for x in range(1, 5)],\n",
    "#        \"numbers\": [\n",
    "#        ],\n",
    "#    }\n",
    "#)\n",
    "\n",
    "GT(df_pizza_mini).fmt_nanoplot(columns=\"price\")"
   ]
  },
  {
   "cell_type": "markdown",
   "metadata": {},
   "source": [
    "### EDA\n",
    "\n",
    "First, let's use Seaborn which I've used with R and would like to test it with Python."
   ]
  },
  {
   "cell_type": "code",
   "execution_count": null,
   "metadata": {},
   "outputs": [],
   "source": [
    "categoricals = ['BusinessTravel', 'Department', 'EducationField']\n",
    "fig, axs = plt.subplots(6, 3, sharey=True, figsize=(12,18))\n",
    "for feature, ax in zip(categoricals, axs.flatten()):\n",
    "    vc = train[feature].value_counts()\n",
    "    ind = vc.index\n",
    "    if ind.dtype == np.int64: ind = np.sort(ind)\n",
    "    vc = vc.reindex(ind)\n",
    "    vc_no = train[feature][train.Attrition == 0].value_counts().reindex(ind)\n",
    "    vc_yes = train[feature][train.Attrition == 1].value_counts().reindex(ind)\n",
    "\n",
    "    width = vc / vc.max() * 0.9\n",
    "    ax.bar(range(len(vc)), vc_yes / vc, width=width, color='red')\n",
    "    ax.bar(range(len(vc)), vc_no / vc, bottom=vc_yes / vc, width=width, color='cyan')\n",
    "\n",
    "    rotation = 0 if ind.dtype == np.int64 else 45\n",
    "    ax.set_xticks(range(len(vc)), vc.index, rotation=rotation)\n",
    "    ax.set_ylabel('Attrition rate')  # change this\n",
    "    ax.set_xlabel(feature)\n",
    "axs.flatten()[-1].axis('off')\n",
    "plt.show()"
   ]
  },
  {
   "cell_type": "code",
   "execution_count": null,
   "metadata": {},
   "outputs": [],
   "source": [
    "\n",
    "from great_tables import GT, html\n",
    "from great_tables.data import sza\n",
    "import polars as pl\n",
    "import polars.selectors as cs\n",
    "\n",
    "sza_pivot = (\n",
    "    pl.from_pandas(sza)\n",
    "    .filter((pl.col(\"latitude\") == \"20\") & (pl.col(\"tst\") <= \"1200\"))\n",
    "    .select(pl.col(\"*\").exclude(\"latitude\"))\n",
    "    .drop_nulls()\n",
    "    .pivot(values=\"sza\", index=\"month\", on=\"tst\", sort_columns=True)\n",
    ")\n",
    "\n",
    "(\n",
    "    GT(sza_pivot, rowname_col=\"month\")\n",
    "    .data_color(\n",
    "        domain=[90, 0],\n",
    "        palette=[\"rebeccapurple\", \"white\", \"orange\"],\n",
    "        na_color=\"white\",\n",
    "    )\n",
    "    .tab_header(\n",
    "        title=\"Solar Zenith Angles from 05:30 to 12:00\",\n",
    "        subtitle=html(\"Average monthly values at latitude of 20&deg;N.\"),\n",
    "    )\n",
    "    .sub_missing(missing_text=\"\")\n",
    ")\n",
    "\n"
   ]
  },
  {
   "cell_type": "code",
   "execution_count": null,
   "metadata": {},
   "outputs": [],
   "source": [
    "(\n",
    "    GT(random_numbers_df)\n",
    "    .fmt_nanoplot(\n",
    "        columns=\"numbers\",\n",
    "        plot_type=\"bar\",\n",
    "        autoscale=True,\n",
    "        reference_line=\"min\",\n",
    "        reference_area=[0, \"max\"],\n",
    "        options=nanoplot_options(\n",
    "            data_bar_stroke_color=\"gray\",\n",
    "            data_bar_stroke_width=2,\n",
    "            data_bar_fill_color=\"orange\",\n",
    "            data_bar_negative_stroke_color=\"blue\",\n",
    "            data_bar_negative_stroke_width=1,\n",
    "            data_bar_negative_fill_color=\"lightblue\",\n",
    "            reference_line_color=\"pink\",\n",
    "            reference_area_fill_color=\"bisque\",\n",
    "            vertical_guide_stroke_color=\"blue\",\n",
    "        ),\n",
    "    )\n",
    ")"
   ]
  },
  {
   "cell_type": "markdown",
   "metadata": {},
   "source": [
    "### Working with Plotly\n",
    "\n",
    "Plotting the data"
   ]
  },
  {
   "cell_type": "code",
   "execution_count": 12,
   "metadata": {},
   "outputs": [
    {
     "data": {
      "application/vnd.plotly.v1+json": {
       "config": {
        "plotlyServerURL": "https://plot.ly"
       },
       "data": [
        {
         "hovertemplate": "<b>%{hovertext}</b><br><br>type=%{x}<br>price=%{y}<extra></extra>",
         "hovertext": [
          "hawaiian",
          "classic_dlx",
          "mexicana",
          "thai_ckn",
          "five_cheese",
          "ital_supr",
          "prsc_argla",
          "ital_supr",
          "ital_supr",
          "ital_supr",
          "bbq_ckn",
          "the_greek",
          "spinach_supr",
          "spinach_supr",
          "ital_supr",
          "mexicana",
          "spin_pesto",
          "spicy_ital",
          "ital_cpcllo",
          "veggie_veg",
          "green_garden",
          "classic_dlx",
          "ital_supr",
          "mexicana",
          "southw_ckn",
          "pepperoni",
          "cali_ckn",
          "cali_ckn",
          "bbq_ckn",
          "cali_ckn",
          "ital_supr",
          "cali_ckn",
          "ckn_pesto",
          "mexicana",
          "the_greek",
          "big_meat",
          "five_cheese",
          "soppressata",
          "the_greek",
          "thai_ckn",
          "four_cheese",
          "napolitana",
          "mediterraneo",
          "bbq_ckn",
          "ital_supr",
          "mexicana",
          "four_cheese",
          "spinach_fet",
          "mediterraneo",
          "five_cheese",
          "ital_veggie",
          "calabrese",
          "peppr_salami",
          "napolitana",
          "sicilian",
          "ital_cpcllo",
          "five_cheese",
          "big_meat",
          "ital_cpcllo",
          "ital_cpcllo",
          "southw_ckn",
          "five_cheese",
          "southw_ckn",
          "ital_cpcllo",
          "pepperoni",
          "prsc_argla",
          "bbq_ckn",
          "thai_ckn",
          "sicilian",
          "classic_dlx",
          "veggie_veg",
          "bbq_ckn",
          "spinach_fet",
          "classic_dlx",
          "ckn_alfredo",
          "green_garden",
          "thai_ckn",
          "mexicana",
          "pepperoni",
          "ital_cpcllo",
          "green_garden",
          "big_meat",
          "ital_supr",
          "bbq_ckn",
          "green_garden",
          "the_greek",
          "pepperoni",
          "pep_msh_pep",
          "thai_ckn",
          "green_garden",
          "bbq_ckn",
          "classic_dlx",
          "mexicana",
          "ital_supr",
          "ital_cpcllo",
          "hawaiian",
          "ital_supr",
          "southw_ckn",
          "four_cheese",
          "green_garden"
         ],
         "legendgroup": "",
         "marker": {
          "color": "#636efa",
          "symbol": "circle"
         },
         "mode": "markers",
         "name": "",
         "orientation": "v",
         "showlegend": false,
         "type": "scatter",
         "x": [
          "classic",
          "classic",
          "veggie",
          "chicken",
          "veggie",
          "supreme",
          "supreme",
          "supreme",
          "supreme",
          "supreme",
          "chicken",
          "classic",
          "supreme",
          "supreme",
          "supreme",
          "veggie",
          "veggie",
          "supreme",
          "classic",
          "veggie",
          "veggie",
          "classic",
          "supreme",
          "veggie",
          "chicken",
          "classic",
          "chicken",
          "chicken",
          "chicken",
          "chicken",
          "supreme",
          "chicken",
          "chicken",
          "veggie",
          "classic",
          "classic",
          "veggie",
          "supreme",
          "classic",
          "chicken",
          "veggie",
          "classic",
          "veggie",
          "chicken",
          "supreme",
          "veggie",
          "veggie",
          "veggie",
          "veggie",
          "veggie",
          "veggie",
          "supreme",
          "supreme",
          "classic",
          "supreme",
          "classic",
          "veggie",
          "classic",
          "classic",
          "classic",
          "chicken",
          "veggie",
          "chicken",
          "classic",
          "classic",
          "supreme",
          "chicken",
          "chicken",
          "supreme",
          "classic",
          "veggie",
          "chicken",
          "veggie",
          "classic",
          "chicken",
          "veggie",
          "chicken",
          "veggie",
          "classic",
          "classic",
          "veggie",
          "classic",
          "supreme",
          "chicken",
          "veggie",
          "classic",
          "classic",
          "classic",
          "chicken",
          "veggie",
          "chicken",
          "classic",
          "veggie",
          "supreme",
          "classic",
          "classic",
          "supreme",
          "chicken",
          "veggie",
          "veggie"
         ],
         "xaxis": "x",
         "y": {
          "bdata": "AAAAAACAKkAAAAAAAAAwQAAAAAAAADBAAAAAAADANEAAAAAAAIAyQAAAAAAAwDRAAAAAAADANEAAAAAAAIAwQAAAAAAAgDBAAAAAAACAMEAAAAAAAIApQAAAAAAAAChAAAAAAAAAKUAAAAAAAAApQAAAAAAAwDRAAAAAAAAAKEAAAAAAAMA0QAAAAAAAwDRAAAAAAACANEAAAAAAAAAoQAAAAAAAAChAAAAAAAAAKEAAAAAAAAApQAAAAAAAQDRAAAAAAADANEAAAAAAAIAuQAAAAAAAwDRAAAAAAADAMEAAAAAAAMA0QAAAAAAAgClAAAAAAACAMEAAAAAAAMA0QAAAAAAAwDRAAAAAAABANEAAAAAAAAAoQAAAAAAAAChAAAAAAACAMkAAAAAAAMA0QAAAAAAAAChAAAAAAADANEAzMzMzM/MxQAAAAAAAAChAAAAAAAAAMEAAAAAAAMA0QAAAAAAAgDBAAAAAAABANEAAAAAAAIAtQAAAAAAAQDRAAAAAAAAAMEAAAAAAAIAyQAAAAAAAgClAAAAAAABAMEAAAAAAAAApQAAAAAAAgDRAAAAAAABANEAAAAAAAIA0QAAAAAAAgDJAAAAAAAAAKEAAAAAAAIA0QAAAAAAAADBAAAAAAADANEAAAAAAAIAyQAAAAAAAgClAAAAAAAAAMEAAAAAAAAApQAAAAAAAAClAAAAAAADAMEAAAAAAAMA0QAAAAAAAQDBAAAAAAAAAKEAAAAAAAEA0QAAAAAAAwDRAAAAAAABANEAAAAAAAAAwQAAAAAAAgClAAAAAAAAAKEAAAAAAAMA0QAAAAAAAADBAAAAAAACAI0AAAAAAAIA0QAAAAAAAQDRAAAAAAAAAKEAAAAAAAIAwQAAAAAAAwDRAAAAAAAAAKEAAAAAAAAAoQAAAAAAAAClAAAAAAACAMUAAAAAAAMA0QAAAAAAAADBAAAAAAADAMEAAAAAAAAAwQAAAAAAAQDRAAAAAAADANEAAAAAAAIA0QAAAAAAAACVAAAAAAADANEAAAAAAAIApQDMzMzMz8zFAAAAAAAAAKEA=",
          "dtype": "f8"
         },
         "yaxis": "y"
        }
       ],
       "layout": {
        "legend": {
         "tracegroupgap": 0
        },
        "template": {
         "data": {
          "bar": [
           {
            "error_x": {
             "color": "#2a3f5f"
            },
            "error_y": {
             "color": "#2a3f5f"
            },
            "marker": {
             "line": {
              "color": "#E5ECF6",
              "width": 0.5
             },
             "pattern": {
              "fillmode": "overlay",
              "size": 10,
              "solidity": 0.2
             }
            },
            "type": "bar"
           }
          ],
          "barpolar": [
           {
            "marker": {
             "line": {
              "color": "#E5ECF6",
              "width": 0.5
             },
             "pattern": {
              "fillmode": "overlay",
              "size": 10,
              "solidity": 0.2
             }
            },
            "type": "barpolar"
           }
          ],
          "carpet": [
           {
            "aaxis": {
             "endlinecolor": "#2a3f5f",
             "gridcolor": "white",
             "linecolor": "white",
             "minorgridcolor": "white",
             "startlinecolor": "#2a3f5f"
            },
            "baxis": {
             "endlinecolor": "#2a3f5f",
             "gridcolor": "white",
             "linecolor": "white",
             "minorgridcolor": "white",
             "startlinecolor": "#2a3f5f"
            },
            "type": "carpet"
           }
          ],
          "choropleth": [
           {
            "colorbar": {
             "outlinewidth": 0,
             "ticks": ""
            },
            "type": "choropleth"
           }
          ],
          "contour": [
           {
            "colorbar": {
             "outlinewidth": 0,
             "ticks": ""
            },
            "colorscale": [
             [
              0,
              "#0d0887"
             ],
             [
              0.1111111111111111,
              "#46039f"
             ],
             [
              0.2222222222222222,
              "#7201a8"
             ],
             [
              0.3333333333333333,
              "#9c179e"
             ],
             [
              0.4444444444444444,
              "#bd3786"
             ],
             [
              0.5555555555555556,
              "#d8576b"
             ],
             [
              0.6666666666666666,
              "#ed7953"
             ],
             [
              0.7777777777777778,
              "#fb9f3a"
             ],
             [
              0.8888888888888888,
              "#fdca26"
             ],
             [
              1,
              "#f0f921"
             ]
            ],
            "type": "contour"
           }
          ],
          "contourcarpet": [
           {
            "colorbar": {
             "outlinewidth": 0,
             "ticks": ""
            },
            "type": "contourcarpet"
           }
          ],
          "heatmap": [
           {
            "colorbar": {
             "outlinewidth": 0,
             "ticks": ""
            },
            "colorscale": [
             [
              0,
              "#0d0887"
             ],
             [
              0.1111111111111111,
              "#46039f"
             ],
             [
              0.2222222222222222,
              "#7201a8"
             ],
             [
              0.3333333333333333,
              "#9c179e"
             ],
             [
              0.4444444444444444,
              "#bd3786"
             ],
             [
              0.5555555555555556,
              "#d8576b"
             ],
             [
              0.6666666666666666,
              "#ed7953"
             ],
             [
              0.7777777777777778,
              "#fb9f3a"
             ],
             [
              0.8888888888888888,
              "#fdca26"
             ],
             [
              1,
              "#f0f921"
             ]
            ],
            "type": "heatmap"
           }
          ],
          "histogram": [
           {
            "marker": {
             "pattern": {
              "fillmode": "overlay",
              "size": 10,
              "solidity": 0.2
             }
            },
            "type": "histogram"
           }
          ],
          "histogram2d": [
           {
            "colorbar": {
             "outlinewidth": 0,
             "ticks": ""
            },
            "colorscale": [
             [
              0,
              "#0d0887"
             ],
             [
              0.1111111111111111,
              "#46039f"
             ],
             [
              0.2222222222222222,
              "#7201a8"
             ],
             [
              0.3333333333333333,
              "#9c179e"
             ],
             [
              0.4444444444444444,
              "#bd3786"
             ],
             [
              0.5555555555555556,
              "#d8576b"
             ],
             [
              0.6666666666666666,
              "#ed7953"
             ],
             [
              0.7777777777777778,
              "#fb9f3a"
             ],
             [
              0.8888888888888888,
              "#fdca26"
             ],
             [
              1,
              "#f0f921"
             ]
            ],
            "type": "histogram2d"
           }
          ],
          "histogram2dcontour": [
           {
            "colorbar": {
             "outlinewidth": 0,
             "ticks": ""
            },
            "colorscale": [
             [
              0,
              "#0d0887"
             ],
             [
              0.1111111111111111,
              "#46039f"
             ],
             [
              0.2222222222222222,
              "#7201a8"
             ],
             [
              0.3333333333333333,
              "#9c179e"
             ],
             [
              0.4444444444444444,
              "#bd3786"
             ],
             [
              0.5555555555555556,
              "#d8576b"
             ],
             [
              0.6666666666666666,
              "#ed7953"
             ],
             [
              0.7777777777777778,
              "#fb9f3a"
             ],
             [
              0.8888888888888888,
              "#fdca26"
             ],
             [
              1,
              "#f0f921"
             ]
            ],
            "type": "histogram2dcontour"
           }
          ],
          "mesh3d": [
           {
            "colorbar": {
             "outlinewidth": 0,
             "ticks": ""
            },
            "type": "mesh3d"
           }
          ],
          "parcoords": [
           {
            "line": {
             "colorbar": {
              "outlinewidth": 0,
              "ticks": ""
             }
            },
            "type": "parcoords"
           }
          ],
          "pie": [
           {
            "automargin": true,
            "type": "pie"
           }
          ],
          "scatter": [
           {
            "fillpattern": {
             "fillmode": "overlay",
             "size": 10,
             "solidity": 0.2
            },
            "type": "scatter"
           }
          ],
          "scatter3d": [
           {
            "line": {
             "colorbar": {
              "outlinewidth": 0,
              "ticks": ""
             }
            },
            "marker": {
             "colorbar": {
              "outlinewidth": 0,
              "ticks": ""
             }
            },
            "type": "scatter3d"
           }
          ],
          "scattercarpet": [
           {
            "marker": {
             "colorbar": {
              "outlinewidth": 0,
              "ticks": ""
             }
            },
            "type": "scattercarpet"
           }
          ],
          "scattergeo": [
           {
            "marker": {
             "colorbar": {
              "outlinewidth": 0,
              "ticks": ""
             }
            },
            "type": "scattergeo"
           }
          ],
          "scattergl": [
           {
            "marker": {
             "colorbar": {
              "outlinewidth": 0,
              "ticks": ""
             }
            },
            "type": "scattergl"
           }
          ],
          "scattermap": [
           {
            "marker": {
             "colorbar": {
              "outlinewidth": 0,
              "ticks": ""
             }
            },
            "type": "scattermap"
           }
          ],
          "scattermapbox": [
           {
            "marker": {
             "colorbar": {
              "outlinewidth": 0,
              "ticks": ""
             }
            },
            "type": "scattermapbox"
           }
          ],
          "scatterpolar": [
           {
            "marker": {
             "colorbar": {
              "outlinewidth": 0,
              "ticks": ""
             }
            },
            "type": "scatterpolar"
           }
          ],
          "scatterpolargl": [
           {
            "marker": {
             "colorbar": {
              "outlinewidth": 0,
              "ticks": ""
             }
            },
            "type": "scatterpolargl"
           }
          ],
          "scatterternary": [
           {
            "marker": {
             "colorbar": {
              "outlinewidth": 0,
              "ticks": ""
             }
            },
            "type": "scatterternary"
           }
          ],
          "surface": [
           {
            "colorbar": {
             "outlinewidth": 0,
             "ticks": ""
            },
            "colorscale": [
             [
              0,
              "#0d0887"
             ],
             [
              0.1111111111111111,
              "#46039f"
             ],
             [
              0.2222222222222222,
              "#7201a8"
             ],
             [
              0.3333333333333333,
              "#9c179e"
             ],
             [
              0.4444444444444444,
              "#bd3786"
             ],
             [
              0.5555555555555556,
              "#d8576b"
             ],
             [
              0.6666666666666666,
              "#ed7953"
             ],
             [
              0.7777777777777778,
              "#fb9f3a"
             ],
             [
              0.8888888888888888,
              "#fdca26"
             ],
             [
              1,
              "#f0f921"
             ]
            ],
            "type": "surface"
           }
          ],
          "table": [
           {
            "cells": {
             "fill": {
              "color": "#EBF0F8"
             },
             "line": {
              "color": "white"
             }
            },
            "header": {
             "fill": {
              "color": "#C8D4E3"
             },
             "line": {
              "color": "white"
             }
            },
            "type": "table"
           }
          ]
         },
         "layout": {
          "annotationdefaults": {
           "arrowcolor": "#2a3f5f",
           "arrowhead": 0,
           "arrowwidth": 1
          },
          "autotypenumbers": "strict",
          "coloraxis": {
           "colorbar": {
            "outlinewidth": 0,
            "ticks": ""
           }
          },
          "colorscale": {
           "diverging": [
            [
             0,
             "#8e0152"
            ],
            [
             0.1,
             "#c51b7d"
            ],
            [
             0.2,
             "#de77ae"
            ],
            [
             0.3,
             "#f1b6da"
            ],
            [
             0.4,
             "#fde0ef"
            ],
            [
             0.5,
             "#f7f7f7"
            ],
            [
             0.6,
             "#e6f5d0"
            ],
            [
             0.7,
             "#b8e186"
            ],
            [
             0.8,
             "#7fbc41"
            ],
            [
             0.9,
             "#4d9221"
            ],
            [
             1,
             "#276419"
            ]
           ],
           "sequential": [
            [
             0,
             "#0d0887"
            ],
            [
             0.1111111111111111,
             "#46039f"
            ],
            [
             0.2222222222222222,
             "#7201a8"
            ],
            [
             0.3333333333333333,
             "#9c179e"
            ],
            [
             0.4444444444444444,
             "#bd3786"
            ],
            [
             0.5555555555555556,
             "#d8576b"
            ],
            [
             0.6666666666666666,
             "#ed7953"
            ],
            [
             0.7777777777777778,
             "#fb9f3a"
            ],
            [
             0.8888888888888888,
             "#fdca26"
            ],
            [
             1,
             "#f0f921"
            ]
           ],
           "sequentialminus": [
            [
             0,
             "#0d0887"
            ],
            [
             0.1111111111111111,
             "#46039f"
            ],
            [
             0.2222222222222222,
             "#7201a8"
            ],
            [
             0.3333333333333333,
             "#9c179e"
            ],
            [
             0.4444444444444444,
             "#bd3786"
            ],
            [
             0.5555555555555556,
             "#d8576b"
            ],
            [
             0.6666666666666666,
             "#ed7953"
            ],
            [
             0.7777777777777778,
             "#fb9f3a"
            ],
            [
             0.8888888888888888,
             "#fdca26"
            ],
            [
             1,
             "#f0f921"
            ]
           ]
          },
          "colorway": [
           "#636efa",
           "#EF553B",
           "#00cc96",
           "#ab63fa",
           "#FFA15A",
           "#19d3f3",
           "#FF6692",
           "#B6E880",
           "#FF97FF",
           "#FECB52"
          ],
          "font": {
           "color": "#2a3f5f"
          },
          "geo": {
           "bgcolor": "white",
           "lakecolor": "white",
           "landcolor": "#E5ECF6",
           "showlakes": true,
           "showland": true,
           "subunitcolor": "white"
          },
          "hoverlabel": {
           "align": "left"
          },
          "hovermode": "closest",
          "mapbox": {
           "style": "light"
          },
          "paper_bgcolor": "white",
          "plot_bgcolor": "#E5ECF6",
          "polar": {
           "angularaxis": {
            "gridcolor": "white",
            "linecolor": "white",
            "ticks": ""
           },
           "bgcolor": "#E5ECF6",
           "radialaxis": {
            "gridcolor": "white",
            "linecolor": "white",
            "ticks": ""
           }
          },
          "scene": {
           "xaxis": {
            "backgroundcolor": "#E5ECF6",
            "gridcolor": "white",
            "gridwidth": 2,
            "linecolor": "white",
            "showbackground": true,
            "ticks": "",
            "zerolinecolor": "white"
           },
           "yaxis": {
            "backgroundcolor": "#E5ECF6",
            "gridcolor": "white",
            "gridwidth": 2,
            "linecolor": "white",
            "showbackground": true,
            "ticks": "",
            "zerolinecolor": "white"
           },
           "zaxis": {
            "backgroundcolor": "#E5ECF6",
            "gridcolor": "white",
            "gridwidth": 2,
            "linecolor": "white",
            "showbackground": true,
            "ticks": "",
            "zerolinecolor": "white"
           }
          },
          "shapedefaults": {
           "line": {
            "color": "#2a3f5f"
           }
          },
          "ternary": {
           "aaxis": {
            "gridcolor": "white",
            "linecolor": "white",
            "ticks": ""
           },
           "baxis": {
            "gridcolor": "white",
            "linecolor": "white",
            "ticks": ""
           },
           "bgcolor": "#E5ECF6",
           "caxis": {
            "gridcolor": "white",
            "linecolor": "white",
            "ticks": ""
           }
          },
          "title": {
           "x": 0.05
          },
          "xaxis": {
           "automargin": true,
           "gridcolor": "white",
           "linecolor": "white",
           "ticks": "",
           "title": {
            "standoff": 15
           },
           "zerolinecolor": "white",
           "zerolinewidth": 2
          },
          "yaxis": {
           "automargin": true,
           "gridcolor": "white",
           "linecolor": "white",
           "ticks": "",
           "title": {
            "standoff": 15
           },
           "zerolinecolor": "white",
           "zerolinewidth": 2
          }
         }
        },
        "title": {
         "text": "Price vs. Pizza Category"
        },
        "xaxis": {
         "anchor": "y",
         "domain": [
          0,
          1
         ],
         "title": {
          "text": "type"
         }
        },
        "yaxis": {
         "anchor": "x",
         "domain": [
          0,
          1
         ],
         "title": {
          "text": "price"
         }
        }
       }
      }
     },
     "metadata": {},
     "output_type": "display_data"
    }
   ],
   "source": [
    "# Move this imprt of pacakages to top\n",
    "import plotly.express as px\n",
    "import plotly.graph_objects as go\n",
    "\n",
    "\n",
    "fig = px.scatter(df_pizza_mini,\n",
    "                x='type',\n",
    "                y='price',\n",
    "                hover_name='name',\n",
    "                title='Price vs. Pizza Category')\n",
    "fig.show()"
   ]
  },
  {
   "cell_type": "code",
   "execution_count": 13,
   "metadata": {},
   "outputs": [
    {
     "data": {
      "application/vnd.plotly.v1+json": {
       "config": {
        "plotlyServerURL": "https://plot.ly"
       },
       "data": [
        {
         "customdata": [
          [
           "hawaiian"
          ],
          [
           "classic_dlx"
          ],
          [
           "the_greek"
          ],
          [
           "ital_cpcllo"
          ],
          [
           "classic_dlx"
          ],
          [
           "pepperoni"
          ],
          [
           "the_greek"
          ],
          [
           "big_meat"
          ],
          [
           "the_greek"
          ],
          [
           "napolitana"
          ],
          [
           "napolitana"
          ],
          [
           "ital_cpcllo"
          ],
          [
           "big_meat"
          ],
          [
           "ital_cpcllo"
          ],
          [
           "ital_cpcllo"
          ],
          [
           "ital_cpcllo"
          ],
          [
           "pepperoni"
          ],
          [
           "classic_dlx"
          ],
          [
           "classic_dlx"
          ],
          [
           "pepperoni"
          ],
          [
           "ital_cpcllo"
          ],
          [
           "big_meat"
          ],
          [
           "the_greek"
          ],
          [
           "pepperoni"
          ],
          [
           "pep_msh_pep"
          ],
          [
           "classic_dlx"
          ],
          [
           "ital_cpcllo"
          ],
          [
           "hawaiian"
          ]
         ],
         "hovertemplate": "type=classic<br>price=%{marker.size}<br>time=%{y}<br>name=%{customdata[0]}<extra></extra>",
         "legendgroup": "classic",
         "marker": {
          "color": "#636efa",
          "size": {
           "bdata": "AAAAAACAKkAAAAAAAAAwQAAAAAAAAChAAAAAAACANEAAAAAAAAAoQAAAAAAAgC5AAAAAAAAAKEAAAAAAAAAoQAAAAAAAAChAAAAAAAAAKEAAAAAAAIA0QAAAAAAAgDRAAAAAAAAAKEAAAAAAAIA0QAAAAAAAADBAAAAAAAAAMEAAAAAAAAApQAAAAAAAAChAAAAAAAAAMEAAAAAAAIAjQAAAAAAAgDRAAAAAAAAAKEAAAAAAAAAoQAAAAAAAAClAAAAAAACAMUAAAAAAAAAwQAAAAAAAgDRAAAAAAAAAJUA=",
           "dtype": "f8"
          },
          "sizemode": "area",
          "sizeref": 0.051875,
          "symbol": "circle"
         },
         "mode": "markers",
         "name": "classic",
         "orientation": "h",
         "showlegend": true,
         "type": "scatter",
         "x": {
          "bdata": "AAAAAACAKkAAAAAAAAAwQAAAAAAAAChAAAAAAACANEAAAAAAAAAoQAAAAAAAgC5AAAAAAAAAKEAAAAAAAAAoQAAAAAAAAChAAAAAAAAAKEAAAAAAAIA0QAAAAAAAgDRAAAAAAAAAKEAAAAAAAIA0QAAAAAAAADBAAAAAAAAAMEAAAAAAAAApQAAAAAAAAChAAAAAAAAAMEAAAAAAAIAjQAAAAAAAgDRAAAAAAAAAKEAAAAAAAAAoQAAAAAAAAClAAAAAAACAMUAAAAAAAAAwQAAAAAAAgDRAAAAAAAAAJUA=",
          "dtype": "f8"
         },
         "xaxis": "x",
         "y": [
          "11:38:36",
          "11:57:40",
          "12:29:36",
          "12:52:01",
          "12:52:01",
          "13:02:59",
          "13:14:19",
          "13:33:00",
          "13:33:00",
          "13:34:07",
          "13:57:08",
          "13:59:09",
          "14:03:08",
          "14:14:29",
          "14:16:26",
          "14:23:01",
          "14:23:01",
          "14:54:26",
          "15:11:17",
          "15:50:18",
          "15:53:18",
          "15:53:18",
          "16:21:21",
          "16:32:04",
          "16:32:04",
          "16:54:09",
          "17:03:00",
          "17:03:00"
         ],
         "yaxis": "y"
        },
        {
         "customdata": [
          [
           "mexicana"
          ],
          [
           "five_cheese"
          ],
          [
           "mexicana"
          ],
          [
           "spin_pesto"
          ],
          [
           "veggie_veg"
          ],
          [
           "green_garden"
          ],
          [
           "mexicana"
          ],
          [
           "mexicana"
          ],
          [
           "five_cheese"
          ],
          [
           "four_cheese"
          ],
          [
           "mediterraneo"
          ],
          [
           "mexicana"
          ],
          [
           "four_cheese"
          ],
          [
           "spinach_fet"
          ],
          [
           "mediterraneo"
          ],
          [
           "five_cheese"
          ],
          [
           "ital_veggie"
          ],
          [
           "five_cheese"
          ],
          [
           "five_cheese"
          ],
          [
           "veggie_veg"
          ],
          [
           "spinach_fet"
          ],
          [
           "green_garden"
          ],
          [
           "mexicana"
          ],
          [
           "green_garden"
          ],
          [
           "green_garden"
          ],
          [
           "green_garden"
          ],
          [
           "mexicana"
          ],
          [
           "four_cheese"
          ],
          [
           "green_garden"
          ]
         ],
         "hovertemplate": "type=veggie<br>price=%{marker.size}<br>time=%{y}<br>name=%{customdata[0]}<extra></extra>",
         "legendgroup": "veggie",
         "marker": {
          "color": "#EF553B",
          "size": {
           "bdata": "AAAAAAAAMEAAAAAAAIAyQAAAAAAAAChAAAAAAADANEAAAAAAAAAoQAAAAAAAAChAAAAAAABANEAAAAAAAEA0QAAAAAAAgDJAMzMzMzPzMUAAAAAAAAAwQAAAAAAAQDRAAAAAAACALUAAAAAAAEA0QAAAAAAAADBAAAAAAACAMkAAAAAAAIApQAAAAAAAgDJAAAAAAACAMkAAAAAAAEA0QAAAAAAAQDRAAAAAAAAAKEAAAAAAAAAwQAAAAAAAQDRAAAAAAAAAKEAAAAAAAAAwQAAAAAAAQDRAMzMzMzPzMUAAAAAAAAAoQA==",
           "dtype": "f8"
          },
          "sizemode": "area",
          "sizeref": 0.051875,
          "symbol": "circle"
         },
         "mode": "markers",
         "name": "veggie",
         "orientation": "h",
         "showlegend": true,
         "type": "scatter",
         "x": {
          "bdata": "AAAAAAAAMEAAAAAAAIAyQAAAAAAAAChAAAAAAADANEAAAAAAAAAoQAAAAAAAAChAAAAAAABANEAAAAAAAEA0QAAAAAAAgDJAMzMzMzPzMUAAAAAAAAAwQAAAAAAAQDRAAAAAAACALUAAAAAAAEA0QAAAAAAAADBAAAAAAACAMkAAAAAAAIApQAAAAAAAgDJAAAAAAACAMkAAAAAAAEA0QAAAAAAAQDRAAAAAAAAAKEAAAAAAAAAwQAAAAAAAQDRAAAAAAAAAKEAAAAAAAAAwQAAAAAAAQDRAMzMzMzPzMUAAAAAAAAAoQA==",
          "dtype": "f8"
         },
         "xaxis": "x",
         "y": [
          "11:57:40",
          "11:57:40",
          "12:52:01",
          "12:52:01",
          "12:52:01",
          "12:52:01",
          "13:00:15",
          "13:11:55",
          "13:33:00",
          "13:34:07",
          "13:53:00",
          "13:53:00",
          "13:53:00",
          "13:53:00",
          "13:53:00",
          "13:53:00",
          "13:53:00",
          "14:03:08",
          "14:16:26",
          "14:54:26",
          "15:11:17",
          "15:41:01",
          "15:50:18",
          "15:53:18",
          "15:54:08",
          "16:32:04",
          "16:56:09",
          "17:14:36",
          "17:15:20"
         ],
         "yaxis": "y"
        },
        {
         "customdata": [
          [
           "thai_ckn"
          ],
          [
           "bbq_ckn"
          ],
          [
           "southw_ckn"
          ],
          [
           "cali_ckn"
          ],
          [
           "cali_ckn"
          ],
          [
           "bbq_ckn"
          ],
          [
           "cali_ckn"
          ],
          [
           "cali_ckn"
          ],
          [
           "ckn_pesto"
          ],
          [
           "thai_ckn"
          ],
          [
           "bbq_ckn"
          ],
          [
           "southw_ckn"
          ],
          [
           "southw_ckn"
          ],
          [
           "bbq_ckn"
          ],
          [
           "thai_ckn"
          ],
          [
           "bbq_ckn"
          ],
          [
           "ckn_alfredo"
          ],
          [
           "thai_ckn"
          ],
          [
           "bbq_ckn"
          ],
          [
           "thai_ckn"
          ],
          [
           "bbq_ckn"
          ],
          [
           "southw_ckn"
          ]
         ],
         "hovertemplate": "type=chicken<br>price=%{marker.size}<br>time=%{y}<br>name=%{customdata[0]}<extra></extra>",
         "legendgroup": "chicken",
         "marker": {
          "color": "#00cc96",
          "size": {
           "bdata": "AAAAAADANEAAAAAAAIApQAAAAAAAwDRAAAAAAADANEAAAAAAAMAwQAAAAAAAwDRAAAAAAACAKUAAAAAAAMA0QAAAAAAAwDRAAAAAAADANEAAAAAAAMA0QAAAAAAAwDRAAAAAAACAKUAAAAAAAMAwQAAAAAAAwDRAAAAAAADANEAAAAAAAIApQAAAAAAAwDRAAAAAAADANEAAAAAAAMA0QAAAAAAAwDBAAAAAAACAKUA=",
           "dtype": "f8"
          },
          "sizemode": "area",
          "sizeref": 0.051875,
          "symbol": "circle"
         },
         "mode": "markers",
         "name": "chicken",
         "orientation": "h",
         "showlegend": true,
         "type": "scatter",
         "x": {
          "bdata": "AAAAAADANEAAAAAAAIApQAAAAAAAwDRAAAAAAADANEAAAAAAAMAwQAAAAAAAwDRAAAAAAACAKUAAAAAAAMA0QAAAAAAAwDRAAAAAAADANEAAAAAAAMA0QAAAAAAAwDRAAAAAAACAKUAAAAAAAMAwQAAAAAAAwDRAAAAAAADANEAAAAAAAIApQAAAAAAAwDRAAAAAAADANEAAAAAAAMA0QAAAAAAAwDBAAAAAAACAKUA=",
          "dtype": "f8"
         },
         "xaxis": "x",
         "y": [
          "11:57:40",
          "12:29:36",
          "13:00:15",
          "13:02:59",
          "13:02:59",
          "13:02:59",
          "13:04:41",
          "13:04:41",
          "13:04:41",
          "13:34:07",
          "13:53:00",
          "14:16:26",
          "14:19:03",
          "14:23:01",
          "14:44:44",
          "15:11:17",
          "15:35:46",
          "15:41:25",
          "15:54:08",
          "16:32:04",
          "16:54:09",
          "17:14:36"
         ],
         "yaxis": "y"
        },
        {
         "customdata": [
          [
           "ital_supr"
          ],
          [
           "prsc_argla"
          ],
          [
           "ital_supr"
          ],
          [
           "ital_supr"
          ],
          [
           "ital_supr"
          ],
          [
           "spinach_supr"
          ],
          [
           "spinach_supr"
          ],
          [
           "ital_supr"
          ],
          [
           "spicy_ital"
          ],
          [
           "ital_supr"
          ],
          [
           "ital_supr"
          ],
          [
           "soppressata"
          ],
          [
           "ital_supr"
          ],
          [
           "calabrese"
          ],
          [
           "peppr_salami"
          ],
          [
           "sicilian"
          ],
          [
           "prsc_argla"
          ],
          [
           "sicilian"
          ],
          [
           "ital_supr"
          ],
          [
           "ital_supr"
          ],
          [
           "ital_supr"
          ]
         ],
         "hovertemplate": "type=supreme<br>price=%{marker.size}<br>time=%{y}<br>name=%{customdata[0]}<extra></extra>",
         "legendgroup": "supreme",
         "marker": {
          "color": "#ab63fa",
          "size": {
           "bdata": "AAAAAADANEAAAAAAAMA0QAAAAAAAgDBAAAAAAACAMEAAAAAAAIAwQAAAAAAAAClAAAAAAAAAKUAAAAAAAMA0QAAAAAAAwDRAAAAAAAAAKUAAAAAAAIAwQAAAAAAAwDRAAAAAAACAMEAAAAAAAEAwQAAAAAAAAClAAAAAAABANEAAAAAAAAApQAAAAAAAQDBAAAAAAACAMEAAAAAAAMA0QAAAAAAAwDRA",
           "dtype": "f8"
          },
          "sizemode": "area",
          "sizeref": 0.051875,
          "symbol": "circle"
         },
         "mode": "markers",
         "name": "supreme",
         "orientation": "h",
         "showlegend": true,
         "type": "scatter",
         "x": {
          "bdata": "AAAAAADANEAAAAAAAMA0QAAAAAAAgDBAAAAAAACAMEAAAAAAAIAwQAAAAAAAAClAAAAAAAAAKUAAAAAAAMA0QAAAAAAAwDRAAAAAAAAAKUAAAAAAAIAwQAAAAAAAwDRAAAAAAACAMEAAAAAAAEAwQAAAAAAAAClAAAAAAABANEAAAAAAAAApQAAAAAAAQDBAAAAAAACAMEAAAAAAAMA0QAAAAAAAwDRA",
          "dtype": "f8"
         },
         "xaxis": "x",
         "y": [
          "11:57:40",
          "12:12:28",
          "12:12:28",
          "12:16:31",
          "12:21:30",
          "12:50:37",
          "12:51:37",
          "12:52:01",
          "12:52:01",
          "12:52:01",
          "13:04:41",
          "13:33:00",
          "13:53:00",
          "13:53:00",
          "13:53:00",
          "13:59:09",
          "14:23:01",
          "14:44:44",
          "15:53:18",
          "16:56:09",
          "17:07:23"
         ],
         "yaxis": "y"
        }
       ],
       "layout": {
        "legend": {
         "itemsizing": "constant",
         "title": {
          "text": "type"
         },
         "tracegroupgap": 0
        },
        "margin": {
         "t": 60
        },
        "template": {
         "data": {
          "bar": [
           {
            "error_x": {
             "color": "#2a3f5f"
            },
            "error_y": {
             "color": "#2a3f5f"
            },
            "marker": {
             "line": {
              "color": "#E5ECF6",
              "width": 0.5
             },
             "pattern": {
              "fillmode": "overlay",
              "size": 10,
              "solidity": 0.2
             }
            },
            "type": "bar"
           }
          ],
          "barpolar": [
           {
            "marker": {
             "line": {
              "color": "#E5ECF6",
              "width": 0.5
             },
             "pattern": {
              "fillmode": "overlay",
              "size": 10,
              "solidity": 0.2
             }
            },
            "type": "barpolar"
           }
          ],
          "carpet": [
           {
            "aaxis": {
             "endlinecolor": "#2a3f5f",
             "gridcolor": "white",
             "linecolor": "white",
             "minorgridcolor": "white",
             "startlinecolor": "#2a3f5f"
            },
            "baxis": {
             "endlinecolor": "#2a3f5f",
             "gridcolor": "white",
             "linecolor": "white",
             "minorgridcolor": "white",
             "startlinecolor": "#2a3f5f"
            },
            "type": "carpet"
           }
          ],
          "choropleth": [
           {
            "colorbar": {
             "outlinewidth": 0,
             "ticks": ""
            },
            "type": "choropleth"
           }
          ],
          "contour": [
           {
            "colorbar": {
             "outlinewidth": 0,
             "ticks": ""
            },
            "colorscale": [
             [
              0,
              "#0d0887"
             ],
             [
              0.1111111111111111,
              "#46039f"
             ],
             [
              0.2222222222222222,
              "#7201a8"
             ],
             [
              0.3333333333333333,
              "#9c179e"
             ],
             [
              0.4444444444444444,
              "#bd3786"
             ],
             [
              0.5555555555555556,
              "#d8576b"
             ],
             [
              0.6666666666666666,
              "#ed7953"
             ],
             [
              0.7777777777777778,
              "#fb9f3a"
             ],
             [
              0.8888888888888888,
              "#fdca26"
             ],
             [
              1,
              "#f0f921"
             ]
            ],
            "type": "contour"
           }
          ],
          "contourcarpet": [
           {
            "colorbar": {
             "outlinewidth": 0,
             "ticks": ""
            },
            "type": "contourcarpet"
           }
          ],
          "heatmap": [
           {
            "colorbar": {
             "outlinewidth": 0,
             "ticks": ""
            },
            "colorscale": [
             [
              0,
              "#0d0887"
             ],
             [
              0.1111111111111111,
              "#46039f"
             ],
             [
              0.2222222222222222,
              "#7201a8"
             ],
             [
              0.3333333333333333,
              "#9c179e"
             ],
             [
              0.4444444444444444,
              "#bd3786"
             ],
             [
              0.5555555555555556,
              "#d8576b"
             ],
             [
              0.6666666666666666,
              "#ed7953"
             ],
             [
              0.7777777777777778,
              "#fb9f3a"
             ],
             [
              0.8888888888888888,
              "#fdca26"
             ],
             [
              1,
              "#f0f921"
             ]
            ],
            "type": "heatmap"
           }
          ],
          "histogram": [
           {
            "marker": {
             "pattern": {
              "fillmode": "overlay",
              "size": 10,
              "solidity": 0.2
             }
            },
            "type": "histogram"
           }
          ],
          "histogram2d": [
           {
            "colorbar": {
             "outlinewidth": 0,
             "ticks": ""
            },
            "colorscale": [
             [
              0,
              "#0d0887"
             ],
             [
              0.1111111111111111,
              "#46039f"
             ],
             [
              0.2222222222222222,
              "#7201a8"
             ],
             [
              0.3333333333333333,
              "#9c179e"
             ],
             [
              0.4444444444444444,
              "#bd3786"
             ],
             [
              0.5555555555555556,
              "#d8576b"
             ],
             [
              0.6666666666666666,
              "#ed7953"
             ],
             [
              0.7777777777777778,
              "#fb9f3a"
             ],
             [
              0.8888888888888888,
              "#fdca26"
             ],
             [
              1,
              "#f0f921"
             ]
            ],
            "type": "histogram2d"
           }
          ],
          "histogram2dcontour": [
           {
            "colorbar": {
             "outlinewidth": 0,
             "ticks": ""
            },
            "colorscale": [
             [
              0,
              "#0d0887"
             ],
             [
              0.1111111111111111,
              "#46039f"
             ],
             [
              0.2222222222222222,
              "#7201a8"
             ],
             [
              0.3333333333333333,
              "#9c179e"
             ],
             [
              0.4444444444444444,
              "#bd3786"
             ],
             [
              0.5555555555555556,
              "#d8576b"
             ],
             [
              0.6666666666666666,
              "#ed7953"
             ],
             [
              0.7777777777777778,
              "#fb9f3a"
             ],
             [
              0.8888888888888888,
              "#fdca26"
             ],
             [
              1,
              "#f0f921"
             ]
            ],
            "type": "histogram2dcontour"
           }
          ],
          "mesh3d": [
           {
            "colorbar": {
             "outlinewidth": 0,
             "ticks": ""
            },
            "type": "mesh3d"
           }
          ],
          "parcoords": [
           {
            "line": {
             "colorbar": {
              "outlinewidth": 0,
              "ticks": ""
             }
            },
            "type": "parcoords"
           }
          ],
          "pie": [
           {
            "automargin": true,
            "type": "pie"
           }
          ],
          "scatter": [
           {
            "fillpattern": {
             "fillmode": "overlay",
             "size": 10,
             "solidity": 0.2
            },
            "type": "scatter"
           }
          ],
          "scatter3d": [
           {
            "line": {
             "colorbar": {
              "outlinewidth": 0,
              "ticks": ""
             }
            },
            "marker": {
             "colorbar": {
              "outlinewidth": 0,
              "ticks": ""
             }
            },
            "type": "scatter3d"
           }
          ],
          "scattercarpet": [
           {
            "marker": {
             "colorbar": {
              "outlinewidth": 0,
              "ticks": ""
             }
            },
            "type": "scattercarpet"
           }
          ],
          "scattergeo": [
           {
            "marker": {
             "colorbar": {
              "outlinewidth": 0,
              "ticks": ""
             }
            },
            "type": "scattergeo"
           }
          ],
          "scattergl": [
           {
            "marker": {
             "colorbar": {
              "outlinewidth": 0,
              "ticks": ""
             }
            },
            "type": "scattergl"
           }
          ],
          "scattermap": [
           {
            "marker": {
             "colorbar": {
              "outlinewidth": 0,
              "ticks": ""
             }
            },
            "type": "scattermap"
           }
          ],
          "scattermapbox": [
           {
            "marker": {
             "colorbar": {
              "outlinewidth": 0,
              "ticks": ""
             }
            },
            "type": "scattermapbox"
           }
          ],
          "scatterpolar": [
           {
            "marker": {
             "colorbar": {
              "outlinewidth": 0,
              "ticks": ""
             }
            },
            "type": "scatterpolar"
           }
          ],
          "scatterpolargl": [
           {
            "marker": {
             "colorbar": {
              "outlinewidth": 0,
              "ticks": ""
             }
            },
            "type": "scatterpolargl"
           }
          ],
          "scatterternary": [
           {
            "marker": {
             "colorbar": {
              "outlinewidth": 0,
              "ticks": ""
             }
            },
            "type": "scatterternary"
           }
          ],
          "surface": [
           {
            "colorbar": {
             "outlinewidth": 0,
             "ticks": ""
            },
            "colorscale": [
             [
              0,
              "#0d0887"
             ],
             [
              0.1111111111111111,
              "#46039f"
             ],
             [
              0.2222222222222222,
              "#7201a8"
             ],
             [
              0.3333333333333333,
              "#9c179e"
             ],
             [
              0.4444444444444444,
              "#bd3786"
             ],
             [
              0.5555555555555556,
              "#d8576b"
             ],
             [
              0.6666666666666666,
              "#ed7953"
             ],
             [
              0.7777777777777778,
              "#fb9f3a"
             ],
             [
              0.8888888888888888,
              "#fdca26"
             ],
             [
              1,
              "#f0f921"
             ]
            ],
            "type": "surface"
           }
          ],
          "table": [
           {
            "cells": {
             "fill": {
              "color": "#EBF0F8"
             },
             "line": {
              "color": "white"
             }
            },
            "header": {
             "fill": {
              "color": "#C8D4E3"
             },
             "line": {
              "color": "white"
             }
            },
            "type": "table"
           }
          ]
         },
         "layout": {
          "annotationdefaults": {
           "arrowcolor": "#2a3f5f",
           "arrowhead": 0,
           "arrowwidth": 1
          },
          "autotypenumbers": "strict",
          "coloraxis": {
           "colorbar": {
            "outlinewidth": 0,
            "ticks": ""
           }
          },
          "colorscale": {
           "diverging": [
            [
             0,
             "#8e0152"
            ],
            [
             0.1,
             "#c51b7d"
            ],
            [
             0.2,
             "#de77ae"
            ],
            [
             0.3,
             "#f1b6da"
            ],
            [
             0.4,
             "#fde0ef"
            ],
            [
             0.5,
             "#f7f7f7"
            ],
            [
             0.6,
             "#e6f5d0"
            ],
            [
             0.7,
             "#b8e186"
            ],
            [
             0.8,
             "#7fbc41"
            ],
            [
             0.9,
             "#4d9221"
            ],
            [
             1,
             "#276419"
            ]
           ],
           "sequential": [
            [
             0,
             "#0d0887"
            ],
            [
             0.1111111111111111,
             "#46039f"
            ],
            [
             0.2222222222222222,
             "#7201a8"
            ],
            [
             0.3333333333333333,
             "#9c179e"
            ],
            [
             0.4444444444444444,
             "#bd3786"
            ],
            [
             0.5555555555555556,
             "#d8576b"
            ],
            [
             0.6666666666666666,
             "#ed7953"
            ],
            [
             0.7777777777777778,
             "#fb9f3a"
            ],
            [
             0.8888888888888888,
             "#fdca26"
            ],
            [
             1,
             "#f0f921"
            ]
           ],
           "sequentialminus": [
            [
             0,
             "#0d0887"
            ],
            [
             0.1111111111111111,
             "#46039f"
            ],
            [
             0.2222222222222222,
             "#7201a8"
            ],
            [
             0.3333333333333333,
             "#9c179e"
            ],
            [
             0.4444444444444444,
             "#bd3786"
            ],
            [
             0.5555555555555556,
             "#d8576b"
            ],
            [
             0.6666666666666666,
             "#ed7953"
            ],
            [
             0.7777777777777778,
             "#fb9f3a"
            ],
            [
             0.8888888888888888,
             "#fdca26"
            ],
            [
             1,
             "#f0f921"
            ]
           ]
          },
          "colorway": [
           "#636efa",
           "#EF553B",
           "#00cc96",
           "#ab63fa",
           "#FFA15A",
           "#19d3f3",
           "#FF6692",
           "#B6E880",
           "#FF97FF",
           "#FECB52"
          ],
          "font": {
           "color": "#2a3f5f"
          },
          "geo": {
           "bgcolor": "white",
           "lakecolor": "white",
           "landcolor": "#E5ECF6",
           "showlakes": true,
           "showland": true,
           "subunitcolor": "white"
          },
          "hoverlabel": {
           "align": "left"
          },
          "hovermode": "closest",
          "mapbox": {
           "style": "light"
          },
          "paper_bgcolor": "white",
          "plot_bgcolor": "#E5ECF6",
          "polar": {
           "angularaxis": {
            "gridcolor": "white",
            "linecolor": "white",
            "ticks": ""
           },
           "bgcolor": "#E5ECF6",
           "radialaxis": {
            "gridcolor": "white",
            "linecolor": "white",
            "ticks": ""
           }
          },
          "scene": {
           "xaxis": {
            "backgroundcolor": "#E5ECF6",
            "gridcolor": "white",
            "gridwidth": 2,
            "linecolor": "white",
            "showbackground": true,
            "ticks": "",
            "zerolinecolor": "white"
           },
           "yaxis": {
            "backgroundcolor": "#E5ECF6",
            "gridcolor": "white",
            "gridwidth": 2,
            "linecolor": "white",
            "showbackground": true,
            "ticks": "",
            "zerolinecolor": "white"
           },
           "zaxis": {
            "backgroundcolor": "#E5ECF6",
            "gridcolor": "white",
            "gridwidth": 2,
            "linecolor": "white",
            "showbackground": true,
            "ticks": "",
            "zerolinecolor": "white"
           }
          },
          "shapedefaults": {
           "line": {
            "color": "#2a3f5f"
           }
          },
          "ternary": {
           "aaxis": {
            "gridcolor": "white",
            "linecolor": "white",
            "ticks": ""
           },
           "baxis": {
            "gridcolor": "white",
            "linecolor": "white",
            "ticks": ""
           },
           "bgcolor": "#E5ECF6",
           "caxis": {
            "gridcolor": "white",
            "linecolor": "white",
            "ticks": ""
           }
          },
          "title": {
           "x": 0.05
          },
          "xaxis": {
           "automargin": true,
           "gridcolor": "white",
           "linecolor": "white",
           "ticks": "",
           "title": {
            "standoff": 15
           },
           "zerolinecolor": "white",
           "zerolinewidth": 2
          },
          "yaxis": {
           "automargin": true,
           "gridcolor": "white",
           "linecolor": "white",
           "ticks": "",
           "title": {
            "standoff": 15
           },
           "zerolinecolor": "white",
           "zerolinewidth": 2
          }
         }
        },
        "xaxis": {
         "anchor": "y",
         "domain": [
          0,
          1
         ],
         "title": {
          "text": "price"
         }
        },
        "yaxis": {
         "anchor": "x",
         "domain": [
          0,
          1
         ],
         "title": {
          "text": "time"
         }
        }
       }
      }
     },
     "metadata": {},
     "output_type": "display_data"
    }
   ],
   "source": [
    "#df = px.data.iris()\n",
    "fig = px.scatter(df_pizza_mini, x=\"price\", y=\"time\", color=\"type\",\n",
    "                 size='price', hover_data=['name'])\n",
    "fig.show()"
   ]
  },
  {
   "cell_type": "markdown",
   "metadata": {},
   "source": [
    "### Dash\n",
    "\n",
    "READ UP ON DASH!!"
   ]
  },
  {
   "cell_type": "markdown",
   "metadata": {
    "Collapsed": "false"
   },
   "source": [
    "# Part 2: Operating Expenses at Universities - Where Does the Money Go?\n",
    "\n",
    "In this next part, I'll work with some Financial Datasets from a public university to see where Academic and Administrative units spend their budgets."
   ]
  },
  {
   "cell_type": "markdown",
   "metadata": {},
   "source": [
    "### Data Reading and Prep\n",
    "\n",
    "The data set comes in 2 formats and I'll read in both - with slightly different information. The first is a large excel file of many financial records from a public university. The second is from the same univerisity with some different information saved to csv files. Let's start with the excel file.\n",
    "\n",
    "Pseudocode: pull in excel files, dataframe? deal with empty feilds, convert numbers and texts as needed, delete cols\n",
    "\n",
    "First step would be to read the CSV file into a pandas dataframe using the pandas read_csv() function. I can customize how to read it in with the various input arguments once I get a quick overview of the variables and the default values."
   ]
  },
  {
   "cell_type": "markdown",
   "metadata": {},
   "source": [
    "parse dates - convert to date time and then extract month: https://www.kaggle.com/code/alexisbcook/parsing-dates"
   ]
  },
  {
   "cell_type": "code",
   "execution_count": 14,
   "metadata": {},
   "outputs": [
    {
     "ename": "FileNotFoundError",
     "evalue": "[Errno 2] No such file or directory: '../../data/ou_expenses.csv'",
     "output_type": "error",
     "traceback": [
      "\u001b[1;31m---------------------------------------------------------------------------\u001b[0m",
      "\u001b[1;31mFileNotFoundError\u001b[0m                         Traceback (most recent call last)",
      "Cell \u001b[1;32mIn[14], line 2\u001b[0m\n\u001b[0;32m      1\u001b[0m \u001b[38;5;66;03m# Read in the csv file with default values and all variables\u001b[39;00m\n\u001b[1;32m----> 2\u001b[0m ou1 \u001b[38;5;241m=\u001b[39m pd\u001b[38;5;241m.\u001b[39mread_csv(\u001b[38;5;124m'\u001b[39m\u001b[38;5;124m../../data/ou_expenses.csv\u001b[39m\u001b[38;5;124m'\u001b[39m)\n\u001b[0;32m      3\u001b[0m ou1\u001b[38;5;241m.\u001b[39minfo()\n",
      "File \u001b[1;32m~\\AppData\\Local\\anaconda3\\envs\\aap\\Lib\\site-packages\\pandas\\io\\parsers\\readers.py:1026\u001b[0m, in \u001b[0;36mread_csv\u001b[1;34m(filepath_or_buffer, sep, delimiter, header, names, index_col, usecols, dtype, engine, converters, true_values, false_values, skipinitialspace, skiprows, skipfooter, nrows, na_values, keep_default_na, na_filter, verbose, skip_blank_lines, parse_dates, infer_datetime_format, keep_date_col, date_parser, date_format, dayfirst, cache_dates, iterator, chunksize, compression, thousands, decimal, lineterminator, quotechar, quoting, doublequote, escapechar, comment, encoding, encoding_errors, dialect, on_bad_lines, delim_whitespace, low_memory, memory_map, float_precision, storage_options, dtype_backend)\u001b[0m\n\u001b[0;32m   1013\u001b[0m kwds_defaults \u001b[38;5;241m=\u001b[39m _refine_defaults_read(\n\u001b[0;32m   1014\u001b[0m     dialect,\n\u001b[0;32m   1015\u001b[0m     delimiter,\n\u001b[1;32m   (...)\u001b[0m\n\u001b[0;32m   1022\u001b[0m     dtype_backend\u001b[38;5;241m=\u001b[39mdtype_backend,\n\u001b[0;32m   1023\u001b[0m )\n\u001b[0;32m   1024\u001b[0m kwds\u001b[38;5;241m.\u001b[39mupdate(kwds_defaults)\n\u001b[1;32m-> 1026\u001b[0m \u001b[38;5;28;01mreturn\u001b[39;00m _read(filepath_or_buffer, kwds)\n",
      "File \u001b[1;32m~\\AppData\\Local\\anaconda3\\envs\\aap\\Lib\\site-packages\\pandas\\io\\parsers\\readers.py:620\u001b[0m, in \u001b[0;36m_read\u001b[1;34m(filepath_or_buffer, kwds)\u001b[0m\n\u001b[0;32m    617\u001b[0m _validate_names(kwds\u001b[38;5;241m.\u001b[39mget(\u001b[38;5;124m\"\u001b[39m\u001b[38;5;124mnames\u001b[39m\u001b[38;5;124m\"\u001b[39m, \u001b[38;5;28;01mNone\u001b[39;00m))\n\u001b[0;32m    619\u001b[0m \u001b[38;5;66;03m# Create the parser.\u001b[39;00m\n\u001b[1;32m--> 620\u001b[0m parser \u001b[38;5;241m=\u001b[39m TextFileReader(filepath_or_buffer, \u001b[38;5;241m*\u001b[39m\u001b[38;5;241m*\u001b[39mkwds)\n\u001b[0;32m    622\u001b[0m \u001b[38;5;28;01mif\u001b[39;00m chunksize \u001b[38;5;129;01mor\u001b[39;00m iterator:\n\u001b[0;32m    623\u001b[0m     \u001b[38;5;28;01mreturn\u001b[39;00m parser\n",
      "File \u001b[1;32m~\\AppData\\Local\\anaconda3\\envs\\aap\\Lib\\site-packages\\pandas\\io\\parsers\\readers.py:1620\u001b[0m, in \u001b[0;36mTextFileReader.__init__\u001b[1;34m(self, f, engine, **kwds)\u001b[0m\n\u001b[0;32m   1617\u001b[0m     \u001b[38;5;28mself\u001b[39m\u001b[38;5;241m.\u001b[39moptions[\u001b[38;5;124m\"\u001b[39m\u001b[38;5;124mhas_index_names\u001b[39m\u001b[38;5;124m\"\u001b[39m] \u001b[38;5;241m=\u001b[39m kwds[\u001b[38;5;124m\"\u001b[39m\u001b[38;5;124mhas_index_names\u001b[39m\u001b[38;5;124m\"\u001b[39m]\n\u001b[0;32m   1619\u001b[0m \u001b[38;5;28mself\u001b[39m\u001b[38;5;241m.\u001b[39mhandles: IOHandles \u001b[38;5;241m|\u001b[39m \u001b[38;5;28;01mNone\u001b[39;00m \u001b[38;5;241m=\u001b[39m \u001b[38;5;28;01mNone\u001b[39;00m\n\u001b[1;32m-> 1620\u001b[0m \u001b[38;5;28mself\u001b[39m\u001b[38;5;241m.\u001b[39m_engine \u001b[38;5;241m=\u001b[39m \u001b[38;5;28mself\u001b[39m\u001b[38;5;241m.\u001b[39m_make_engine(f, \u001b[38;5;28mself\u001b[39m\u001b[38;5;241m.\u001b[39mengine)\n",
      "File \u001b[1;32m~\\AppData\\Local\\anaconda3\\envs\\aap\\Lib\\site-packages\\pandas\\io\\parsers\\readers.py:1880\u001b[0m, in \u001b[0;36mTextFileReader._make_engine\u001b[1;34m(self, f, engine)\u001b[0m\n\u001b[0;32m   1878\u001b[0m     \u001b[38;5;28;01mif\u001b[39;00m \u001b[38;5;124m\"\u001b[39m\u001b[38;5;124mb\u001b[39m\u001b[38;5;124m\"\u001b[39m \u001b[38;5;129;01mnot\u001b[39;00m \u001b[38;5;129;01min\u001b[39;00m mode:\n\u001b[0;32m   1879\u001b[0m         mode \u001b[38;5;241m+\u001b[39m\u001b[38;5;241m=\u001b[39m \u001b[38;5;124m\"\u001b[39m\u001b[38;5;124mb\u001b[39m\u001b[38;5;124m\"\u001b[39m\n\u001b[1;32m-> 1880\u001b[0m \u001b[38;5;28mself\u001b[39m\u001b[38;5;241m.\u001b[39mhandles \u001b[38;5;241m=\u001b[39m get_handle(\n\u001b[0;32m   1881\u001b[0m     f,\n\u001b[0;32m   1882\u001b[0m     mode,\n\u001b[0;32m   1883\u001b[0m     encoding\u001b[38;5;241m=\u001b[39m\u001b[38;5;28mself\u001b[39m\u001b[38;5;241m.\u001b[39moptions\u001b[38;5;241m.\u001b[39mget(\u001b[38;5;124m\"\u001b[39m\u001b[38;5;124mencoding\u001b[39m\u001b[38;5;124m\"\u001b[39m, \u001b[38;5;28;01mNone\u001b[39;00m),\n\u001b[0;32m   1884\u001b[0m     compression\u001b[38;5;241m=\u001b[39m\u001b[38;5;28mself\u001b[39m\u001b[38;5;241m.\u001b[39moptions\u001b[38;5;241m.\u001b[39mget(\u001b[38;5;124m\"\u001b[39m\u001b[38;5;124mcompression\u001b[39m\u001b[38;5;124m\"\u001b[39m, \u001b[38;5;28;01mNone\u001b[39;00m),\n\u001b[0;32m   1885\u001b[0m     memory_map\u001b[38;5;241m=\u001b[39m\u001b[38;5;28mself\u001b[39m\u001b[38;5;241m.\u001b[39moptions\u001b[38;5;241m.\u001b[39mget(\u001b[38;5;124m\"\u001b[39m\u001b[38;5;124mmemory_map\u001b[39m\u001b[38;5;124m\"\u001b[39m, \u001b[38;5;28;01mFalse\u001b[39;00m),\n\u001b[0;32m   1886\u001b[0m     is_text\u001b[38;5;241m=\u001b[39mis_text,\n\u001b[0;32m   1887\u001b[0m     errors\u001b[38;5;241m=\u001b[39m\u001b[38;5;28mself\u001b[39m\u001b[38;5;241m.\u001b[39moptions\u001b[38;5;241m.\u001b[39mget(\u001b[38;5;124m\"\u001b[39m\u001b[38;5;124mencoding_errors\u001b[39m\u001b[38;5;124m\"\u001b[39m, \u001b[38;5;124m\"\u001b[39m\u001b[38;5;124mstrict\u001b[39m\u001b[38;5;124m\"\u001b[39m),\n\u001b[0;32m   1888\u001b[0m     storage_options\u001b[38;5;241m=\u001b[39m\u001b[38;5;28mself\u001b[39m\u001b[38;5;241m.\u001b[39moptions\u001b[38;5;241m.\u001b[39mget(\u001b[38;5;124m\"\u001b[39m\u001b[38;5;124mstorage_options\u001b[39m\u001b[38;5;124m\"\u001b[39m, \u001b[38;5;28;01mNone\u001b[39;00m),\n\u001b[0;32m   1889\u001b[0m )\n\u001b[0;32m   1890\u001b[0m \u001b[38;5;28;01massert\u001b[39;00m \u001b[38;5;28mself\u001b[39m\u001b[38;5;241m.\u001b[39mhandles \u001b[38;5;129;01mis\u001b[39;00m \u001b[38;5;129;01mnot\u001b[39;00m \u001b[38;5;28;01mNone\u001b[39;00m\n\u001b[0;32m   1891\u001b[0m f \u001b[38;5;241m=\u001b[39m \u001b[38;5;28mself\u001b[39m\u001b[38;5;241m.\u001b[39mhandles\u001b[38;5;241m.\u001b[39mhandle\n",
      "File \u001b[1;32m~\\AppData\\Local\\anaconda3\\envs\\aap\\Lib\\site-packages\\pandas\\io\\common.py:873\u001b[0m, in \u001b[0;36mget_handle\u001b[1;34m(path_or_buf, mode, encoding, compression, memory_map, is_text, errors, storage_options)\u001b[0m\n\u001b[0;32m    868\u001b[0m \u001b[38;5;28;01melif\u001b[39;00m \u001b[38;5;28misinstance\u001b[39m(handle, \u001b[38;5;28mstr\u001b[39m):\n\u001b[0;32m    869\u001b[0m     \u001b[38;5;66;03m# Check whether the filename is to be opened in binary mode.\u001b[39;00m\n\u001b[0;32m    870\u001b[0m     \u001b[38;5;66;03m# Binary mode does not support 'encoding' and 'newline'.\u001b[39;00m\n\u001b[0;32m    871\u001b[0m     \u001b[38;5;28;01mif\u001b[39;00m ioargs\u001b[38;5;241m.\u001b[39mencoding \u001b[38;5;129;01mand\u001b[39;00m \u001b[38;5;124m\"\u001b[39m\u001b[38;5;124mb\u001b[39m\u001b[38;5;124m\"\u001b[39m \u001b[38;5;129;01mnot\u001b[39;00m \u001b[38;5;129;01min\u001b[39;00m ioargs\u001b[38;5;241m.\u001b[39mmode:\n\u001b[0;32m    872\u001b[0m         \u001b[38;5;66;03m# Encoding\u001b[39;00m\n\u001b[1;32m--> 873\u001b[0m         handle \u001b[38;5;241m=\u001b[39m \u001b[38;5;28mopen\u001b[39m(\n\u001b[0;32m    874\u001b[0m             handle,\n\u001b[0;32m    875\u001b[0m             ioargs\u001b[38;5;241m.\u001b[39mmode,\n\u001b[0;32m    876\u001b[0m             encoding\u001b[38;5;241m=\u001b[39mioargs\u001b[38;5;241m.\u001b[39mencoding,\n\u001b[0;32m    877\u001b[0m             errors\u001b[38;5;241m=\u001b[39merrors,\n\u001b[0;32m    878\u001b[0m             newline\u001b[38;5;241m=\u001b[39m\u001b[38;5;124m\"\u001b[39m\u001b[38;5;124m\"\u001b[39m,\n\u001b[0;32m    879\u001b[0m         )\n\u001b[0;32m    880\u001b[0m     \u001b[38;5;28;01melse\u001b[39;00m:\n\u001b[0;32m    881\u001b[0m         \u001b[38;5;66;03m# Binary mode\u001b[39;00m\n\u001b[0;32m    882\u001b[0m         handle \u001b[38;5;241m=\u001b[39m \u001b[38;5;28mopen\u001b[39m(handle, ioargs\u001b[38;5;241m.\u001b[39mmode)\n",
      "\u001b[1;31mFileNotFoundError\u001b[0m: [Errno 2] No such file or directory: '../../data/ou_expenses.csv'"
     ]
    }
   ],
   "source": [
    "# Read in the csv file with default values and all variables\n",
    "ou1 = pd.read_csv('../../data/ou_expenses.csv')\n",
    "ou1.info()"
   ]
  },
  {
   "cell_type": "code",
   "execution_count": null,
   "metadata": {},
   "outputs": [],
   "source": [
    "# Some of the variables are self explanatory but let's take a peak at the first few records \n",
    "# to get an idea of what we might be able to visualize of interest\n",
    "\n",
    "ou1.head()"
   ]
  },
  {
   "cell_type": "code",
   "execution_count": null,
   "metadata": {},
   "outputs": [],
   "source": [
    "# Another way - using multiple csvs\n",
    "\n",
    "file_name = '../../data/fin_trans_2024.csv'\n",
    "# code here to bring in csv into one datadrame\n",
    "# Clean data, drop columns, convert datatypes as needed\n",
    "\n",
    "# Start with one csv file to look at the data\n",
    "univ_exp24 = pd.read_csv(file_name)\n",
    "univ_exp24.info()"
   ]
  },
  {
   "cell_type": "markdown",
   "metadata": {},
   "source": [
    "Before we decide if we need to use any of read_csv features to change the data, let's look at the first few records."
   ]
  },
  {
   "cell_type": "code",
   "execution_count": null,
   "metadata": {},
   "outputs": [],
   "source": [
    "univ_exp24.head()"
   ]
  },
  {
   "cell_type": "markdown",
   "metadata": {},
   "source": [
    "Some of the data won't be necessary for plotting or EDA, so let's clean our file in a 2nd version. We could do this in the dataframe conversion but I won't need that data at all in this data exploration so we can use the readcsv parametres. We can convert some of the field types, drop a few columns, rename some of our columns, and create a new month field and eliminate the granularity of the transaction date. And we won't need the index so let's move (remove????) it. "
   ]
  },
  {
   "cell_type": "code",
   "execution_count": 15,
   "metadata": {},
   "outputs": [
    {
     "ename": "NameError",
     "evalue": "name 'file_name' is not defined",
     "output_type": "error",
     "traceback": [
      "\u001b[1;31m---------------------------------------------------------------------------\u001b[0m",
      "\u001b[1;31mNameError\u001b[0m                                 Traceback (most recent call last)",
      "Cell \u001b[1;32mIn[15], line 1\u001b[0m\n\u001b[1;32m----> 1\u001b[0m univ_exp24_a \u001b[38;5;241m=\u001b[39m pd\u001b[38;5;241m.\u001b[39mread_csv(file_name, dtype\u001b[38;5;241m=\u001b[39m{\u001b[38;5;124m'\u001b[39m\u001b[38;5;124mFIELD_CODE_KEY\u001b[39m\u001b[38;5;124m'\u001b[39m: \u001b[38;5;124m'\u001b[39m\u001b[38;5;124mstring\u001b[39m\u001b[38;5;124m'\u001b[39m, \u001b[38;5;124m'\u001b[39m\u001b[38;5;124mACCOUNT_DESC\u001b[39m\u001b[38;5;124m'\u001b[39m: \u001b[38;5;124m'\u001b[39m\u001b[38;5;124mstring\u001b[39m\u001b[38;5;124m'\u001b[39m, \n\u001b[0;32m      2\u001b[0m                                              \u001b[38;5;124m'\u001b[39m\u001b[38;5;124mACCOUNT_POOL_DESC\u001b[39m\u001b[38;5;124m'\u001b[39m: \u001b[38;5;124m'\u001b[39m\u001b[38;5;124mstring\u001b[39m\u001b[38;5;124m'\u001b[39m,\n\u001b[0;32m      3\u001b[0m                     \u001b[38;5;124m'\u001b[39m\u001b[38;5;124mACTUAL_ORGANIZATION_DESC_2\u001b[39m\u001b[38;5;124m'\u001b[39m:\u001b[38;5;124m'\u001b[39m\u001b[38;5;124mstring\u001b[39m\u001b[38;5;124m'\u001b[39m,\n\u001b[0;32m      4\u001b[0m                     \u001b[38;5;124m'\u001b[39m\u001b[38;5;124mACTUAL_ORGANIZATION_DESC_3\u001b[39m\u001b[38;5;124m'\u001b[39m:\u001b[38;5;124m'\u001b[39m\u001b[38;5;124mstring\u001b[39m\u001b[38;5;124m'\u001b[39m}, \n\u001b[0;32m      5\u001b[0m                   parse_dates\u001b[38;5;241m=\u001b[39m[\u001b[38;5;124m'\u001b[39m\u001b[38;5;124mMONTH_ABBR\u001b[39m\u001b[38;5;124m'\u001b[39m], \u001b[38;5;66;03m# month??\u001b[39;00m\n\u001b[0;32m      6\u001b[0m                   usecols\u001b[38;5;241m=\u001b[39m[\u001b[38;5;124m'\u001b[39m\u001b[38;5;124mFIELD_CODE_KEY\u001b[39m\u001b[38;5;124m'\u001b[39m, \u001b[38;5;124m'\u001b[39m\u001b[38;5;124mPOSTING_PERIOD\u001b[39m\u001b[38;5;124m'\u001b[39m, \u001b[38;5;124m'\u001b[39m\u001b[38;5;124mMONTH_ABBR\u001b[39m\u001b[38;5;124m'\u001b[39m,\u001b[38;5;124m'\u001b[39m\u001b[38;5;124mFISCAL_YEAR\u001b[39m\u001b[38;5;124m'\u001b[39m, \n\u001b[0;32m      7\u001b[0m                            \u001b[38;5;124m'\u001b[39m\u001b[38;5;124mACCOUNT_DESC\u001b[39m\u001b[38;5;124m'\u001b[39m,\n\u001b[0;32m      8\u001b[0m                            \u001b[38;5;124m'\u001b[39m\u001b[38;5;124mACCOUNT_POOL_DESC\u001b[39m\u001b[38;5;124m'\u001b[39m,\n\u001b[0;32m      9\u001b[0m                            \u001b[38;5;124m'\u001b[39m\u001b[38;5;124mACTUAL_ORGANIZATION_DESC_2\u001b[39m\u001b[38;5;124m'\u001b[39m,\n\u001b[0;32m     10\u001b[0m                           \u001b[38;5;124m'\u001b[39m\u001b[38;5;124mACTUAL_ORGANIZATION_DESC_3\u001b[39m\u001b[38;5;124m'\u001b[39m,\n\u001b[0;32m     11\u001b[0m                           \u001b[38;5;124m'\u001b[39m\u001b[38;5;124mTOTAL_AMOUNT\u001b[39m\u001b[38;5;124m'\u001b[39m],\n\u001b[0;32m     12\u001b[0m                   \u001b[38;5;66;03m#names=['Type','Period','Month','Year','Category','Division','Department','Amount']\u001b[39;00m\n\u001b[0;32m     13\u001b[0m                           )\n\u001b[0;32m     14\u001b[0m univ_exp24_a\u001b[38;5;241m.\u001b[39minfo()\n",
      "\u001b[1;31mNameError\u001b[0m: name 'file_name' is not defined"
     ]
    }
   ],
   "source": [
    "univ_exp24_a = pd.read_csv(file_name, dtype={'FIELD_CODE_KEY': 'string', 'ACCOUNT_DESC': 'string', \n",
    "                                             'ACCOUNT_POOL_DESC': 'string',\n",
    "                    'ACTUAL_ORGANIZATION_DESC_2':'string',\n",
    "                    'ACTUAL_ORGANIZATION_DESC_3':'string'}, \n",
    "                  parse_dates=['MONTH_ABBR'], # month??\n",
    "                  usecols=['FIELD_CODE_KEY', 'POSTING_PERIOD', 'MONTH_ABBR','FISCAL_YEAR', \n",
    "                           'ACCOUNT_DESC',\n",
    "                           'ACCOUNT_POOL_DESC',\n",
    "                           'ACTUAL_ORGANIZATION_DESC_2',\n",
    "                          'ACTUAL_ORGANIZATION_DESC_3',\n",
    "                          'TOTAL_AMOUNT'],\n",
    "                  #names=['Type','Period','Month','Year','Category','Division','Department','Amount']\n",
    "                          )\n",
    "univ_exp24_a.info()                      "
   ]
  },
  {
   "cell_type": "code",
   "execution_count": 16,
   "metadata": {},
   "outputs": [
    {
     "ename": "NameError",
     "evalue": "name 'univ_exp24_a' is not defined",
     "output_type": "error",
     "traceback": [
      "\u001b[1;31m---------------------------------------------------------------------------\u001b[0m",
      "\u001b[1;31mNameError\u001b[0m                                 Traceback (most recent call last)",
      "Cell \u001b[1;32mIn[16], line 1\u001b[0m\n\u001b[1;32m----> 1\u001b[0m univ_exp24_a\u001b[38;5;241m.\u001b[39mhead()\n",
      "\u001b[1;31mNameError\u001b[0m: name 'univ_exp24_a' is not defined"
     ]
    }
   ],
   "source": [
    "univ_exp24_a.head() "
   ]
  },
  {
   "cell_type": "markdown",
   "metadata": {},
   "source": [
    "Now that we know what the dataset looks like, let's do some analysis on the all of the data, and see if there are any trends."
   ]
  },
  {
   "cell_type": "code",
   "execution_count": 17,
   "metadata": {},
   "outputs": [
    {
     "data": {
      "text/html": [
       "<div id=\"seyjjmxber\" style=\"padding-left:0px;padding-right:0px;padding-top:10px;padding-bottom:10px;overflow-x:auto;overflow-y:auto;width:auto;height:auto;\">\n",
       "<style>\n",
       "#seyjjmxber table {\n",
       "          font-family: -apple-system, BlinkMacSystemFont, 'Segoe UI', Roboto, Oxygen, Ubuntu, Cantarell, 'Helvetica Neue', 'Fira Sans', 'Droid Sans', Arial, sans-serif;\n",
       "          -webkit-font-smoothing: antialiased;\n",
       "          -moz-osx-font-smoothing: grayscale;\n",
       "        }\n",
       "\n",
       "#seyjjmxber thead, tbody, tfoot, tr, td, th { border-style: none; }\n",
       " tr { background-color: transparent; }\n",
       "#seyjjmxber p { margin: 0; padding: 0; }\n",
       " #seyjjmxber .gt_table { display: table; border-collapse: collapse; line-height: normal; margin-left: auto; margin-right: auto; color: #333333; font-size: 16px; font-weight: normal; font-style: normal; background-color: #FFFFFF; width: auto; border-top-style: solid; border-top-width: 2px; border-top-color: #A8A8A8; border-right-style: none; border-right-width: 2px; border-right-color: #D3D3D3; border-bottom-style: solid; border-bottom-width: 2px; border-bottom-color: #A8A8A8; border-left-style: none; border-left-width: 2px; border-left-color: #D3D3D3; }\n",
       " #seyjjmxber .gt_caption { padding-top: 4px; padding-bottom: 4px; }\n",
       " #seyjjmxber .gt_title { color: #333333; font-size: 125%; font-weight: initial; padding-top: 4px; padding-bottom: 4px; padding-left: 5px; padding-right: 5px; border-bottom-color: #FFFFFF; border-bottom-width: 0; }\n",
       " #seyjjmxber .gt_subtitle { color: #333333; font-size: 85%; font-weight: initial; padding-top: 3px; padding-bottom: 5px; padding-left: 5px; padding-right: 5px; border-top-color: #FFFFFF; border-top-width: 0; }\n",
       " #seyjjmxber .gt_heading { background-color: #FFFFFF; text-align: center; border-bottom-color: #FFFFFF; border-left-style: none; border-left-width: 1px; border-left-color: #D3D3D3; border-right-style: none; border-right-width: 1px; border-right-color: #D3D3D3; }\n",
       " #seyjjmxber .gt_bottom_border { border-bottom-style: solid; border-bottom-width: 2px; border-bottom-color: #D3D3D3; }\n",
       " #seyjjmxber .gt_col_headings { border-top-style: solid; border-top-width: 2px; border-top-color: #D3D3D3; border-bottom-style: solid; border-bottom-width: 2px; border-bottom-color: #D3D3D3; border-left-style: none; border-left-width: 1px; border-left-color: #D3D3D3; border-right-style: none; border-right-width: 1px; border-right-color: #D3D3D3; }\n",
       " #seyjjmxber .gt_col_heading { color: #333333; background-color: #FFFFFF; font-size: 100%; font-weight: normal; text-transform: inherit; border-left-style: none; border-left-width: 1px; border-left-color: #D3D3D3; border-right-style: none; border-right-width: 1px; border-right-color: #D3D3D3; vertical-align: bottom; padding-top: 5px; padding-bottom: 5px; padding-left: 5px; padding-right: 5px; overflow-x: hidden; }\n",
       " #seyjjmxber .gt_column_spanner_outer { color: #333333; background-color: #FFFFFF; font-size: 100%; font-weight: normal; text-transform: inherit; padding-top: 0; padding-bottom: 0; padding-left: 4px; padding-right: 4px; }\n",
       " #seyjjmxber .gt_column_spanner_outer:first-child { padding-left: 0; }\n",
       " #seyjjmxber .gt_column_spanner_outer:last-child { padding-right: 0; }\n",
       " #seyjjmxber .gt_column_spanner { border-bottom-style: solid; border-bottom-width: 2px; border-bottom-color: #D3D3D3; vertical-align: bottom; padding-top: 5px; padding-bottom: 5px; overflow-x: hidden; display: inline-block; width: 100%; }\n",
       " #seyjjmxber .gt_spanner_row { border-bottom-style: hidden; }\n",
       " #seyjjmxber .gt_group_heading { padding-top: 8px; padding-bottom: 8px; padding-left: 5px; padding-right: 5px; color: #333333; background-color: #FFFFFF; font-size: 100%; font-weight: initial; text-transform: inherit; border-top-style: solid; border-top-width: 2px; border-top-color: #D3D3D3; border-bottom-style: solid; border-bottom-width: 2px; border-bottom-color: #D3D3D3; border-left-style: none; border-left-width: 1px; border-left-color: #D3D3D3; border-right-style: none; border-right-width: 1px; border-right-color: #D3D3D3; vertical-align: middle; text-align: left; }\n",
       " #seyjjmxber .gt_empty_group_heading { padding: 0.5px; color: #333333; background-color: #FFFFFF; font-size: 100%; font-weight: initial; border-top-style: solid; border-top-width: 2px; border-top-color: #D3D3D3; border-bottom-style: solid; border-bottom-width: 2px; border-bottom-color: #D3D3D3; vertical-align: middle; }\n",
       " #seyjjmxber .gt_from_md> :first-child { margin-top: 0; }\n",
       " #seyjjmxber .gt_from_md> :last-child { margin-bottom: 0; }\n",
       " #seyjjmxber .gt_row { padding-top: 8px; padding-bottom: 8px; padding-left: 5px; padding-right: 5px; margin: 10px; border-top-style: solid; border-top-width: 1px; border-top-color: #D3D3D3; border-left-style: none; border-left-width: 1px; border-left-color: #D3D3D3; border-right-style: none; border-right-width: 1px; border-right-color: #D3D3D3; vertical-align: middle; overflow-x: hidden; }\n",
       " #seyjjmxber .gt_stub { color: #333333; background-color: #FFFFFF; font-size: 100%; font-weight: initial; text-transform: inherit; border-right-style: solid; border-right-width: 2px; border-right-color: #D3D3D3; padding-left: 5px; padding-right: 5px; }\n",
       " #seyjjmxber .gt_stub_row_group { color: #333333; background-color: #FFFFFF; font-size: 100%; font-weight: initial; text-transform: inherit; border-right-style: solid; border-right-width: 2px; border-right-color: #D3D3D3; padding-left: 5px; padding-right: 5px; vertical-align: top; }\n",
       " #seyjjmxber .gt_row_group_first td { border-top-width: 2px; }\n",
       " #seyjjmxber .gt_row_group_first th { border-top-width: 2px; }\n",
       " #seyjjmxber .gt_striped { background-color: rgba(128,128,128,0.05); }\n",
       " #seyjjmxber .gt_table_body { border-top-style: solid; border-top-width: 2px; border-top-color: #D3D3D3; border-bottom-style: solid; border-bottom-width: 2px; border-bottom-color: #D3D3D3; }\n",
       " #seyjjmxber .gt_sourcenotes { color: #333333; background-color: #FFFFFF; border-bottom-style: none; border-bottom-width: 2px; border-bottom-color: #D3D3D3; border-left-style: none; border-left-width: 2px; border-left-color: #D3D3D3; border-right-style: none; border-right-width: 2px; border-right-color: #D3D3D3; }\n",
       " #seyjjmxber .gt_sourcenote { font-size: 90%; padding-top: 4px; padding-bottom: 4px; padding-left: 5px; padding-right: 5px; text-align: left; }\n",
       " #seyjjmxber .gt_left { text-align: left; }\n",
       " #seyjjmxber .gt_center { text-align: center; }\n",
       " #seyjjmxber .gt_right { text-align: right; font-variant-numeric: tabular-nums; }\n",
       " #seyjjmxber .gt_font_normal { font-weight: normal; }\n",
       " #seyjjmxber .gt_font_bold { font-weight: bold; }\n",
       " #seyjjmxber .gt_font_italic { font-style: italic; }\n",
       " #seyjjmxber .gt_super { font-size: 65%; }\n",
       " #seyjjmxber .gt_footnote_marks { font-size: 75%; vertical-align: 0.4em; position: initial; }\n",
       " #seyjjmxber .gt_asterisk { font-size: 100%; vertical-align: 0; }\n",
       " \n",
       "</style>\n",
       "<table class=\"gt_table\" data-quarto-disable-processing=\"false\" data-quarto-bootstrap=\"false\">\n",
       "<thead>\n",
       "\n",
       "  <tr class=\"gt_heading\">\n",
       "    <td colspan=\"15\" class=\"gt_heading gt_title gt_font_normal\">Average $ Spent on xx Category by Month and Fiscal Year</td>\n",
       "  </tr>\n",
       "  <tr class=\"gt_heading\">\n",
       "    <td colspan=\"15\" class=\"gt_heading gt_subtitle gt_font_normal gt_bottom_border\">Average monthly values by Dept.</td>\n",
       "  </tr>\n",
       "<tr class=\"gt_col_headings\">\n",
       "  <th class=\"gt_col_heading gt_columns_bottom_border gt_left\" rowspan=\"1\" colspan=\"1\" scope=\"col\" id=\"\"></th>\n",
       "  <th class=\"gt_col_heading gt_columns_bottom_border gt_right\" rowspan=\"1\" colspan=\"1\" scope=\"col\" id=\"0530\">0530</th>\n",
       "  <th class=\"gt_col_heading gt_columns_bottom_border gt_right\" rowspan=\"1\" colspan=\"1\" scope=\"col\" id=\"0600\">0600</th>\n",
       "  <th class=\"gt_col_heading gt_columns_bottom_border gt_right\" rowspan=\"1\" colspan=\"1\" scope=\"col\" id=\"0630\">0630</th>\n",
       "  <th class=\"gt_col_heading gt_columns_bottom_border gt_right\" rowspan=\"1\" colspan=\"1\" scope=\"col\" id=\"0700\">0700</th>\n",
       "  <th class=\"gt_col_heading gt_columns_bottom_border gt_right\" rowspan=\"1\" colspan=\"1\" scope=\"col\" id=\"0730\">0730</th>\n",
       "  <th class=\"gt_col_heading gt_columns_bottom_border gt_right\" rowspan=\"1\" colspan=\"1\" scope=\"col\" id=\"0800\">0800</th>\n",
       "  <th class=\"gt_col_heading gt_columns_bottom_border gt_right\" rowspan=\"1\" colspan=\"1\" scope=\"col\" id=\"0830\">0830</th>\n",
       "  <th class=\"gt_col_heading gt_columns_bottom_border gt_right\" rowspan=\"1\" colspan=\"1\" scope=\"col\" id=\"0900\">0900</th>\n",
       "  <th class=\"gt_col_heading gt_columns_bottom_border gt_right\" rowspan=\"1\" colspan=\"1\" scope=\"col\" id=\"0930\">0930</th>\n",
       "  <th class=\"gt_col_heading gt_columns_bottom_border gt_right\" rowspan=\"1\" colspan=\"1\" scope=\"col\" id=\"1000\">1000</th>\n",
       "  <th class=\"gt_col_heading gt_columns_bottom_border gt_right\" rowspan=\"1\" colspan=\"1\" scope=\"col\" id=\"1030\">1030</th>\n",
       "  <th class=\"gt_col_heading gt_columns_bottom_border gt_right\" rowspan=\"1\" colspan=\"1\" scope=\"col\" id=\"1100\">1100</th>\n",
       "  <th class=\"gt_col_heading gt_columns_bottom_border gt_right\" rowspan=\"1\" colspan=\"1\" scope=\"col\" id=\"1130\">1130</th>\n",
       "  <th class=\"gt_col_heading gt_columns_bottom_border gt_right\" rowspan=\"1\" colspan=\"1\" scope=\"col\" id=\"1200\">1200</th>\n",
       "</tr>\n",
       "</thead>\n",
       "<tbody class=\"gt_table_body\">\n",
       "  <tr>\n",
       "    <th style=\"color: #000000; background-color: #FFFFFF;\" class=\"gt_row gt_left gt_stub\">jan</th>\n",
       "    <td style=\"color: #000000; background-color: #FFFFFF;\" class=\"gt_row gt_right\"></td>\n",
       "    <td style=\"color: #000000; background-color: #FFFFFF;\" class=\"gt_row gt_right\"></td>\n",
       "    <td style=\"color: #000000; background-color: #FFFFFF;\" class=\"gt_row gt_right\"></td>\n",
       "    <td style=\"color: #FFFFFF; background-color: #774aa5;\" class=\"gt_row gt_right\">84.9</td>\n",
       "    <td style=\"color: #000000; background-color: #8c66b3;\" class=\"gt_row gt_right\">78.7</td>\n",
       "    <td style=\"color: #000000; background-color: #a181c0;\" class=\"gt_row gt_right\">72.7</td>\n",
       "    <td style=\"color: #000000; background-color: #b79fcf;\" class=\"gt_row gt_right\">66.1</td>\n",
       "    <td style=\"color: #000000; background-color: #c7b4da;\" class=\"gt_row gt_right\">61.5</td>\n",
       "    <td style=\"color: #000000; background-color: #d8cbe5;\" class=\"gt_row gt_right\">56.5</td>\n",
       "    <td style=\"color: #000000; background-color: #e7dfef;\" class=\"gt_row gt_right\">52.1</td>\n",
       "    <td style=\"color: #000000; background-color: #f4f0f8;\" class=\"gt_row gt_right\">48.3</td>\n",
       "    <td style=\"color: #000000; background-color: #fdfdfe;\" class=\"gt_row gt_right\">45.5</td>\n",
       "    <td style=\"color: #000000; background-color: #fffcf7;\" class=\"gt_row gt_right\">43.6</td>\n",
       "    <td style=\"color: #000000; background-color: #fffbf4;\" class=\"gt_row gt_right\">43.0</td>\n",
       "  </tr>\n",
       "  <tr>\n",
       "    <th style=\"color: #000000; background-color: #FFFFFF;\" class=\"gt_row gt_left gt_stub\">feb</th>\n",
       "    <td style=\"color: #000000; background-color: #FFFFFF;\" class=\"gt_row gt_right\"></td>\n",
       "    <td style=\"color: #000000; background-color: #FFFFFF;\" class=\"gt_row gt_right\"></td>\n",
       "    <td style=\"color: #FFFFFF; background-color: #6a389b;\" class=\"gt_row gt_right\">88.9</td>\n",
       "    <td style=\"color: #FFFFFF; background-color: #8055aa;\" class=\"gt_row gt_right\">82.5</td>\n",
       "    <td style=\"color: #000000; background-color: #9673b9;\" class=\"gt_row gt_right\">75.8</td>\n",
       "    <td style=\"color: #000000; background-color: #ab8fc7;\" class=\"gt_row gt_right\">69.6</td>\n",
       "    <td style=\"color: #000000; background-color: #c1acd6;\" class=\"gt_row gt_right\">63.3</td>\n",
       "    <td style=\"color: #000000; background-color: #d4c5e2;\" class=\"gt_row gt_right\">57.7</td>\n",
       "    <td style=\"color: #000000; background-color: #e7deef;\" class=\"gt_row gt_right\">52.2</td>\n",
       "    <td style=\"color: #000000; background-color: #f7f4fa;\" class=\"gt_row gt_right\">47.4</td>\n",
       "    <td style=\"color: #000000; background-color: #fffbf4;\" class=\"gt_row gt_right\">43.1</td>\n",
       "    <td style=\"color: #000000; background-color: #fff5e3;\" class=\"gt_row gt_right\">40.0</td>\n",
       "    <td style=\"color: #000000; background-color: #fff1d6;\" class=\"gt_row gt_right\">37.8</td>\n",
       "    <td style=\"color: #000000; background-color: #ffefd3;\" class=\"gt_row gt_right\">37.2</td>\n",
       "  </tr>\n",
       "  <tr>\n",
       "    <th style=\"color: #000000; background-color: #FFFFFF;\" class=\"gt_row gt_left gt_stub\">mar</th>\n",
       "    <td style=\"color: #000000; background-color: #FFFFFF;\" class=\"gt_row gt_right\"></td>\n",
       "    <td style=\"color: #000000; background-color: #FFFFFF;\" class=\"gt_row gt_right\"></td>\n",
       "    <td style=\"color: #FFFFFF; background-color: #7546a3;\" class=\"gt_row gt_right\">85.7</td>\n",
       "    <td style=\"color: #000000; background-color: #8c66b2;\" class=\"gt_row gt_right\">78.8</td>\n",
       "    <td style=\"color: #000000; background-color: #a385c2;\" class=\"gt_row gt_right\">72.0</td>\n",
       "    <td style=\"color: #000000; background-color: #baa3d1;\" class=\"gt_row gt_right\">65.2</td>\n",
       "    <td style=\"color: #000000; background-color: #d1c1e0;\" class=\"gt_row gt_right\">58.6</td>\n",
       "    <td style=\"color: #000000; background-color: #e6deee;\" class=\"gt_row gt_right\">52.3</td>\n",
       "    <td style=\"color: #000000; background-color: #fbfafc;\" class=\"gt_row gt_right\">46.2</td>\n",
       "    <td style=\"color: #000000; background-color: #fff6e5;\" class=\"gt_row gt_right\">40.5</td>\n",
       "    <td style=\"color: #000000; background-color: #ffecc9;\" class=\"gt_row gt_right\">35.5</td>\n",
       "    <td style=\"color: #000000; background-color: #ffe4b2;\" class=\"gt_row gt_right\">31.4</td>\n",
       "    <td style=\"color: #000000; background-color: #ffdea2;\" class=\"gt_row gt_right\">28.6</td>\n",
       "    <td style=\"color: #000000; background-color: #ffdc9d;\" class=\"gt_row gt_right\">27.7</td>\n",
       "  </tr>\n",
       "  <tr>\n",
       "    <th style=\"color: #000000; background-color: #FFFFFF;\" class=\"gt_row gt_left gt_stub\">apr</th>\n",
       "    <td style=\"color: #000000; background-color: #FFFFFF;\" class=\"gt_row gt_right\"></td>\n",
       "    <td style=\"color: #FFFFFF; background-color: #6b3a9c;\" class=\"gt_row gt_right\">88.5</td>\n",
       "    <td style=\"color: #FFFFFF; background-color: #835aac;\" class=\"gt_row gt_right\">81.5</td>\n",
       "    <td style=\"color: #000000; background-color: #9b7abc;\" class=\"gt_row gt_right\">74.4</td>\n",
       "    <td style=\"color: #000000; background-color: #b399cc;\" class=\"gt_row gt_right\">67.4</td>\n",
       "    <td style=\"color: #000000; background-color: #cbbadc;\" class=\"gt_row gt_right\">60.3</td>\n",
       "    <td style=\"color: #000000; background-color: #e2d9ec;\" class=\"gt_row gt_right\">53.4</td>\n",
       "    <td style=\"color: #000000; background-color: #faf8fc;\" class=\"gt_row gt_right\">46.5</td>\n",
       "    <td style=\"color: #000000; background-color: #fff4e1;\" class=\"gt_row gt_right\">39.7</td>\n",
       "    <td style=\"color: #000000; background-color: #ffe7bc;\" class=\"gt_row gt_right\">33.2</td>\n",
       "    <td style=\"color: #000000; background-color: #ffdb98;\" class=\"gt_row gt_right\">26.9</td>\n",
       "    <td style=\"color: #000000; background-color: #ffd079;\" class=\"gt_row gt_right\">21.3</td>\n",
       "    <td style=\"color: #000000; background-color: #ffc761;\" class=\"gt_row gt_right\">17.2</td>\n",
       "    <td style=\"color: #000000; background-color: #ffc458;\" class=\"gt_row gt_right\">15.5</td>\n",
       "  </tr>\n",
       "  <tr>\n",
       "    <th style=\"color: #000000; background-color: #FFFFFF;\" class=\"gt_row gt_left gt_stub\">may</th>\n",
       "    <td style=\"color: #000000; background-color: #FFFFFF;\" class=\"gt_row gt_right\"></td>\n",
       "    <td style=\"color: #FFFFFF; background-color: #774aa4;\" class=\"gt_row gt_right\">85.0</td>\n",
       "    <td style=\"color: #000000; background-color: #8e68b4;\" class=\"gt_row gt_right\">78.2</td>\n",
       "    <td style=\"color: #000000; background-color: #a688c4;\" class=\"gt_row gt_right\">71.2</td>\n",
       "    <td style=\"color: #000000; background-color: #bda8d3;\" class=\"gt_row gt_right\">64.3</td>\n",
       "    <td style=\"color: #000000; background-color: #d6c8e3;\" class=\"gt_row gt_right\">57.2</td>\n",
       "    <td style=\"color: #000000; background-color: #ede7f3;\" class=\"gt_row gt_right\">50.2</td>\n",
       "    <td style=\"color: #000000; background-color: #fffbf5;\" class=\"gt_row gt_right\">43.2</td>\n",
       "    <td style=\"color: #000000; background-color: #ffedcd;\" class=\"gt_row gt_right\">36.1</td>\n",
       "    <td style=\"color: #000000; background-color: #ffdfa5;\" class=\"gt_row gt_right\">29.1</td>\n",
       "    <td style=\"color: #000000; background-color: #ffd994;\" class=\"gt_row gt_right\">26.1</td>\n",
       "    <td style=\"color: #000000; background-color: #ffc356;\" class=\"gt_row gt_right\">15.2</td>\n",
       "    <td style=\"color: #000000; background-color: #ffb732;\" class=\"gt_row gt_right\">8.8</td>\n",
       "    <td style=\"color: #000000; background-color: #ffaf1c;\" class=\"gt_row gt_right\">5.0</td>\n",
       "  </tr>\n",
       "  <tr>\n",
       "    <th style=\"color: #000000; background-color: #FFFFFF;\" class=\"gt_row gt_left gt_stub\">jun</th>\n",
       "    <td style=\"color: #FFFFFF; background-color: #69379b;\" class=\"gt_row gt_right\">89.2</td>\n",
       "    <td style=\"color: #FFFFFF; background-color: #7f54aa;\" class=\"gt_row gt_right\">82.7</td>\n",
       "    <td style=\"color: #000000; background-color: #9672b9;\" class=\"gt_row gt_right\">76.0</td>\n",
       "    <td style=\"color: #000000; background-color: #ac91c8;\" class=\"gt_row gt_right\">69.3</td>\n",
       "    <td style=\"color: #000000; background-color: #c4b0d7;\" class=\"gt_row gt_right\">62.5</td>\n",
       "    <td style=\"color: #000000; background-color: #dbcee7;\" class=\"gt_row gt_right\">55.7</td>\n",
       "    <td style=\"color: #000000; background-color: #f2eef6;\" class=\"gt_row gt_right\">48.8</td>\n",
       "    <td style=\"color: #000000; background-color: #fff9ed;\" class=\"gt_row gt_right\">41.9</td>\n",
       "    <td style=\"color: #000000; background-color: #ffebc6;\" class=\"gt_row gt_right\">35.0</td>\n",
       "    <td style=\"color: #000000; background-color: #ffdd9f;\" class=\"gt_row gt_right\">28.1</td>\n",
       "    <td style=\"color: #000000; background-color: #ffcf78;\" class=\"gt_row gt_right\">21.1</td>\n",
       "    <td style=\"color: #000000; background-color: #ffc150;\" class=\"gt_row gt_right\">14.2</td>\n",
       "    <td style=\"color: #000000; background-color: #ffb429;\" class=\"gt_row gt_right\">7.3</td>\n",
       "    <td style=\"color: #000000; background-color: #ffa90b;\" class=\"gt_row gt_right\">2.0</td>\n",
       "  </tr>\n",
       "  <tr>\n",
       "    <th style=\"color: #000000; background-color: #FFFFFF;\" class=\"gt_row gt_left gt_stub\">jul</th>\n",
       "    <td style=\"color: #FFFFFF; background-color: #6a389c;\" class=\"gt_row gt_right\">88.8</td>\n",
       "    <td style=\"color: #FFFFFF; background-color: #8056aa;\" class=\"gt_row gt_right\">82.3</td>\n",
       "    <td style=\"color: #000000; background-color: #9774b9;\" class=\"gt_row gt_right\">75.7</td>\n",
       "    <td style=\"color: #000000; background-color: #ad92c8;\" class=\"gt_row gt_right\">69.1</td>\n",
       "    <td style=\"color: #000000; background-color: #c4b1d8;\" class=\"gt_row gt_right\">62.3</td>\n",
       "    <td style=\"color: #000000; background-color: #dbcfe7;\" class=\"gt_row gt_right\">55.5</td>\n",
       "    <td style=\"color: #000000; background-color: #f2eef7;\" class=\"gt_row gt_right\">48.7</td>\n",
       "    <td style=\"color: #000000; background-color: #fff9ed;\" class=\"gt_row gt_right\">41.8</td>\n",
       "    <td style=\"color: #000000; background-color: #ffebc6;\" class=\"gt_row gt_right\">35.0</td>\n",
       "    <td style=\"color: #000000; background-color: #ffdd9f;\" class=\"gt_row gt_right\">28.1</td>\n",
       "    <td style=\"color: #000000; background-color: #ffcf78;\" class=\"gt_row gt_right\">21.2</td>\n",
       "    <td style=\"color: #000000; background-color: #ffc251;\" class=\"gt_row gt_right\">14.3</td>\n",
       "    <td style=\"color: #000000; background-color: #ffb42c;\" class=\"gt_row gt_right\">7.7</td>\n",
       "    <td style=\"color: #000000; background-color: #ffab12;\" class=\"gt_row gt_right\">3.1</td>\n",
       "  </tr>\n",
       "  <tr>\n",
       "    <th style=\"color: #000000; background-color: #FFFFFF;\" class=\"gt_row gt_left gt_stub\">aug</th>\n",
       "    <td style=\"color: #000000; background-color: #FFFFFF;\" class=\"gt_row gt_right\"></td>\n",
       "    <td style=\"color: #FFFFFF; background-color: #7b4fa7;\" class=\"gt_row gt_right\">83.8</td>\n",
       "    <td style=\"color: #000000; background-color: #926db6;\" class=\"gt_row gt_right\">77.1</td>\n",
       "    <td style=\"color: #000000; background-color: #a98dc6;\" class=\"gt_row gt_right\">70.2</td>\n",
       "    <td style=\"color: #000000; background-color: #c1acd6;\" class=\"gt_row gt_right\">63.3</td>\n",
       "    <td style=\"color: #000000; background-color: #d8cbe5;\" class=\"gt_row gt_right\">56.4</td>\n",
       "    <td style=\"color: #000000; background-color: #f0ebf5;\" class=\"gt_row gt_right\">49.4</td>\n",
       "    <td style=\"color: #000000; background-color: #fffaf0;\" class=\"gt_row gt_right\">42.4</td>\n",
       "    <td style=\"color: #000000; background-color: #ffecc9;\" class=\"gt_row gt_right\">35.4</td>\n",
       "    <td style=\"color: #000000; background-color: #ffdea0;\" class=\"gt_row gt_right\">28.3</td>\n",
       "    <td style=\"color: #000000; background-color: #ffd079;\" class=\"gt_row gt_right\">21.3</td>\n",
       "    <td style=\"color: #000000; background-color: #ffc251;\" class=\"gt_row gt_right\">14.3</td>\n",
       "    <td style=\"color: #000000; background-color: #ffb429;\" class=\"gt_row gt_right\">7.3</td>\n",
       "    <td style=\"color: #000000; background-color: #ffa90b;\" class=\"gt_row gt_right\">1.9</td>\n",
       "  </tr>\n",
       "  <tr>\n",
       "    <th style=\"color: #000000; background-color: #FFFFFF;\" class=\"gt_row gt_left gt_stub\">sep</th>\n",
       "    <td style=\"color: #000000; background-color: #FFFFFF;\" class=\"gt_row gt_right\"></td>\n",
       "    <td style=\"color: #FFFFFF; background-color: #70409f;\" class=\"gt_row gt_right\">87.2</td>\n",
       "    <td style=\"color: #FFFFFF; background-color: #875faf;\" class=\"gt_row gt_right\">80.2</td>\n",
       "    <td style=\"color: #000000; background-color: #9f7fbf;\" class=\"gt_row gt_right\">73.2</td>\n",
       "    <td style=\"color: #000000; background-color: #b79fcf;\" class=\"gt_row gt_right\">66.1</td>\n",
       "    <td style=\"color: #000000; background-color: #cfbfdf;\" class=\"gt_row gt_right\">59.1</td>\n",
       "    <td style=\"color: #000000; background-color: #e7dfef;\" class=\"gt_row gt_right\">52.1</td>\n",
       "    <td style=\"color: #000000; background-color: #ffffff;\" class=\"gt_row gt_right\">45.1</td>\n",
       "    <td style=\"color: #000000; background-color: #fff1d8;\" class=\"gt_row gt_right\">38.1</td>\n",
       "    <td style=\"color: #000000; background-color: #ffe4b1;\" class=\"gt_row gt_right\">31.3</td>\n",
       "    <td style=\"color: #000000; background-color: #ffd68c;\" class=\"gt_row gt_right\">24.7</td>\n",
       "    <td style=\"color: #000000; background-color: #ffca69;\" class=\"gt_row gt_right\">18.6</td>\n",
       "    <td style=\"color: #000000; background-color: #ffc04e;\" class=\"gt_row gt_right\">13.7</td>\n",
       "    <td style=\"color: #000000; background-color: #ffbc42;\" class=\"gt_row gt_right\">11.6</td>\n",
       "  </tr>\n",
       "  <tr>\n",
       "    <th style=\"color: #000000; background-color: #FFFFFF;\" class=\"gt_row gt_left gt_stub\">oct</th>\n",
       "    <td style=\"color: #000000; background-color: #FFFFFF;\" class=\"gt_row gt_right\"></td>\n",
       "    <td style=\"color: #000000; background-color: #FFFFFF;\" class=\"gt_row gt_right\"></td>\n",
       "    <td style=\"color: #FFFFFF; background-color: #7a4ea6;\" class=\"gt_row gt_right\">84.1</td>\n",
       "    <td style=\"color: #000000; background-color: #926db6;\" class=\"gt_row gt_right\">77.1</td>\n",
       "    <td style=\"color: #000000; background-color: #a98dc6;\" class=\"gt_row gt_right\">70.2</td>\n",
       "    <td style=\"color: #000000; background-color: #c1acd6;\" class=\"gt_row gt_right\">63.3</td>\n",
       "    <td style=\"color: #000000; background-color: #d8cbe5;\" class=\"gt_row gt_right\">56.5</td>\n",
       "    <td style=\"color: #000000; background-color: #eee9f4;\" class=\"gt_row gt_right\">49.9</td>\n",
       "    <td style=\"color: #000000; background-color: #fffcf6;\" class=\"gt_row gt_right\">43.5</td>\n",
       "    <td style=\"color: #000000; background-color: #fff0d4;\" class=\"gt_row gt_right\">37.5</td>\n",
       "    <td style=\"color: #000000; background-color: #ffe5b5;\" class=\"gt_row gt_right\">32.0</td>\n",
       "    <td style=\"color: #000000; background-color: #ffdc9b;\" class=\"gt_row gt_right\">27.4</td>\n",
       "    <td style=\"color: #000000; background-color: #ffd68a;\" class=\"gt_row gt_right\">24.3</td>\n",
       "    <td style=\"color: #000000; background-color: #ffd383;\" class=\"gt_row gt_right\">23.1</td>\n",
       "  </tr>\n",
       "  <tr>\n",
       "    <th style=\"color: #000000; background-color: #FFFFFF;\" class=\"gt_row gt_left gt_stub\">nov</th>\n",
       "    <td style=\"color: #000000; background-color: #FFFFFF;\" class=\"gt_row gt_right\"></td>\n",
       "    <td style=\"color: #000000; background-color: #FFFFFF;\" class=\"gt_row gt_right\"></td>\n",
       "    <td style=\"color: #FFFFFF; background-color: #6d3d9e;\" class=\"gt_row gt_right\">87.8</td>\n",
       "    <td style=\"color: #FFFFFF; background-color: #845aad;\" class=\"gt_row gt_right\">81.3</td>\n",
       "    <td style=\"color: #000000; background-color: #9b79bc;\" class=\"gt_row gt_right\">74.5</td>\n",
       "    <td style=\"color: #000000; background-color: #b095ca;\" class=\"gt_row gt_right\">68.3</td>\n",
       "    <td style=\"color: #000000; background-color: #c6b3d9;\" class=\"gt_row gt_right\">61.8</td>\n",
       "    <td style=\"color: #000000; background-color: #dacde6;\" class=\"gt_row gt_right\">56.0</td>\n",
       "    <td style=\"color: #000000; background-color: #ede7f3;\" class=\"gt_row gt_right\">50.2</td>\n",
       "    <td style=\"color: #000000; background-color: #fefefe;\" class=\"gt_row gt_right\">45.3</td>\n",
       "    <td style=\"color: #000000; background-color: #fff6e7;\" class=\"gt_row gt_right\">40.7</td>\n",
       "    <td style=\"color: #000000; background-color: #fff0d4;\" class=\"gt_row gt_right\">37.4</td>\n",
       "    <td style=\"color: #000000; background-color: #ffebc7;\" class=\"gt_row gt_right\">35.1</td>\n",
       "    <td style=\"color: #000000; background-color: #ffeac3;\" class=\"gt_row gt_right\">34.4</td>\n",
       "  </tr>\n",
       "  <tr>\n",
       "    <th style=\"color: #000000; background-color: #FFFFFF;\" class=\"gt_row gt_left gt_stub\">dec</th>\n",
       "    <td style=\"color: #000000; background-color: #FFFFFF;\" class=\"gt_row gt_right\"></td>\n",
       "    <td style=\"color: #000000; background-color: #FFFFFF;\" class=\"gt_row gt_right\"></td>\n",
       "    <td style=\"color: #000000; background-color: #FFFFFF;\" class=\"gt_row gt_right\"></td>\n",
       "    <td style=\"color: #FFFFFF; background-color: #794da6;\" class=\"gt_row gt_right\">84.3</td>\n",
       "    <td style=\"color: #000000; background-color: #8f69b4;\" class=\"gt_row gt_right\">78.0</td>\n",
       "    <td style=\"color: #000000; background-color: #a486c2;\" class=\"gt_row gt_right\">71.8</td>\n",
       "    <td style=\"color: #000000; background-color: #b79fcf;\" class=\"gt_row gt_right\">66.1</td>\n",
       "    <td style=\"color: #000000; background-color: #cab9dc;\" class=\"gt_row gt_right\">60.5</td>\n",
       "    <td style=\"color: #000000; background-color: #dbcfe7;\" class=\"gt_row gt_right\">55.6</td>\n",
       "    <td style=\"color: #000000; background-color: #ebe4f2;\" class=\"gt_row gt_right\">50.9</td>\n",
       "    <td style=\"color: #000000; background-color: #f8f5fa;\" class=\"gt_row gt_right\">47.2</td>\n",
       "    <td style=\"color: #000000; background-color: #fffdfa;\" class=\"gt_row gt_right\">44.2</td>\n",
       "    <td style=\"color: #000000; background-color: #fffaf0;\" class=\"gt_row gt_right\">42.4</td>\n",
       "    <td style=\"color: #000000; background-color: #fff9ed;\" class=\"gt_row gt_right\">41.8</td>\n",
       "  </tr>\n",
       "</tbody>\n",
       "\n",
       "\n",
       "</table>\n",
       "\n",
       "</div>\n",
       "        "
      ],
      "text/plain": [
       "GT(_tbl_data=shape: (12, 15)\n",
       "┌───────┬──────┬──────┬──────┬───┬──────┬──────┬──────┬──────┐\n",
       "│ month ┆ 0530 ┆ 0600 ┆ 0630 ┆ … ┆ 1030 ┆ 1100 ┆ 1130 ┆ 1200 │\n",
       "│ ---   ┆ ---  ┆ ---  ┆ ---  ┆   ┆ ---  ┆ ---  ┆ ---  ┆ ---  │\n",
       "│ str   ┆ f64  ┆ f64  ┆ f64  ┆   ┆ f64  ┆ f64  ┆ f64  ┆ f64  │\n",
       "╞═══════╪══════╪══════╪══════╪═══╪══════╪══════╪══════╪══════╡\n",
       "│ jan   ┆ null ┆ null ┆ null ┆ … ┆ 48.3 ┆ 45.5 ┆ 43.6 ┆ 43.0 │\n",
       "│ feb   ┆ null ┆ null ┆ 88.9 ┆ … ┆ 43.1 ┆ 40.0 ┆ 37.8 ┆ 37.2 │\n",
       "│ mar   ┆ null ┆ null ┆ 85.7 ┆ … ┆ 35.5 ┆ 31.4 ┆ 28.6 ┆ 27.7 │\n",
       "│ apr   ┆ null ┆ 88.5 ┆ 81.5 ┆ … ┆ 26.9 ┆ 21.3 ┆ 17.2 ┆ 15.5 │\n",
       "│ may   ┆ null ┆ 85.0 ┆ 78.2 ┆ … ┆ 26.1 ┆ 15.2 ┆ 8.8  ┆ 5.0  │\n",
       "│ …     ┆ …    ┆ …    ┆ …    ┆ … ┆ …    ┆ …    ┆ …    ┆ …    │\n",
       "│ aug   ┆ null ┆ 83.8 ┆ 77.1 ┆ … ┆ 21.3 ┆ 14.3 ┆ 7.3  ┆ 1.9  │\n",
       "│ sep   ┆ null ┆ 87.2 ┆ 80.2 ┆ … ┆ 24.7 ┆ 18.6 ┆ 13.7 ┆ 11.6 │\n",
       "│ oct   ┆ null ┆ null ┆ 84.1 ┆ … ┆ 32.0 ┆ 27.4 ┆ 24.3 ┆ 23.1 │\n",
       "│ nov   ┆ null ┆ null ┆ 87.8 ┆ … ┆ 40.7 ┆ 37.4 ┆ 35.1 ┆ 34.4 │\n",
       "│ dec   ┆ null ┆ null ┆ null ┆ … ┆ 47.2 ┆ 44.2 ┆ 42.4 ┆ 41.8 │\n",
       "└───────┴──────┴──────┴──────┴───┴──────┴──────┴──────┴──────┘, _body=<great_tables._gt_data.Body object at 0x000001EF69650350>, _boxhead=Boxhead([ColInfo(var='month', type=<ColInfoTypeEnum.stub: 2>, column_label='month', column_align='left', column_width=None), ColInfo(var='0530', type=<ColInfoTypeEnum.default: 1>, column_label='0530', column_align='right', column_width=None), ColInfo(var='0600', type=<ColInfoTypeEnum.default: 1>, column_label='0600', column_align='right', column_width=None), ColInfo(var='0630', type=<ColInfoTypeEnum.default: 1>, column_label='0630', column_align='right', column_width=None), ColInfo(var='0700', type=<ColInfoTypeEnum.default: 1>, column_label='0700', column_align='right', column_width=None), ColInfo(var='0730', type=<ColInfoTypeEnum.default: 1>, column_label='0730', column_align='right', column_width=None), ColInfo(var='0800', type=<ColInfoTypeEnum.default: 1>, column_label='0800', column_align='right', column_width=None), ColInfo(var='0830', type=<ColInfoTypeEnum.default: 1>, column_label='0830', column_align='right', column_width=None), ColInfo(var='0900', type=<ColInfoTypeEnum.default: 1>, column_label='0900', column_align='right', column_width=None), ColInfo(var='0930', type=<ColInfoTypeEnum.default: 1>, column_label='0930', column_align='right', column_width=None), ColInfo(var='1000', type=<ColInfoTypeEnum.default: 1>, column_label='1000', column_align='right', column_width=None), ColInfo(var='1030', type=<ColInfoTypeEnum.default: 1>, column_label='1030', column_align='right', column_width=None), ColInfo(var='1100', type=<ColInfoTypeEnum.default: 1>, column_label='1100', column_align='right', column_width=None), ColInfo(var='1130', type=<ColInfoTypeEnum.default: 1>, column_label='1130', column_align='right', column_width=None), ColInfo(var='1200', type=<ColInfoTypeEnum.default: 1>, column_label='1200', column_align='right', column_width=None)]), _stub=<great_tables._gt_data.Stub object at 0x000001EF69803230>, _spanners=Spanners([]), _heading=Heading(title='Average $ Spent on xx Category by Month and Fiscal Year', subtitle=Html(text='Average monthly values by Dept.'), preheader=None), _stubhead=None, _source_notes=[], _footnotes=[], _styles=[StyleInfo(locname=LocBody(columns='month', rows=[0], mask=None), grpname=None, colname='month', rownum=0, colnum=None, styles=[CellStyleText(color='#000000', font=None, size=None, align=None, v_align=None, style=None, weight=None, stretch=None, decorate=None, transform=None, whitespace=None), CellStyleFill(color='#FFFFFF')]), StyleInfo(locname=LocBody(columns='month', rows=[1], mask=None), grpname=None, colname='month', rownum=1, colnum=None, styles=[CellStyleText(color='#000000', font=None, size=None, align=None, v_align=None, style=None, weight=None, stretch=None, decorate=None, transform=None, whitespace=None), CellStyleFill(color='#FFFFFF')]), StyleInfo(locname=LocBody(columns='month', rows=[2], mask=None), grpname=None, colname='month', rownum=2, colnum=None, styles=[CellStyleText(color='#000000', font=None, size=None, align=None, v_align=None, style=None, weight=None, stretch=None, decorate=None, transform=None, whitespace=None), CellStyleFill(color='#FFFFFF')]), StyleInfo(locname=LocBody(columns='month', rows=[3], mask=None), grpname=None, colname='month', rownum=3, colnum=None, styles=[CellStyleText(color='#000000', font=None, size=None, align=None, v_align=None, style=None, weight=None, stretch=None, decorate=None, transform=None, whitespace=None), CellStyleFill(color='#FFFFFF')]), StyleInfo(locname=LocBody(columns='month', rows=[4], mask=None), grpname=None, colname='month', rownum=4, colnum=None, styles=[CellStyleText(color='#000000', font=None, size=None, align=None, v_align=None, style=None, weight=None, stretch=None, decorate=None, transform=None, whitespace=None), CellStyleFill(color='#FFFFFF')]), StyleInfo(locname=LocBody(columns='month', rows=[5], mask=None), grpname=None, colname='month', rownum=5, colnum=None, styles=[CellStyleText(color='#000000', font=None, size=None, align=None, v_align=None, style=None, weight=None, stretch=None, decorate=None, transform=None, whitespace=None), CellStyleFill(color='#FFFFFF')]), StyleInfo(locname=LocBody(columns='month', rows=[6], mask=None), grpname=None, colname='month', rownum=6, colnum=None, styles=[CellStyleText(color='#000000', font=None, size=None, align=None, v_align=None, style=None, weight=None, stretch=None, decorate=None, transform=None, whitespace=None), CellStyleFill(color='#FFFFFF')]), StyleInfo(locname=LocBody(columns='month', rows=[7], mask=None), grpname=None, colname='month', rownum=7, colnum=None, styles=[CellStyleText(color='#000000', font=None, size=None, align=None, v_align=None, style=None, weight=None, stretch=None, decorate=None, transform=None, whitespace=None), CellStyleFill(color='#FFFFFF')]), StyleInfo(locname=LocBody(columns='month', rows=[8], mask=None), grpname=None, colname='month', rownum=8, colnum=None, styles=[CellStyleText(color='#000000', font=None, size=None, align=None, v_align=None, style=None, weight=None, stretch=None, decorate=None, transform=None, whitespace=None), CellStyleFill(color='#FFFFFF')]), StyleInfo(locname=LocBody(columns='month', rows=[9], mask=None), grpname=None, colname='month', rownum=9, colnum=None, styles=[CellStyleText(color='#000000', font=None, size=None, align=None, v_align=None, style=None, weight=None, stretch=None, decorate=None, transform=None, whitespace=None), CellStyleFill(color='#FFFFFF')]), StyleInfo(locname=LocBody(columns='month', rows=[10], mask=None), grpname=None, colname='month', rownum=10, colnum=None, styles=[CellStyleText(color='#000000', font=None, size=None, align=None, v_align=None, style=None, weight=None, stretch=None, decorate=None, transform=None, whitespace=None), CellStyleFill(color='#FFFFFF')]), StyleInfo(locname=LocBody(columns='month', rows=[11], mask=None), grpname=None, colname='month', rownum=11, colnum=None, styles=[CellStyleText(color='#000000', font=None, size=None, align=None, v_align=None, style=None, weight=None, stretch=None, decorate=None, transform=None, whitespace=None), CellStyleFill(color='#FFFFFF')]), StyleInfo(locname=LocBody(columns='0530', rows=[0], mask=None), grpname=None, colname='0530', rownum=0, colnum=None, styles=[CellStyleText(color='#000000', font=None, size=None, align=None, v_align=None, style=None, weight=None, stretch=None, decorate=None, transform=None, whitespace=None), CellStyleFill(color='#FFFFFF')]), StyleInfo(locname=LocBody(columns='0530', rows=[1], mask=None), grpname=None, colname='0530', rownum=1, colnum=None, styles=[CellStyleText(color='#000000', font=None, size=None, align=None, v_align=None, style=None, weight=None, stretch=None, decorate=None, transform=None, whitespace=None), CellStyleFill(color='#FFFFFF')]), StyleInfo(locname=LocBody(columns='0530', rows=[2], mask=None), grpname=None, colname='0530', rownum=2, colnum=None, styles=[CellStyleText(color='#000000', font=None, size=None, align=None, v_align=None, style=None, weight=None, stretch=None, decorate=None, transform=None, whitespace=None), CellStyleFill(color='#FFFFFF')]), StyleInfo(locname=LocBody(columns='0530', rows=[3], mask=None), grpname=None, colname='0530', rownum=3, colnum=None, styles=[CellStyleText(color='#000000', font=None, size=None, align=None, v_align=None, style=None, weight=None, stretch=None, decorate=None, transform=None, whitespace=None), CellStyleFill(color='#FFFFFF')]), StyleInfo(locname=LocBody(columns='0530', rows=[4], mask=None), grpname=None, colname='0530', rownum=4, colnum=None, styles=[CellStyleText(color='#000000', font=None, size=None, align=None, v_align=None, style=None, weight=None, stretch=None, decorate=None, transform=None, whitespace=None), CellStyleFill(color='#FFFFFF')]), StyleInfo(locname=LocBody(columns='0530', rows=[5], mask=None), grpname=None, colname='0530', rownum=5, colnum=None, styles=[CellStyleText(color='#FFFFFF', font=None, size=None, align=None, v_align=None, style=None, weight=None, stretch=None, decorate=None, transform=None, whitespace=None), CellStyleFill(color='#69379b')]), StyleInfo(locname=LocBody(columns='0530', rows=[6], mask=None), grpname=None, colname='0530', rownum=6, colnum=None, styles=[CellStyleText(color='#FFFFFF', font=None, size=None, align=None, v_align=None, style=None, weight=None, stretch=None, decorate=None, transform=None, whitespace=None), CellStyleFill(color='#6a389c')]), StyleInfo(locname=LocBody(columns='0530', rows=[7], mask=None), grpname=None, colname='0530', rownum=7, colnum=None, styles=[CellStyleText(color='#000000', font=None, size=None, align=None, v_align=None, style=None, weight=None, stretch=None, decorate=None, transform=None, whitespace=None), CellStyleFill(color='#FFFFFF')]), StyleInfo(locname=LocBody(columns='0530', rows=[8], mask=None), grpname=None, colname='0530', rownum=8, colnum=None, styles=[CellStyleText(color='#000000', font=None, size=None, align=None, v_align=None, style=None, weight=None, stretch=None, decorate=None, transform=None, whitespace=None), CellStyleFill(color='#FFFFFF')]), StyleInfo(locname=LocBody(columns='0530', rows=[9], mask=None), grpname=None, colname='0530', rownum=9, colnum=None, styles=[CellStyleText(color='#000000', font=None, size=None, align=None, v_align=None, style=None, weight=None, stretch=None, decorate=None, transform=None, whitespace=None), CellStyleFill(color='#FFFFFF')]), StyleInfo(locname=LocBody(columns='0530', rows=[10], mask=None), grpname=None, colname='0530', rownum=10, colnum=None, styles=[CellStyleText(color='#000000', font=None, size=None, align=None, v_align=None, style=None, weight=None, stretch=None, decorate=None, transform=None, whitespace=None), CellStyleFill(color='#FFFFFF')]), StyleInfo(locname=LocBody(columns='0530', rows=[11], mask=None), grpname=None, colname='0530', rownum=11, colnum=None, styles=[CellStyleText(color='#000000', font=None, size=None, align=None, v_align=None, style=None, weight=None, stretch=None, decorate=None, transform=None, whitespace=None), CellStyleFill(color='#FFFFFF')]), StyleInfo(locname=LocBody(columns='0600', rows=[0], mask=None), grpname=None, colname='0600', rownum=0, colnum=None, styles=[CellStyleText(color='#000000', font=None, size=None, align=None, v_align=None, style=None, weight=None, stretch=None, decorate=None, transform=None, whitespace=None), CellStyleFill(color='#FFFFFF')]), StyleInfo(locname=LocBody(columns='0600', rows=[1], mask=None), grpname=None, colname='0600', rownum=1, colnum=None, styles=[CellStyleText(color='#000000', font=None, size=None, align=None, v_align=None, style=None, weight=None, stretch=None, decorate=None, transform=None, whitespace=None), CellStyleFill(color='#FFFFFF')]), StyleInfo(locname=LocBody(columns='0600', rows=[2], mask=None), grpname=None, colname='0600', rownum=2, colnum=None, styles=[CellStyleText(color='#000000', font=None, size=None, align=None, v_align=None, style=None, weight=None, stretch=None, decorate=None, transform=None, whitespace=None), CellStyleFill(color='#FFFFFF')]), StyleInfo(locname=LocBody(columns='0600', rows=[3], mask=None), grpname=None, colname='0600', rownum=3, colnum=None, styles=[CellStyleText(color='#FFFFFF', font=None, size=None, align=None, v_align=None, style=None, weight=None, stretch=None, decorate=None, transform=None, whitespace=None), CellStyleFill(color='#6b3a9c')]), StyleInfo(locname=LocBody(columns='0600', rows=[4], mask=None), grpname=None, colname='0600', rownum=4, colnum=None, styles=[CellStyleText(color='#FFFFFF', font=None, size=None, align=None, v_align=None, style=None, weight=None, stretch=None, decorate=None, transform=None, whitespace=None), CellStyleFill(color='#774aa4')]), StyleInfo(locname=LocBody(columns='0600', rows=[5], mask=None), grpname=None, colname='0600', rownum=5, colnum=None, styles=[CellStyleText(color='#FFFFFF', font=None, size=None, align=None, v_align=None, style=None, weight=None, stretch=None, decorate=None, transform=None, whitespace=None), CellStyleFill(color='#7f54aa')]), StyleInfo(locname=LocBody(columns='0600', rows=[6], mask=None), grpname=None, colname='0600', rownum=6, colnum=None, styles=[CellStyleText(color='#FFFFFF', font=None, size=None, align=None, v_align=None, style=None, weight=None, stretch=None, decorate=None, transform=None, whitespace=None), CellStyleFill(color='#8056aa')]), StyleInfo(locname=LocBody(columns='0600', rows=[7], mask=None), grpname=None, colname='0600', rownum=7, colnum=None, styles=[CellStyleText(color='#FFFFFF', font=None, size=None, align=None, v_align=None, style=None, weight=None, stretch=None, decorate=None, transform=None, whitespace=None), CellStyleFill(color='#7b4fa7')]), StyleInfo(locname=LocBody(columns='0600', rows=[8], mask=None), grpname=None, colname='0600', rownum=8, colnum=None, styles=[CellStyleText(color='#FFFFFF', font=None, size=None, align=None, v_align=None, style=None, weight=None, stretch=None, decorate=None, transform=None, whitespace=None), CellStyleFill(color='#70409f')]), StyleInfo(locname=LocBody(columns='0600', rows=[9], mask=None), grpname=None, colname='0600', rownum=9, colnum=None, styles=[CellStyleText(color='#000000', font=None, size=None, align=None, v_align=None, style=None, weight=None, stretch=None, decorate=None, transform=None, whitespace=None), CellStyleFill(color='#FFFFFF')]), StyleInfo(locname=LocBody(columns='0600', rows=[10], mask=None), grpname=None, colname='0600', rownum=10, colnum=None, styles=[CellStyleText(color='#000000', font=None, size=None, align=None, v_align=None, style=None, weight=None, stretch=None, decorate=None, transform=None, whitespace=None), CellStyleFill(color='#FFFFFF')]), StyleInfo(locname=LocBody(columns='0600', rows=[11], mask=None), grpname=None, colname='0600', rownum=11, colnum=None, styles=[CellStyleText(color='#000000', font=None, size=None, align=None, v_align=None, style=None, weight=None, stretch=None, decorate=None, transform=None, whitespace=None), CellStyleFill(color='#FFFFFF')]), StyleInfo(locname=LocBody(columns='0630', rows=[0], mask=None), grpname=None, colname='0630', rownum=0, colnum=None, styles=[CellStyleText(color='#000000', font=None, size=None, align=None, v_align=None, style=None, weight=None, stretch=None, decorate=None, transform=None, whitespace=None), CellStyleFill(color='#FFFFFF')]), StyleInfo(locname=LocBody(columns='0630', rows=[1], mask=None), grpname=None, colname='0630', rownum=1, colnum=None, styles=[CellStyleText(color='#FFFFFF', font=None, size=None, align=None, v_align=None, style=None, weight=None, stretch=None, decorate=None, transform=None, whitespace=None), CellStyleFill(color='#6a389b')]), StyleInfo(locname=LocBody(columns='0630', rows=[2], mask=None), grpname=None, colname='0630', rownum=2, colnum=None, styles=[CellStyleText(color='#FFFFFF', font=None, size=None, align=None, v_align=None, style=None, weight=None, stretch=None, decorate=None, transform=None, whitespace=None), CellStyleFill(color='#7546a3')]), StyleInfo(locname=LocBody(columns='0630', rows=[3], mask=None), grpname=None, colname='0630', rownum=3, colnum=None, styles=[CellStyleText(color='#FFFFFF', font=None, size=None, align=None, v_align=None, style=None, weight=None, stretch=None, decorate=None, transform=None, whitespace=None), CellStyleFill(color='#835aac')]), StyleInfo(locname=LocBody(columns='0630', rows=[4], mask=None), grpname=None, colname='0630', rownum=4, colnum=None, styles=[CellStyleText(color='#000000', font=None, size=None, align=None, v_align=None, style=None, weight=None, stretch=None, decorate=None, transform=None, whitespace=None), CellStyleFill(color='#8e68b4')]), StyleInfo(locname=LocBody(columns='0630', rows=[5], mask=None), grpname=None, colname='0630', rownum=5, colnum=None, styles=[CellStyleText(color='#000000', font=None, size=None, align=None, v_align=None, style=None, weight=None, stretch=None, decorate=None, transform=None, whitespace=None), CellStyleFill(color='#9672b9')]), StyleInfo(locname=LocBody(columns='0630', rows=[6], mask=None), grpname=None, colname='0630', rownum=6, colnum=None, styles=[CellStyleText(color='#000000', font=None, size=None, align=None, v_align=None, style=None, weight=None, stretch=None, decorate=None, transform=None, whitespace=None), CellStyleFill(color='#9774b9')]), StyleInfo(locname=LocBody(columns='0630', rows=[7], mask=None), grpname=None, colname='0630', rownum=7, colnum=None, styles=[CellStyleText(color='#000000', font=None, size=None, align=None, v_align=None, style=None, weight=None, stretch=None, decorate=None, transform=None, whitespace=None), CellStyleFill(color='#926db6')]), StyleInfo(locname=LocBody(columns='0630', rows=[8], mask=None), grpname=None, colname='0630', rownum=8, colnum=None, styles=[CellStyleText(color='#FFFFFF', font=None, size=None, align=None, v_align=None, style=None, weight=None, stretch=None, decorate=None, transform=None, whitespace=None), CellStyleFill(color='#875faf')]), StyleInfo(locname=LocBody(columns='0630', rows=[9], mask=None), grpname=None, colname='0630', rownum=9, colnum=None, styles=[CellStyleText(color='#FFFFFF', font=None, size=None, align=None, v_align=None, style=None, weight=None, stretch=None, decorate=None, transform=None, whitespace=None), CellStyleFill(color='#7a4ea6')]), StyleInfo(locname=LocBody(columns='0630', rows=[10], mask=None), grpname=None, colname='0630', rownum=10, colnum=None, styles=[CellStyleText(color='#FFFFFF', font=None, size=None, align=None, v_align=None, style=None, weight=None, stretch=None, decorate=None, transform=None, whitespace=None), CellStyleFill(color='#6d3d9e')]), StyleInfo(locname=LocBody(columns='0630', rows=[11], mask=None), grpname=None, colname='0630', rownum=11, colnum=None, styles=[CellStyleText(color='#000000', font=None, size=None, align=None, v_align=None, style=None, weight=None, stretch=None, decorate=None, transform=None, whitespace=None), CellStyleFill(color='#FFFFFF')]), StyleInfo(locname=LocBody(columns='0700', rows=[0], mask=None), grpname=None, colname='0700', rownum=0, colnum=None, styles=[CellStyleText(color='#FFFFFF', font=None, size=None, align=None, v_align=None, style=None, weight=None, stretch=None, decorate=None, transform=None, whitespace=None), CellStyleFill(color='#774aa5')]), StyleInfo(locname=LocBody(columns='0700', rows=[1], mask=None), grpname=None, colname='0700', rownum=1, colnum=None, styles=[CellStyleText(color='#FFFFFF', font=None, size=None, align=None, v_align=None, style=None, weight=None, stretch=None, decorate=None, transform=None, whitespace=None), CellStyleFill(color='#8055aa')]), StyleInfo(locname=LocBody(columns='0700', rows=[2], mask=None), grpname=None, colname='0700', rownum=2, colnum=None, styles=[CellStyleText(color='#000000', font=None, size=None, align=None, v_align=None, style=None, weight=None, stretch=None, decorate=None, transform=None, whitespace=None), CellStyleFill(color='#8c66b2')]), StyleInfo(locname=LocBody(columns='0700', rows=[3], mask=None), grpname=None, colname='0700', rownum=3, colnum=None, styles=[CellStyleText(color='#000000', font=None, size=None, align=None, v_align=None, style=None, weight=None, stretch=None, decorate=None, transform=None, whitespace=None), CellStyleFill(color='#9b7abc')]), StyleInfo(locname=LocBody(columns='0700', rows=[4], mask=None), grpname=None, colname='0700', rownum=4, colnum=None, styles=[CellStyleText(color='#000000', font=None, size=None, align=None, v_align=None, style=None, weight=None, stretch=None, decorate=None, transform=None, whitespace=None), CellStyleFill(color='#a688c4')]), StyleInfo(locname=LocBody(columns='0700', rows=[5], mask=None), grpname=None, colname='0700', rownum=5, colnum=None, styles=[CellStyleText(color='#000000', font=None, size=None, align=None, v_align=None, style=None, weight=None, stretch=None, decorate=None, transform=None, whitespace=None), CellStyleFill(color='#ac91c8')]), StyleInfo(locname=LocBody(columns='0700', rows=[6], mask=None), grpname=None, colname='0700', rownum=6, colnum=None, styles=[CellStyleText(color='#000000', font=None, size=None, align=None, v_align=None, style=None, weight=None, stretch=None, decorate=None, transform=None, whitespace=None), CellStyleFill(color='#ad92c8')]), StyleInfo(locname=LocBody(columns='0700', rows=[7], mask=None), grpname=None, colname='0700', rownum=7, colnum=None, styles=[CellStyleText(color='#000000', font=None, size=None, align=None, v_align=None, style=None, weight=None, stretch=None, decorate=None, transform=None, whitespace=None), CellStyleFill(color='#a98dc6')]), StyleInfo(locname=LocBody(columns='0700', rows=[8], mask=None), grpname=None, colname='0700', rownum=8, colnum=None, styles=[CellStyleText(color='#000000', font=None, size=None, align=None, v_align=None, style=None, weight=None, stretch=None, decorate=None, transform=None, whitespace=None), CellStyleFill(color='#9f7fbf')]), StyleInfo(locname=LocBody(columns='0700', rows=[9], mask=None), grpname=None, colname='0700', rownum=9, colnum=None, styles=[CellStyleText(color='#000000', font=None, size=None, align=None, v_align=None, style=None, weight=None, stretch=None, decorate=None, transform=None, whitespace=None), CellStyleFill(color='#926db6')]), StyleInfo(locname=LocBody(columns='0700', rows=[10], mask=None), grpname=None, colname='0700', rownum=10, colnum=None, styles=[CellStyleText(color='#FFFFFF', font=None, size=None, align=None, v_align=None, style=None, weight=None, stretch=None, decorate=None, transform=None, whitespace=None), CellStyleFill(color='#845aad')]), StyleInfo(locname=LocBody(columns='0700', rows=[11], mask=None), grpname=None, colname='0700', rownum=11, colnum=None, styles=[CellStyleText(color='#FFFFFF', font=None, size=None, align=None, v_align=None, style=None, weight=None, stretch=None, decorate=None, transform=None, whitespace=None), CellStyleFill(color='#794da6')]), StyleInfo(locname=LocBody(columns='0730', rows=[0], mask=None), grpname=None, colname='0730', rownum=0, colnum=None, styles=[CellStyleText(color='#000000', font=None, size=None, align=None, v_align=None, style=None, weight=None, stretch=None, decorate=None, transform=None, whitespace=None), CellStyleFill(color='#8c66b3')]), StyleInfo(locname=LocBody(columns='0730', rows=[1], mask=None), grpname=None, colname='0730', rownum=1, colnum=None, styles=[CellStyleText(color='#000000', font=None, size=None, align=None, v_align=None, style=None, weight=None, stretch=None, decorate=None, transform=None, whitespace=None), CellStyleFill(color='#9673b9')]), StyleInfo(locname=LocBody(columns='0730', rows=[2], mask=None), grpname=None, colname='0730', rownum=2, colnum=None, styles=[CellStyleText(color='#000000', font=None, size=None, align=None, v_align=None, style=None, weight=None, stretch=None, decorate=None, transform=None, whitespace=None), CellStyleFill(color='#a385c2')]), StyleInfo(locname=LocBody(columns='0730', rows=[3], mask=None), grpname=None, colname='0730', rownum=3, colnum=None, styles=[CellStyleText(color='#000000', font=None, size=None, align=None, v_align=None, style=None, weight=None, stretch=None, decorate=None, transform=None, whitespace=None), CellStyleFill(color='#b399cc')]), StyleInfo(locname=LocBody(columns='0730', rows=[4], mask=None), grpname=None, colname='0730', rownum=4, colnum=None, styles=[CellStyleText(color='#000000', font=None, size=None, align=None, v_align=None, style=None, weight=None, stretch=None, decorate=None, transform=None, whitespace=None), CellStyleFill(color='#bda8d3')]), StyleInfo(locname=LocBody(columns='0730', rows=[5], mask=None), grpname=None, colname='0730', rownum=5, colnum=None, styles=[CellStyleText(color='#000000', font=None, size=None, align=None, v_align=None, style=None, weight=None, stretch=None, decorate=None, transform=None, whitespace=None), CellStyleFill(color='#c4b0d7')]), StyleInfo(locname=LocBody(columns='0730', rows=[6], mask=None), grpname=None, colname='0730', rownum=6, colnum=None, styles=[CellStyleText(color='#000000', font=None, size=None, align=None, v_align=None, style=None, weight=None, stretch=None, decorate=None, transform=None, whitespace=None), CellStyleFill(color='#c4b1d8')]), StyleInfo(locname=LocBody(columns='0730', rows=[7], mask=None), grpname=None, colname='0730', rownum=7, colnum=None, styles=[CellStyleText(color='#000000', font=None, size=None, align=None, v_align=None, style=None, weight=None, stretch=None, decorate=None, transform=None, whitespace=None), CellStyleFill(color='#c1acd6')]), StyleInfo(locname=LocBody(columns='0730', rows=[8], mask=None), grpname=None, colname='0730', rownum=8, colnum=None, styles=[CellStyleText(color='#000000', font=None, size=None, align=None, v_align=None, style=None, weight=None, stretch=None, decorate=None, transform=None, whitespace=None), CellStyleFill(color='#b79fcf')]), StyleInfo(locname=LocBody(columns='0730', rows=[9], mask=None), grpname=None, colname='0730', rownum=9, colnum=None, styles=[CellStyleText(color='#000000', font=None, size=None, align=None, v_align=None, style=None, weight=None, stretch=None, decorate=None, transform=None, whitespace=None), CellStyleFill(color='#a98dc6')]), StyleInfo(locname=LocBody(columns='0730', rows=[10], mask=None), grpname=None, colname='0730', rownum=10, colnum=None, styles=[CellStyleText(color='#000000', font=None, size=None, align=None, v_align=None, style=None, weight=None, stretch=None, decorate=None, transform=None, whitespace=None), CellStyleFill(color='#9b79bc')]), StyleInfo(locname=LocBody(columns='0730', rows=[11], mask=None), grpname=None, colname='0730', rownum=11, colnum=None, styles=[CellStyleText(color='#000000', font=None, size=None, align=None, v_align=None, style=None, weight=None, stretch=None, decorate=None, transform=None, whitespace=None), CellStyleFill(color='#8f69b4')]), StyleInfo(locname=LocBody(columns='0800', rows=[0], mask=None), grpname=None, colname='0800', rownum=0, colnum=None, styles=[CellStyleText(color='#000000', font=None, size=None, align=None, v_align=None, style=None, weight=None, stretch=None, decorate=None, transform=None, whitespace=None), CellStyleFill(color='#a181c0')]), StyleInfo(locname=LocBody(columns='0800', rows=[1], mask=None), grpname=None, colname='0800', rownum=1, colnum=None, styles=[CellStyleText(color='#000000', font=None, size=None, align=None, v_align=None, style=None, weight=None, stretch=None, decorate=None, transform=None, whitespace=None), CellStyleFill(color='#ab8fc7')]), StyleInfo(locname=LocBody(columns='0800', rows=[2], mask=None), grpname=None, colname='0800', rownum=2, colnum=None, styles=[CellStyleText(color='#000000', font=None, size=None, align=None, v_align=None, style=None, weight=None, stretch=None, decorate=None, transform=None, whitespace=None), CellStyleFill(color='#baa3d1')]), StyleInfo(locname=LocBody(columns='0800', rows=[3], mask=None), grpname=None, colname='0800', rownum=3, colnum=None, styles=[CellStyleText(color='#000000', font=None, size=None, align=None, v_align=None, style=None, weight=None, stretch=None, decorate=None, transform=None, whitespace=None), CellStyleFill(color='#cbbadc')]), StyleInfo(locname=LocBody(columns='0800', rows=[4], mask=None), grpname=None, colname='0800', rownum=4, colnum=None, styles=[CellStyleText(color='#000000', font=None, size=None, align=None, v_align=None, style=None, weight=None, stretch=None, decorate=None, transform=None, whitespace=None), CellStyleFill(color='#d6c8e3')]), StyleInfo(locname=LocBody(columns='0800', rows=[5], mask=None), grpname=None, colname='0800', rownum=5, colnum=None, styles=[CellStyleText(color='#000000', font=None, size=None, align=None, v_align=None, style=None, weight=None, stretch=None, decorate=None, transform=None, whitespace=None), CellStyleFill(color='#dbcee7')]), StyleInfo(locname=LocBody(columns='0800', rows=[6], mask=None), grpname=None, colname='0800', rownum=6, colnum=None, styles=[CellStyleText(color='#000000', font=None, size=None, align=None, v_align=None, style=None, weight=None, stretch=None, decorate=None, transform=None, whitespace=None), CellStyleFill(color='#dbcfe7')]), StyleInfo(locname=LocBody(columns='0800', rows=[7], mask=None), grpname=None, colname='0800', rownum=7, colnum=None, styles=[CellStyleText(color='#000000', font=None, size=None, align=None, v_align=None, style=None, weight=None, stretch=None, decorate=None, transform=None, whitespace=None), CellStyleFill(color='#d8cbe5')]), StyleInfo(locname=LocBody(columns='0800', rows=[8], mask=None), grpname=None, colname='0800', rownum=8, colnum=None, styles=[CellStyleText(color='#000000', font=None, size=None, align=None, v_align=None, style=None, weight=None, stretch=None, decorate=None, transform=None, whitespace=None), CellStyleFill(color='#cfbfdf')]), StyleInfo(locname=LocBody(columns='0800', rows=[9], mask=None), grpname=None, colname='0800', rownum=9, colnum=None, styles=[CellStyleText(color='#000000', font=None, size=None, align=None, v_align=None, style=None, weight=None, stretch=None, decorate=None, transform=None, whitespace=None), CellStyleFill(color='#c1acd6')]), StyleInfo(locname=LocBody(columns='0800', rows=[10], mask=None), grpname=None, colname='0800', rownum=10, colnum=None, styles=[CellStyleText(color='#000000', font=None, size=None, align=None, v_align=None, style=None, weight=None, stretch=None, decorate=None, transform=None, whitespace=None), CellStyleFill(color='#b095ca')]), StyleInfo(locname=LocBody(columns='0800', rows=[11], mask=None), grpname=None, colname='0800', rownum=11, colnum=None, styles=[CellStyleText(color='#000000', font=None, size=None, align=None, v_align=None, style=None, weight=None, stretch=None, decorate=None, transform=None, whitespace=None), CellStyleFill(color='#a486c2')]), StyleInfo(locname=LocBody(columns='0830', rows=[0], mask=None), grpname=None, colname='0830', rownum=0, colnum=None, styles=[CellStyleText(color='#000000', font=None, size=None, align=None, v_align=None, style=None, weight=None, stretch=None, decorate=None, transform=None, whitespace=None), CellStyleFill(color='#b79fcf')]), StyleInfo(locname=LocBody(columns='0830', rows=[1], mask=None), grpname=None, colname='0830', rownum=1, colnum=None, styles=[CellStyleText(color='#000000', font=None, size=None, align=None, v_align=None, style=None, weight=None, stretch=None, decorate=None, transform=None, whitespace=None), CellStyleFill(color='#c1acd6')]), StyleInfo(locname=LocBody(columns='0830', rows=[2], mask=None), grpname=None, colname='0830', rownum=2, colnum=None, styles=[CellStyleText(color='#000000', font=None, size=None, align=None, v_align=None, style=None, weight=None, stretch=None, decorate=None, transform=None, whitespace=None), CellStyleFill(color='#d1c1e0')]), StyleInfo(locname=LocBody(columns='0830', rows=[3], mask=None), grpname=None, colname='0830', rownum=3, colnum=None, styles=[CellStyleText(color='#000000', font=None, size=None, align=None, v_align=None, style=None, weight=None, stretch=None, decorate=None, transform=None, whitespace=None), CellStyleFill(color='#e2d9ec')]), StyleInfo(locname=LocBody(columns='0830', rows=[4], mask=None), grpname=None, colname='0830', rownum=4, colnum=None, styles=[CellStyleText(color='#000000', font=None, size=None, align=None, v_align=None, style=None, weight=None, stretch=None, decorate=None, transform=None, whitespace=None), CellStyleFill(color='#ede7f3')]), StyleInfo(locname=LocBody(columns='0830', rows=[5], mask=None), grpname=None, colname='0830', rownum=5, colnum=None, styles=[CellStyleText(color='#000000', font=None, size=None, align=None, v_align=None, style=None, weight=None, stretch=None, decorate=None, transform=None, whitespace=None), CellStyleFill(color='#f2eef6')]), StyleInfo(locname=LocBody(columns='0830', rows=[6], mask=None), grpname=None, colname='0830', rownum=6, colnum=None, styles=[CellStyleText(color='#000000', font=None, size=None, align=None, v_align=None, style=None, weight=None, stretch=None, decorate=None, transform=None, whitespace=None), CellStyleFill(color='#f2eef7')]), StyleInfo(locname=LocBody(columns='0830', rows=[7], mask=None), grpname=None, colname='0830', rownum=7, colnum=None, styles=[CellStyleText(color='#000000', font=None, size=None, align=None, v_align=None, style=None, weight=None, stretch=None, decorate=None, transform=None, whitespace=None), CellStyleFill(color='#f0ebf5')]), StyleInfo(locname=LocBody(columns='0830', rows=[8], mask=None), grpname=None, colname='0830', rownum=8, colnum=None, styles=[CellStyleText(color='#000000', font=None, size=None, align=None, v_align=None, style=None, weight=None, stretch=None, decorate=None, transform=None, whitespace=None), CellStyleFill(color='#e7dfef')]), StyleInfo(locname=LocBody(columns='0830', rows=[9], mask=None), grpname=None, colname='0830', rownum=9, colnum=None, styles=[CellStyleText(color='#000000', font=None, size=None, align=None, v_align=None, style=None, weight=None, stretch=None, decorate=None, transform=None, whitespace=None), CellStyleFill(color='#d8cbe5')]), StyleInfo(locname=LocBody(columns='0830', rows=[10], mask=None), grpname=None, colname='0830', rownum=10, colnum=None, styles=[CellStyleText(color='#000000', font=None, size=None, align=None, v_align=None, style=None, weight=None, stretch=None, decorate=None, transform=None, whitespace=None), CellStyleFill(color='#c6b3d9')]), StyleInfo(locname=LocBody(columns='0830', rows=[11], mask=None), grpname=None, colname='0830', rownum=11, colnum=None, styles=[CellStyleText(color='#000000', font=None, size=None, align=None, v_align=None, style=None, weight=None, stretch=None, decorate=None, transform=None, whitespace=None), CellStyleFill(color='#b79fcf')]), StyleInfo(locname=LocBody(columns='0900', rows=[0], mask=None), grpname=None, colname='0900', rownum=0, colnum=None, styles=[CellStyleText(color='#000000', font=None, size=None, align=None, v_align=None, style=None, weight=None, stretch=None, decorate=None, transform=None, whitespace=None), CellStyleFill(color='#c7b4da')]), StyleInfo(locname=LocBody(columns='0900', rows=[1], mask=None), grpname=None, colname='0900', rownum=1, colnum=None, styles=[CellStyleText(color='#000000', font=None, size=None, align=None, v_align=None, style=None, weight=None, stretch=None, decorate=None, transform=None, whitespace=None), CellStyleFill(color='#d4c5e2')]), StyleInfo(locname=LocBody(columns='0900', rows=[2], mask=None), grpname=None, colname='0900', rownum=2, colnum=None, styles=[CellStyleText(color='#000000', font=None, size=None, align=None, v_align=None, style=None, weight=None, stretch=None, decorate=None, transform=None, whitespace=None), CellStyleFill(color='#e6deee')]), StyleInfo(locname=LocBody(columns='0900', rows=[3], mask=None), grpname=None, colname='0900', rownum=3, colnum=None, styles=[CellStyleText(color='#000000', font=None, size=None, align=None, v_align=None, style=None, weight=None, stretch=None, decorate=None, transform=None, whitespace=None), CellStyleFill(color='#faf8fc')]), StyleInfo(locname=LocBody(columns='0900', rows=[4], mask=None), grpname=None, colname='0900', rownum=4, colnum=None, styles=[CellStyleText(color='#000000', font=None, size=None, align=None, v_align=None, style=None, weight=None, stretch=None, decorate=None, transform=None, whitespace=None), CellStyleFill(color='#fffbf5')]), StyleInfo(locname=LocBody(columns='0900', rows=[5], mask=None), grpname=None, colname='0900', rownum=5, colnum=None, styles=[CellStyleText(color='#000000', font=None, size=None, align=None, v_align=None, style=None, weight=None, stretch=None, decorate=None, transform=None, whitespace=None), CellStyleFill(color='#fff9ed')]), StyleInfo(locname=LocBody(columns='0900', rows=[6], mask=None), grpname=None, colname='0900', rownum=6, colnum=None, styles=[CellStyleText(color='#000000', font=None, size=None, align=None, v_align=None, style=None, weight=None, stretch=None, decorate=None, transform=None, whitespace=None), CellStyleFill(color='#fff9ed')]), StyleInfo(locname=LocBody(columns='0900', rows=[7], mask=None), grpname=None, colname='0900', rownum=7, colnum=None, styles=[CellStyleText(color='#000000', font=None, size=None, align=None, v_align=None, style=None, weight=None, stretch=None, decorate=None, transform=None, whitespace=None), CellStyleFill(color='#fffaf0')]), StyleInfo(locname=LocBody(columns='0900', rows=[8], mask=None), grpname=None, colname='0900', rownum=8, colnum=None, styles=[CellStyleText(color='#000000', font=None, size=None, align=None, v_align=None, style=None, weight=None, stretch=None, decorate=None, transform=None, whitespace=None), CellStyleFill(color='#ffffff')]), StyleInfo(locname=LocBody(columns='0900', rows=[9], mask=None), grpname=None, colname='0900', rownum=9, colnum=None, styles=[CellStyleText(color='#000000', font=None, size=None, align=None, v_align=None, style=None, weight=None, stretch=None, decorate=None, transform=None, whitespace=None), CellStyleFill(color='#eee9f4')]), StyleInfo(locname=LocBody(columns='0900', rows=[10], mask=None), grpname=None, colname='0900', rownum=10, colnum=None, styles=[CellStyleText(color='#000000', font=None, size=None, align=None, v_align=None, style=None, weight=None, stretch=None, decorate=None, transform=None, whitespace=None), CellStyleFill(color='#dacde6')]), StyleInfo(locname=LocBody(columns='0900', rows=[11], mask=None), grpname=None, colname='0900', rownum=11, colnum=None, styles=[CellStyleText(color='#000000', font=None, size=None, align=None, v_align=None, style=None, weight=None, stretch=None, decorate=None, transform=None, whitespace=None), CellStyleFill(color='#cab9dc')]), StyleInfo(locname=LocBody(columns='0930', rows=[0], mask=None), grpname=None, colname='0930', rownum=0, colnum=None, styles=[CellStyleText(color='#000000', font=None, size=None, align=None, v_align=None, style=None, weight=None, stretch=None, decorate=None, transform=None, whitespace=None), CellStyleFill(color='#d8cbe5')]), StyleInfo(locname=LocBody(columns='0930', rows=[1], mask=None), grpname=None, colname='0930', rownum=1, colnum=None, styles=[CellStyleText(color='#000000', font=None, size=None, align=None, v_align=None, style=None, weight=None, stretch=None, decorate=None, transform=None, whitespace=None), CellStyleFill(color='#e7deef')]), StyleInfo(locname=LocBody(columns='0930', rows=[2], mask=None), grpname=None, colname='0930', rownum=2, colnum=None, styles=[CellStyleText(color='#000000', font=None, size=None, align=None, v_align=None, style=None, weight=None, stretch=None, decorate=None, transform=None, whitespace=None), CellStyleFill(color='#fbfafc')]), StyleInfo(locname=LocBody(columns='0930', rows=[3], mask=None), grpname=None, colname='0930', rownum=3, colnum=None, styles=[CellStyleText(color='#000000', font=None, size=None, align=None, v_align=None, style=None, weight=None, stretch=None, decorate=None, transform=None, whitespace=None), CellStyleFill(color='#fff4e1')]), StyleInfo(locname=LocBody(columns='0930', rows=[4], mask=None), grpname=None, colname='0930', rownum=4, colnum=None, styles=[CellStyleText(color='#000000', font=None, size=None, align=None, v_align=None, style=None, weight=None, stretch=None, decorate=None, transform=None, whitespace=None), CellStyleFill(color='#ffedcd')]), StyleInfo(locname=LocBody(columns='0930', rows=[5], mask=None), grpname=None, colname='0930', rownum=5, colnum=None, styles=[CellStyleText(color='#000000', font=None, size=None, align=None, v_align=None, style=None, weight=None, stretch=None, decorate=None, transform=None, whitespace=None), CellStyleFill(color='#ffebc6')]), StyleInfo(locname=LocBody(columns='0930', rows=[6], mask=None), grpname=None, colname='0930', rownum=6, colnum=None, styles=[CellStyleText(color='#000000', font=None, size=None, align=None, v_align=None, style=None, weight=None, stretch=None, decorate=None, transform=None, whitespace=None), CellStyleFill(color='#ffebc6')]), StyleInfo(locname=LocBody(columns='0930', rows=[7], mask=None), grpname=None, colname='0930', rownum=7, colnum=None, styles=[CellStyleText(color='#000000', font=None, size=None, align=None, v_align=None, style=None, weight=None, stretch=None, decorate=None, transform=None, whitespace=None), CellStyleFill(color='#ffecc9')]), StyleInfo(locname=LocBody(columns='0930', rows=[8], mask=None), grpname=None, colname='0930', rownum=8, colnum=None, styles=[CellStyleText(color='#000000', font=None, size=None, align=None, v_align=None, style=None, weight=None, stretch=None, decorate=None, transform=None, whitespace=None), CellStyleFill(color='#fff1d8')]), StyleInfo(locname=LocBody(columns='0930', rows=[9], mask=None), grpname=None, colname='0930', rownum=9, colnum=None, styles=[CellStyleText(color='#000000', font=None, size=None, align=None, v_align=None, style=None, weight=None, stretch=None, decorate=None, transform=None, whitespace=None), CellStyleFill(color='#fffcf6')]), StyleInfo(locname=LocBody(columns='0930', rows=[10], mask=None), grpname=None, colname='0930', rownum=10, colnum=None, styles=[CellStyleText(color='#000000', font=None, size=None, align=None, v_align=None, style=None, weight=None, stretch=None, decorate=None, transform=None, whitespace=None), CellStyleFill(color='#ede7f3')]), StyleInfo(locname=LocBody(columns='0930', rows=[11], mask=None), grpname=None, colname='0930', rownum=11, colnum=None, styles=[CellStyleText(color='#000000', font=None, size=None, align=None, v_align=None, style=None, weight=None, stretch=None, decorate=None, transform=None, whitespace=None), CellStyleFill(color='#dbcfe7')]), StyleInfo(locname=LocBody(columns='1000', rows=[0], mask=None), grpname=None, colname='1000', rownum=0, colnum=None, styles=[CellStyleText(color='#000000', font=None, size=None, align=None, v_align=None, style=None, weight=None, stretch=None, decorate=None, transform=None, whitespace=None), CellStyleFill(color='#e7dfef')]), StyleInfo(locname=LocBody(columns='1000', rows=[1], mask=None), grpname=None, colname='1000', rownum=1, colnum=None, styles=[CellStyleText(color='#000000', font=None, size=None, align=None, v_align=None, style=None, weight=None, stretch=None, decorate=None, transform=None, whitespace=None), CellStyleFill(color='#f7f4fa')]), StyleInfo(locname=LocBody(columns='1000', rows=[2], mask=None), grpname=None, colname='1000', rownum=2, colnum=None, styles=[CellStyleText(color='#000000', font=None, size=None, align=None, v_align=None, style=None, weight=None, stretch=None, decorate=None, transform=None, whitespace=None), CellStyleFill(color='#fff6e5')]), StyleInfo(locname=LocBody(columns='1000', rows=[3], mask=None), grpname=None, colname='1000', rownum=3, colnum=None, styles=[CellStyleText(color='#000000', font=None, size=None, align=None, v_align=None, style=None, weight=None, stretch=None, decorate=None, transform=None, whitespace=None), CellStyleFill(color='#ffe7bc')]), StyleInfo(locname=LocBody(columns='1000', rows=[4], mask=None), grpname=None, colname='1000', rownum=4, colnum=None, styles=[CellStyleText(color='#000000', font=None, size=None, align=None, v_align=None, style=None, weight=None, stretch=None, decorate=None, transform=None, whitespace=None), CellStyleFill(color='#ffdfa5')]), StyleInfo(locname=LocBody(columns='1000', rows=[5], mask=None), grpname=None, colname='1000', rownum=5, colnum=None, styles=[CellStyleText(color='#000000', font=None, size=None, align=None, v_align=None, style=None, weight=None, stretch=None, decorate=None, transform=None, whitespace=None), CellStyleFill(color='#ffdd9f')]), StyleInfo(locname=LocBody(columns='1000', rows=[6], mask=None), grpname=None, colname='1000', rownum=6, colnum=None, styles=[CellStyleText(color='#000000', font=None, size=None, align=None, v_align=None, style=None, weight=None, stretch=None, decorate=None, transform=None, whitespace=None), CellStyleFill(color='#ffdd9f')]), StyleInfo(locname=LocBody(columns='1000', rows=[7], mask=None), grpname=None, colname='1000', rownum=7, colnum=None, styles=[CellStyleText(color='#000000', font=None, size=None, align=None, v_align=None, style=None, weight=None, stretch=None, decorate=None, transform=None, whitespace=None), CellStyleFill(color='#ffdea0')]), StyleInfo(locname=LocBody(columns='1000', rows=[8], mask=None), grpname=None, colname='1000', rownum=8, colnum=None, styles=[CellStyleText(color='#000000', font=None, size=None, align=None, v_align=None, style=None, weight=None, stretch=None, decorate=None, transform=None, whitespace=None), CellStyleFill(color='#ffe4b1')]), StyleInfo(locname=LocBody(columns='1000', rows=[9], mask=None), grpname=None, colname='1000', rownum=9, colnum=None, styles=[CellStyleText(color='#000000', font=None, size=None, align=None, v_align=None, style=None, weight=None, stretch=None, decorate=None, transform=None, whitespace=None), CellStyleFill(color='#fff0d4')]), StyleInfo(locname=LocBody(columns='1000', rows=[10], mask=None), grpname=None, colname='1000', rownum=10, colnum=None, styles=[CellStyleText(color='#000000', font=None, size=None, align=None, v_align=None, style=None, weight=None, stretch=None, decorate=None, transform=None, whitespace=None), CellStyleFill(color='#fefefe')]), StyleInfo(locname=LocBody(columns='1000', rows=[11], mask=None), grpname=None, colname='1000', rownum=11, colnum=None, styles=[CellStyleText(color='#000000', font=None, size=None, align=None, v_align=None, style=None, weight=None, stretch=None, decorate=None, transform=None, whitespace=None), CellStyleFill(color='#ebe4f2')]), StyleInfo(locname=LocBody(columns='1030', rows=[0], mask=None), grpname=None, colname='1030', rownum=0, colnum=None, styles=[CellStyleText(color='#000000', font=None, size=None, align=None, v_align=None, style=None, weight=None, stretch=None, decorate=None, transform=None, whitespace=None), CellStyleFill(color='#f4f0f8')]), StyleInfo(locname=LocBody(columns='1030', rows=[1], mask=None), grpname=None, colname='1030', rownum=1, colnum=None, styles=[CellStyleText(color='#000000', font=None, size=None, align=None, v_align=None, style=None, weight=None, stretch=None, decorate=None, transform=None, whitespace=None), CellStyleFill(color='#fffbf4')]), StyleInfo(locname=LocBody(columns='1030', rows=[2], mask=None), grpname=None, colname='1030', rownum=2, colnum=None, styles=[CellStyleText(color='#000000', font=None, size=None, align=None, v_align=None, style=None, weight=None, stretch=None, decorate=None, transform=None, whitespace=None), CellStyleFill(color='#ffecc9')]), StyleInfo(locname=LocBody(columns='1030', rows=[3], mask=None), grpname=None, colname='1030', rownum=3, colnum=None, styles=[CellStyleText(color='#000000', font=None, size=None, align=None, v_align=None, style=None, weight=None, stretch=None, decorate=None, transform=None, whitespace=None), CellStyleFill(color='#ffdb98')]), StyleInfo(locname=LocBody(columns='1030', rows=[4], mask=None), grpname=None, colname='1030', rownum=4, colnum=None, styles=[CellStyleText(color='#000000', font=None, size=None, align=None, v_align=None, style=None, weight=None, stretch=None, decorate=None, transform=None, whitespace=None), CellStyleFill(color='#ffd994')]), StyleInfo(locname=LocBody(columns='1030', rows=[5], mask=None), grpname=None, colname='1030', rownum=5, colnum=None, styles=[CellStyleText(color='#000000', font=None, size=None, align=None, v_align=None, style=None, weight=None, stretch=None, decorate=None, transform=None, whitespace=None), CellStyleFill(color='#ffcf78')]), StyleInfo(locname=LocBody(columns='1030', rows=[6], mask=None), grpname=None, colname='1030', rownum=6, colnum=None, styles=[CellStyleText(color='#000000', font=None, size=None, align=None, v_align=None, style=None, weight=None, stretch=None, decorate=None, transform=None, whitespace=None), CellStyleFill(color='#ffcf78')]), StyleInfo(locname=LocBody(columns='1030', rows=[7], mask=None), grpname=None, colname='1030', rownum=7, colnum=None, styles=[CellStyleText(color='#000000', font=None, size=None, align=None, v_align=None, style=None, weight=None, stretch=None, decorate=None, transform=None, whitespace=None), CellStyleFill(color='#ffd079')]), StyleInfo(locname=LocBody(columns='1030', rows=[8], mask=None), grpname=None, colname='1030', rownum=8, colnum=None, styles=[CellStyleText(color='#000000', font=None, size=None, align=None, v_align=None, style=None, weight=None, stretch=None, decorate=None, transform=None, whitespace=None), CellStyleFill(color='#ffd68c')]), StyleInfo(locname=LocBody(columns='1030', rows=[9], mask=None), grpname=None, colname='1030', rownum=9, colnum=None, styles=[CellStyleText(color='#000000', font=None, size=None, align=None, v_align=None, style=None, weight=None, stretch=None, decorate=None, transform=None, whitespace=None), CellStyleFill(color='#ffe5b5')]), StyleInfo(locname=LocBody(columns='1030', rows=[10], mask=None), grpname=None, colname='1030', rownum=10, colnum=None, styles=[CellStyleText(color='#000000', font=None, size=None, align=None, v_align=None, style=None, weight=None, stretch=None, decorate=None, transform=None, whitespace=None), CellStyleFill(color='#fff6e7')]), StyleInfo(locname=LocBody(columns='1030', rows=[11], mask=None), grpname=None, colname='1030', rownum=11, colnum=None, styles=[CellStyleText(color='#000000', font=None, size=None, align=None, v_align=None, style=None, weight=None, stretch=None, decorate=None, transform=None, whitespace=None), CellStyleFill(color='#f8f5fa')]), StyleInfo(locname=LocBody(columns='1100', rows=[0], mask=None), grpname=None, colname='1100', rownum=0, colnum=None, styles=[CellStyleText(color='#000000', font=None, size=None, align=None, v_align=None, style=None, weight=None, stretch=None, decorate=None, transform=None, whitespace=None), CellStyleFill(color='#fdfdfe')]), StyleInfo(locname=LocBody(columns='1100', rows=[1], mask=None), grpname=None, colname='1100', rownum=1, colnum=None, styles=[CellStyleText(color='#000000', font=None, size=None, align=None, v_align=None, style=None, weight=None, stretch=None, decorate=None, transform=None, whitespace=None), CellStyleFill(color='#fff5e3')]), StyleInfo(locname=LocBody(columns='1100', rows=[2], mask=None), grpname=None, colname='1100', rownum=2, colnum=None, styles=[CellStyleText(color='#000000', font=None, size=None, align=None, v_align=None, style=None, weight=None, stretch=None, decorate=None, transform=None, whitespace=None), CellStyleFill(color='#ffe4b2')]), StyleInfo(locname=LocBody(columns='1100', rows=[3], mask=None), grpname=None, colname='1100', rownum=3, colnum=None, styles=[CellStyleText(color='#000000', font=None, size=None, align=None, v_align=None, style=None, weight=None, stretch=None, decorate=None, transform=None, whitespace=None), CellStyleFill(color='#ffd079')]), StyleInfo(locname=LocBody(columns='1100', rows=[4], mask=None), grpname=None, colname='1100', rownum=4, colnum=None, styles=[CellStyleText(color='#000000', font=None, size=None, align=None, v_align=None, style=None, weight=None, stretch=None, decorate=None, transform=None, whitespace=None), CellStyleFill(color='#ffc356')]), StyleInfo(locname=LocBody(columns='1100', rows=[5], mask=None), grpname=None, colname='1100', rownum=5, colnum=None, styles=[CellStyleText(color='#000000', font=None, size=None, align=None, v_align=None, style=None, weight=None, stretch=None, decorate=None, transform=None, whitespace=None), CellStyleFill(color='#ffc150')]), StyleInfo(locname=LocBody(columns='1100', rows=[6], mask=None), grpname=None, colname='1100', rownum=6, colnum=None, styles=[CellStyleText(color='#000000', font=None, size=None, align=None, v_align=None, style=None, weight=None, stretch=None, decorate=None, transform=None, whitespace=None), CellStyleFill(color='#ffc251')]), StyleInfo(locname=LocBody(columns='1100', rows=[7], mask=None), grpname=None, colname='1100', rownum=7, colnum=None, styles=[CellStyleText(color='#000000', font=None, size=None, align=None, v_align=None, style=None, weight=None, stretch=None, decorate=None, transform=None, whitespace=None), CellStyleFill(color='#ffc251')]), StyleInfo(locname=LocBody(columns='1100', rows=[8], mask=None), grpname=None, colname='1100', rownum=8, colnum=None, styles=[CellStyleText(color='#000000', font=None, size=None, align=None, v_align=None, style=None, weight=None, stretch=None, decorate=None, transform=None, whitespace=None), CellStyleFill(color='#ffca69')]), StyleInfo(locname=LocBody(columns='1100', rows=[9], mask=None), grpname=None, colname='1100', rownum=9, colnum=None, styles=[CellStyleText(color='#000000', font=None, size=None, align=None, v_align=None, style=None, weight=None, stretch=None, decorate=None, transform=None, whitespace=None), CellStyleFill(color='#ffdc9b')]), StyleInfo(locname=LocBody(columns='1100', rows=[10], mask=None), grpname=None, colname='1100', rownum=10, colnum=None, styles=[CellStyleText(color='#000000', font=None, size=None, align=None, v_align=None, style=None, weight=None, stretch=None, decorate=None, transform=None, whitespace=None), CellStyleFill(color='#fff0d4')]), StyleInfo(locname=LocBody(columns='1100', rows=[11], mask=None), grpname=None, colname='1100', rownum=11, colnum=None, styles=[CellStyleText(color='#000000', font=None, size=None, align=None, v_align=None, style=None, weight=None, stretch=None, decorate=None, transform=None, whitespace=None), CellStyleFill(color='#fffdfa')]), StyleInfo(locname=LocBody(columns='1130', rows=[0], mask=None), grpname=None, colname='1130', rownum=0, colnum=None, styles=[CellStyleText(color='#000000', font=None, size=None, align=None, v_align=None, style=None, weight=None, stretch=None, decorate=None, transform=None, whitespace=None), CellStyleFill(color='#fffcf7')]), StyleInfo(locname=LocBody(columns='1130', rows=[1], mask=None), grpname=None, colname='1130', rownum=1, colnum=None, styles=[CellStyleText(color='#000000', font=None, size=None, align=None, v_align=None, style=None, weight=None, stretch=None, decorate=None, transform=None, whitespace=None), CellStyleFill(color='#fff1d6')]), StyleInfo(locname=LocBody(columns='1130', rows=[2], mask=None), grpname=None, colname='1130', rownum=2, colnum=None, styles=[CellStyleText(color='#000000', font=None, size=None, align=None, v_align=None, style=None, weight=None, stretch=None, decorate=None, transform=None, whitespace=None), CellStyleFill(color='#ffdea2')]), StyleInfo(locname=LocBody(columns='1130', rows=[3], mask=None), grpname=None, colname='1130', rownum=3, colnum=None, styles=[CellStyleText(color='#000000', font=None, size=None, align=None, v_align=None, style=None, weight=None, stretch=None, decorate=None, transform=None, whitespace=None), CellStyleFill(color='#ffc761')]), StyleInfo(locname=LocBody(columns='1130', rows=[4], mask=None), grpname=None, colname='1130', rownum=4, colnum=None, styles=[CellStyleText(color='#000000', font=None, size=None, align=None, v_align=None, style=None, weight=None, stretch=None, decorate=None, transform=None, whitespace=None), CellStyleFill(color='#ffb732')]), StyleInfo(locname=LocBody(columns='1130', rows=[5], mask=None), grpname=None, colname='1130', rownum=5, colnum=None, styles=[CellStyleText(color='#000000', font=None, size=None, align=None, v_align=None, style=None, weight=None, stretch=None, decorate=None, transform=None, whitespace=None), CellStyleFill(color='#ffb429')]), StyleInfo(locname=LocBody(columns='1130', rows=[6], mask=None), grpname=None, colname='1130', rownum=6, colnum=None, styles=[CellStyleText(color='#000000', font=None, size=None, align=None, v_align=None, style=None, weight=None, stretch=None, decorate=None, transform=None, whitespace=None), CellStyleFill(color='#ffb42c')]), StyleInfo(locname=LocBody(columns='1130', rows=[7], mask=None), grpname=None, colname='1130', rownum=7, colnum=None, styles=[CellStyleText(color='#000000', font=None, size=None, align=None, v_align=None, style=None, weight=None, stretch=None, decorate=None, transform=None, whitespace=None), CellStyleFill(color='#ffb429')]), StyleInfo(locname=LocBody(columns='1130', rows=[8], mask=None), grpname=None, colname='1130', rownum=8, colnum=None, styles=[CellStyleText(color='#000000', font=None, size=None, align=None, v_align=None, style=None, weight=None, stretch=None, decorate=None, transform=None, whitespace=None), CellStyleFill(color='#ffc04e')]), StyleInfo(locname=LocBody(columns='1130', rows=[9], mask=None), grpname=None, colname='1130', rownum=9, colnum=None, styles=[CellStyleText(color='#000000', font=None, size=None, align=None, v_align=None, style=None, weight=None, stretch=None, decorate=None, transform=None, whitespace=None), CellStyleFill(color='#ffd68a')]), StyleInfo(locname=LocBody(columns='1130', rows=[10], mask=None), grpname=None, colname='1130', rownum=10, colnum=None, styles=[CellStyleText(color='#000000', font=None, size=None, align=None, v_align=None, style=None, weight=None, stretch=None, decorate=None, transform=None, whitespace=None), CellStyleFill(color='#ffebc7')]), StyleInfo(locname=LocBody(columns='1130', rows=[11], mask=None), grpname=None, colname='1130', rownum=11, colnum=None, styles=[CellStyleText(color='#000000', font=None, size=None, align=None, v_align=None, style=None, weight=None, stretch=None, decorate=None, transform=None, whitespace=None), CellStyleFill(color='#fffaf0')]), StyleInfo(locname=LocBody(columns='1200', rows=[0], mask=None), grpname=None, colname='1200', rownum=0, colnum=None, styles=[CellStyleText(color='#000000', font=None, size=None, align=None, v_align=None, style=None, weight=None, stretch=None, decorate=None, transform=None, whitespace=None), CellStyleFill(color='#fffbf4')]), StyleInfo(locname=LocBody(columns='1200', rows=[1], mask=None), grpname=None, colname='1200', rownum=1, colnum=None, styles=[CellStyleText(color='#000000', font=None, size=None, align=None, v_align=None, style=None, weight=None, stretch=None, decorate=None, transform=None, whitespace=None), CellStyleFill(color='#ffefd3')]), StyleInfo(locname=LocBody(columns='1200', rows=[2], mask=None), grpname=None, colname='1200', rownum=2, colnum=None, styles=[CellStyleText(color='#000000', font=None, size=None, align=None, v_align=None, style=None, weight=None, stretch=None, decorate=None, transform=None, whitespace=None), CellStyleFill(color='#ffdc9d')]), StyleInfo(locname=LocBody(columns='1200', rows=[3], mask=None), grpname=None, colname='1200', rownum=3, colnum=None, styles=[CellStyleText(color='#000000', font=None, size=None, align=None, v_align=None, style=None, weight=None, stretch=None, decorate=None, transform=None, whitespace=None), CellStyleFill(color='#ffc458')]), StyleInfo(locname=LocBody(columns='1200', rows=[4], mask=None), grpname=None, colname='1200', rownum=4, colnum=None, styles=[CellStyleText(color='#000000', font=None, size=None, align=None, v_align=None, style=None, weight=None, stretch=None, decorate=None, transform=None, whitespace=None), CellStyleFill(color='#ffaf1c')]), StyleInfo(locname=LocBody(columns='1200', rows=[5], mask=None), grpname=None, colname='1200', rownum=5, colnum=None, styles=[CellStyleText(color='#000000', font=None, size=None, align=None, v_align=None, style=None, weight=None, stretch=None, decorate=None, transform=None, whitespace=None), CellStyleFill(color='#ffa90b')]), StyleInfo(locname=LocBody(columns='1200', rows=[6], mask=None), grpname=None, colname='1200', rownum=6, colnum=None, styles=[CellStyleText(color='#000000', font=None, size=None, align=None, v_align=None, style=None, weight=None, stretch=None, decorate=None, transform=None, whitespace=None), CellStyleFill(color='#ffab12')]), StyleInfo(locname=LocBody(columns='1200', rows=[7], mask=None), grpname=None, colname='1200', rownum=7, colnum=None, styles=[CellStyleText(color='#000000', font=None, size=None, align=None, v_align=None, style=None, weight=None, stretch=None, decorate=None, transform=None, whitespace=None), CellStyleFill(color='#ffa90b')]), StyleInfo(locname=LocBody(columns='1200', rows=[8], mask=None), grpname=None, colname='1200', rownum=8, colnum=None, styles=[CellStyleText(color='#000000', font=None, size=None, align=None, v_align=None, style=None, weight=None, stretch=None, decorate=None, transform=None, whitespace=None), CellStyleFill(color='#ffbc42')]), StyleInfo(locname=LocBody(columns='1200', rows=[9], mask=None), grpname=None, colname='1200', rownum=9, colnum=None, styles=[CellStyleText(color='#000000', font=None, size=None, align=None, v_align=None, style=None, weight=None, stretch=None, decorate=None, transform=None, whitespace=None), CellStyleFill(color='#ffd383')]), StyleInfo(locname=LocBody(columns='1200', rows=[10], mask=None), grpname=None, colname='1200', rownum=10, colnum=None, styles=[CellStyleText(color='#000000', font=None, size=None, align=None, v_align=None, style=None, weight=None, stretch=None, decorate=None, transform=None, whitespace=None), CellStyleFill(color='#ffeac3')]), StyleInfo(locname=LocBody(columns='1200', rows=[11], mask=None), grpname=None, colname='1200', rownum=11, colnum=None, styles=[CellStyleText(color='#000000', font=None, size=None, align=None, v_align=None, style=None, weight=None, stretch=None, decorate=None, transform=None, whitespace=None), CellStyleFill(color='#fff9ed')])], _locale=<great_tables._gt_data.Locale object at 0x000001EF6953FAA0>, _formats=[], _substitutions=[<great_tables._gt_data.FormatInfo object at 0x000001EF69954B00>], _options=Options(table_id=OptionsInfo(scss=False, category='table', type='value', value=None), table_caption=OptionsInfo(scss=False, category='table', type='value', value=None), table_width=OptionsInfo(scss=True, category='table', type='px', value='auto'), table_layout=OptionsInfo(scss=True, category='table', type='value', value='fixed'), table_margin_left=OptionsInfo(scss=True, category='table', type='px', value='auto'), table_margin_right=OptionsInfo(scss=True, category='table', type='px', value='auto'), table_background_color=OptionsInfo(scss=True, category='table', type='value', value='#FFFFFF'), table_additional_css=OptionsInfo(scss=False, category='table', type='values', value=[]), table_font_names=OptionsInfo(scss=False, category='table', type='values', value=['-apple-system', 'BlinkMacSystemFont', 'Segoe UI', 'Roboto', 'Oxygen', 'Ubuntu', 'Cantarell', 'Helvetica Neue', 'Fira Sans', 'Droid Sans', 'Arial', 'sans-serif']), table_font_size=OptionsInfo(scss=True, category='table', type='px', value='16px'), table_font_weight=OptionsInfo(scss=True, category='table', type='value', value='normal'), table_font_style=OptionsInfo(scss=True, category='table', type='value', value='normal'), table_font_color=OptionsInfo(scss=True, category='table', type='value', value='#333333'), table_font_color_light=OptionsInfo(scss=True, category='table', type='value', value='#FFFFFF'), table_border_top_include=OptionsInfo(scss=False, category='table', type='boolean', value=True), table_border_top_style=OptionsInfo(scss=True, category='table', type='value', value='solid'), table_border_top_width=OptionsInfo(scss=True, category='table', type='px', value='2px'), table_border_top_color=OptionsInfo(scss=True, category='table', type='value', value='#A8A8A8'), table_border_right_style=OptionsInfo(scss=True, category='table', type='value', value='none'), table_border_right_width=OptionsInfo(scss=True, category='table', type='px', value='2px'), table_border_right_color=OptionsInfo(scss=True, category='table', type='value', value='#D3D3D3'), table_border_bottom_include=OptionsInfo(scss=False, category='table', type='boolean', value=True), table_border_bottom_style=OptionsInfo(scss=True, category='table', type='value', value='solid'), table_border_bottom_width=OptionsInfo(scss=True, category='table', type='px', value='2px'), table_border_bottom_color=OptionsInfo(scss=True, category='table', type='value', value='#A8A8A8'), table_border_left_style=OptionsInfo(scss=True, category='table', type='value', value='none'), table_border_left_width=OptionsInfo(scss=True, category='table', type='px', value='2px'), table_border_left_color=OptionsInfo(scss=True, category='table', type='value', value='#D3D3D3'), heading_background_color=OptionsInfo(scss=True, category='heading', type='value', value=None), heading_align=OptionsInfo(scss=True, category='heading', type='value', value='center'), heading_title_font_size=OptionsInfo(scss=True, category='heading', type='px', value='125%'), heading_title_font_weight=OptionsInfo(scss=True, category='heading', type='value', value='initial'), heading_subtitle_font_size=OptionsInfo(scss=True, category='heading', type='px', value='85%'), heading_subtitle_font_weight=OptionsInfo(scss=True, category='heading', type='value', value='initial'), heading_padding=OptionsInfo(scss=True, category='heading', type='px', value='4px'), heading_padding_horizontal=OptionsInfo(scss=True, category='heading', type='px', value='5px'), heading_border_bottom_style=OptionsInfo(scss=True, category='heading', type='value', value='solid'), heading_border_bottom_width=OptionsInfo(scss=True, category='heading', type='px', value='2px'), heading_border_bottom_color=OptionsInfo(scss=True, category='heading', type='value', value='#D3D3D3'), heading_border_lr_style=OptionsInfo(scss=True, category='heading', type='value', value='none'), heading_border_lr_width=OptionsInfo(scss=True, category='heading', type='px', value='1px'), heading_border_lr_color=OptionsInfo(scss=True, category='heading', type='value', value='#D3D3D3'), column_labels_background_color=OptionsInfo(scss=True, category='column_labels', type='value', value=None), column_labels_font_size=OptionsInfo(scss=True, category='column_labels', type='px', value='100%'), column_labels_font_weight=OptionsInfo(scss=True, category='column_labels', type='value', value='normal'), column_labels_text_transform=OptionsInfo(scss=True, category='column_labels', type='value', value='inherit'), column_labels_padding=OptionsInfo(scss=True, category='column_labels', type='px', value='5px'), column_labels_padding_horizontal=OptionsInfo(scss=True, category='column_labels', type='px', value='5px'), column_labels_vlines_style=OptionsInfo(scss=True, category='table_body', type='value', value='none'), column_labels_vlines_width=OptionsInfo(scss=True, category='table_body', type='px', value='1px'), column_labels_vlines_color=OptionsInfo(scss=True, category='table_body', type='value', value='#D3D3D3'), column_labels_border_top_style=OptionsInfo(scss=True, category='column_labels', type='value', value='solid'), column_labels_border_top_width=OptionsInfo(scss=True, category='column_labels', type='px', value='2px'), column_labels_border_top_color=OptionsInfo(scss=True, category='column_labels', type='value', value='#D3D3D3'), column_labels_border_bottom_style=OptionsInfo(scss=True, category='column_labels', type='value', value='solid'), column_labels_border_bottom_width=OptionsInfo(scss=True, category='column_labels', type='px', value='2px'), column_labels_border_bottom_color=OptionsInfo(scss=True, category='column_labels', type='value', value='#D3D3D3'), column_labels_border_lr_style=OptionsInfo(scss=True, category='column_labels', type='value', value='none'), column_labels_border_lr_width=OptionsInfo(scss=True, category='column_labels', type='px', value='1px'), column_labels_border_lr_color=OptionsInfo(scss=True, category='column_labels', type='value', value='#D3D3D3'), column_labels_hidden=OptionsInfo(scss=False, category='column_labels', type='boolean', value=False), row_group_background_color=OptionsInfo(scss=True, category='row_group', type='value', value=None), row_group_font_size=OptionsInfo(scss=True, category='row_group', type='px', value='100%'), row_group_font_weight=OptionsInfo(scss=True, category='row_group', type='value', value='initial'), row_group_text_transform=OptionsInfo(scss=True, category='row_group', type='value', value='inherit'), row_group_padding=OptionsInfo(scss=True, category='row_group', type='px', value='8px'), row_group_padding_horizontal=OptionsInfo(scss=True, category='row_group', type='px', value='5px'), row_group_border_top_style=OptionsInfo(scss=True, category='row_group', type='value', value='solid'), row_group_border_top_width=OptionsInfo(scss=True, category='row_group', type='px', value='2px'), row_group_border_top_color=OptionsInfo(scss=True, category='row_group', type='value', value='#D3D3D3'), row_group_border_right_style=OptionsInfo(scss=True, category='row_group', type='value', value='none'), row_group_border_right_width=OptionsInfo(scss=True, category='row_group', type='px', value='1px'), row_group_border_right_color=OptionsInfo(scss=True, category='row_group', type='value', value='#D3D3D3'), row_group_border_bottom_style=OptionsInfo(scss=True, category='row_group', type='value', value='solid'), row_group_border_bottom_width=OptionsInfo(scss=True, category='row_group', type='px', value='2px'), row_group_border_bottom_color=OptionsInfo(scss=True, category='row_group', type='value', value='#D3D3D3'), row_group_border_left_style=OptionsInfo(scss=True, category='row_group', type='value', value='none'), row_group_border_left_width=OptionsInfo(scss=True, category='row_group', type='px', value='1px'), row_group_border_left_color=OptionsInfo(scss=True, category='row_group', type='value', value='#D3D3D3'), row_group_as_column=OptionsInfo(scss=False, category='row_group', type='boolean', value=False), table_body_hlines_style=OptionsInfo(scss=True, category='table_body', type='value', value='solid'), table_body_hlines_width=OptionsInfo(scss=True, category='table_body', type='px', value='1px'), table_body_hlines_color=OptionsInfo(scss=True, category='table_body', type='value', value='#D3D3D3'), table_body_vlines_style=OptionsInfo(scss=True, category='table_body', type='value', value='none'), table_body_vlines_width=OptionsInfo(scss=True, category='table_body', type='px', value='1px'), table_body_vlines_color=OptionsInfo(scss=True, category='table_body', type='value', value='#D3D3D3'), table_body_border_top_style=OptionsInfo(scss=True, category='table_body', type='value', value='solid'), table_body_border_top_width=OptionsInfo(scss=True, category='table_body', type='px', value='2px'), table_body_border_top_color=OptionsInfo(scss=True, category='table_body', type='value', value='#D3D3D3'), table_body_border_bottom_style=OptionsInfo(scss=True, category='table_body', type='value', value='solid'), table_body_border_bottom_width=OptionsInfo(scss=True, category='table_body', type='px', value='2px'), table_body_border_bottom_color=OptionsInfo(scss=True, category='table_body', type='value', value='#D3D3D3'), data_row_padding=OptionsInfo(scss=True, category='data_row', type='px', value='8px'), data_row_padding_horizontal=OptionsInfo(scss=True, category='data_row', type='px', value='5px'), stub_background_color=OptionsInfo(scss=True, category='stub', type='value', value=None), stub_font_size=OptionsInfo(scss=True, category='stub', type='px', value='100%'), stub_font_weight=OptionsInfo(scss=True, category='stub', type='value', value='initial'), stub_text_transform=OptionsInfo(scss=True, category='stub', type='value', value='inherit'), stub_border_style=OptionsInfo(scss=True, category='stub', type='value', value='solid'), stub_border_width=OptionsInfo(scss=True, category='stub', type='px', value='2px'), stub_border_color=OptionsInfo(scss=True, category='stub', type='value', value='#D3D3D3'), stub_row_group_background_color=OptionsInfo(scss=True, category='stub', type='value', value=None), stub_row_group_font_size=OptionsInfo(scss=True, category='stub', type='px', value='100%'), stub_row_group_font_weight=OptionsInfo(scss=True, category='stub', type='value', value='initial'), stub_row_group_text_transform=OptionsInfo(scss=True, category='stub', type='value', value='inherit'), stub_row_group_border_style=OptionsInfo(scss=True, category='stub', type='value', value='solid'), stub_row_group_border_width=OptionsInfo(scss=True, category='stub', type='px', value='2px'), stub_row_group_border_color=OptionsInfo(scss=True, category='stub', type='value', value='#D3D3D3'), source_notes_padding=OptionsInfo(scss=True, category='source_notes', type='px', value='4px'), source_notes_padding_horizontal=OptionsInfo(scss=True, category='source_notes', type='px', value='5px'), source_notes_background_color=OptionsInfo(scss=True, category='source_notes', type='value', value=None), source_notes_font_size=OptionsInfo(scss=True, category='source_notes', type='px', value='90%'), source_notes_border_bottom_style=OptionsInfo(scss=True, category='source_notes', type='value', value='none'), source_notes_border_bottom_width=OptionsInfo(scss=True, category='source_notes', type='px', value='2px'), source_notes_border_bottom_color=OptionsInfo(scss=True, category='source_notes', type='value', value='#D3D3D3'), source_notes_border_lr_style=OptionsInfo(scss=True, category='source_notes', type='value', value='none'), source_notes_border_lr_width=OptionsInfo(scss=True, category='source_notes', type='px', value='2px'), source_notes_border_lr_color=OptionsInfo(scss=True, category='source_notes', type='value', value='#D3D3D3'), source_notes_multiline=OptionsInfo(scss=False, category='source_notes', type='boolean', value=True), source_notes_sep=OptionsInfo(scss=False, category='source_notes', type='value', value=' '), row_striping_background_color=OptionsInfo(scss=True, category='row', type='value', value='rgba(128,128,128,0.05)'), row_striping_include_stub=OptionsInfo(scss=False, category='row', type='boolean', value=False), row_striping_include_table_body=OptionsInfo(scss=False, category='row', type='boolean', value=False), container_width=OptionsInfo(scss=False, category='container', type='px', value='auto'), container_height=OptionsInfo(scss=False, category='container', type='px', value='auto'), container_padding_x=OptionsInfo(scss=False, category='container', type='px', value='0px'), container_padding_y=OptionsInfo(scss=False, category='container', type='px', value='10px'), container_overflow_x=OptionsInfo(scss=False, category='container', type='overflow', value='auto'), container_overflow_y=OptionsInfo(scss=False, category='container', type='overflow', value='auto'), quarto_disable_processing=OptionsInfo(scss=False, category='quarto', type='logical', value=False), quarto_use_bootstrap=OptionsInfo(scss=False, category='quarto', type='logical', value=False)), _has_built=False)"
      ]
     },
     "execution_count": 17,
     "metadata": {},
     "output_type": "execute_result"
    }
   ],
   "source": [
    "# REDO THIS WITH MY DATA AND MAKE CHANGES\n",
    "# EDA using GT - table with monthly values on left, FY across top, avg spent on ?? Acct\n",
    "# Make acct category interactive?\n",
    "\n",
    "from great_tables import GT, html\n",
    "from great_tables.data import sza\n",
    "import polars as pl\n",
    "import polars.selectors as cs\n",
    "\n",
    "sza_pivot = (\n",
    "    pl.from_pandas(sza)\n",
    "    .filter((pl.col(\"latitude\") == \"20\") & (pl.col(\"tst\") <= \"1200\"))\n",
    "    .select(pl.col(\"*\").exclude(\"latitude\"))\n",
    "    .drop_nulls()\n",
    "    .pivot(values=\"sza\", index=\"month\", on=\"tst\", sort_columns=True)\n",
    ")\n",
    "\n",
    "(\n",
    "    GT(sza_pivot, rowname_col=\"month\")\n",
    "    .data_color(\n",
    "        domain=[90, 0],\n",
    "        palette=[\"rebeccapurple\", \"white\", \"orange\"],\n",
    "        na_color=\"white\",\n",
    "    )\n",
    "    .tab_header(\n",
    "        title=\"Average $ Spent on xx Category by Month and Fiscal Year\",\n",
    "        subtitle=html(\"Average monthly values by Dept.\"),\n",
    "    )\n",
    "    .sub_missing(missing_text=\"\")\n",
    ")\n",
    "\n"
   ]
  },
  {
   "cell_type": "markdown",
   "metadata": {},
   "source": [
    "### Working with Plotly\n",
    "\n",
    "Plotting the data"
   ]
  },
  {
   "cell_type": "code",
   "execution_count": 18,
   "metadata": {},
   "outputs": [
    {
     "ename": "NameError",
     "evalue": "name 'univ_exp24_a' is not defined",
     "output_type": "error",
     "traceback": [
      "\u001b[1;31m---------------------------------------------------------------------------\u001b[0m",
      "\u001b[1;31mNameError\u001b[0m                                 Traceback (most recent call last)",
      "Cell \u001b[1;32mIn[18], line 2\u001b[0m\n\u001b[0;32m      1\u001b[0m \u001b[38;5;66;03m# Add Color for Unit??\u001b[39;00m\n\u001b[1;32m----> 2\u001b[0m fig \u001b[38;5;241m=\u001b[39m px\u001b[38;5;241m.\u001b[39mscatter(univ_exp24_a,\n\u001b[0;32m      3\u001b[0m                 x\u001b[38;5;241m=\u001b[39m\u001b[38;5;124m'\u001b[39m\u001b[38;5;124mTOTAL_AMOUNT\u001b[39m\u001b[38;5;124m'\u001b[39m,\n\u001b[0;32m      4\u001b[0m                 y\u001b[38;5;241m=\u001b[39m\u001b[38;5;124m'\u001b[39m\u001b[38;5;124mMONTH_ABBR\u001b[39m\u001b[38;5;124m'\u001b[39m,\n\u001b[0;32m      5\u001b[0m                 hover_name\u001b[38;5;241m=\u001b[39m\u001b[38;5;124m'\u001b[39m\u001b[38;5;124mACTUAL_ORGANIZATION_DESC_2\u001b[39m\u001b[38;5;124m'\u001b[39m,\n\u001b[0;32m      6\u001b[0m                 title\u001b[38;5;241m=\u001b[39m\u001b[38;5;124m'\u001b[39m\u001b[38;5;124mCategory vs. Spent\u001b[39m\u001b[38;5;124m'\u001b[39m)\n\u001b[0;32m      7\u001b[0m fig\u001b[38;5;241m.\u001b[39mshow()\n",
      "\u001b[1;31mNameError\u001b[0m: name 'univ_exp24_a' is not defined"
     ]
    }
   ],
   "source": [
    "# Add Color for Unit??\n",
    "fig = px.scatter(univ_exp24_a,\n",
    "                x='TOTAL_AMOUNT',\n",
    "                y='MONTH_ABBR',\n",
    "                hover_name='ACTUAL_ORGANIZATION_DESC_2',\n",
    "                title='Category vs. Spent')\n",
    "fig.show()"
   ]
  },
  {
   "cell_type": "markdown",
   "metadata": {},
   "source": [
    "### Advanced Excel with xlwings\n",
    "\n",
    "I decided to look into xlwings to see if I could bring in my data directly from my Access database. This was complicated because Chris Moffit's article was going to guid me how to use xlwings here: https://pbpython.com/xlwings-pandas-excel.html - assumed a Windows environment, which means I need to assume my developer role #2 hat, set up my PC with Git, the aap environment, and clone my repo to track aand make changes in the PC.\n"
   ]
  },
  {
   "cell_type": "markdown",
   "metadata": {},
   "source": [
    "### Setting up the PC\n",
    "\n",
    "I did most of the computer set up initially on my Mac. Working in my PC involved a few more installs (Git, aap env) and cloning the repo. Now we're ready to work in the PC."
   ]
  },
  {
   "cell_type": "markdown",
   "metadata": {},
   "source": [
    "### Back to xlwings.....\n",
    "\n",
    "What is xlwings? It's a way to bring Excel, Python and pandas together by using the xlwings tool to bring your data straight from your external database - no need to generate your csv files and read it outside python. It does some high level data wrangling and manipulation and delivers the data to your audience in a spreadsheet format - here I'll use Excel. You can use Python to analyze your data in your database and then write your ouput to Excel. I followed Chris Moffit's article that guided me how to use xlwings: https://pbpython.com/xlwings-pandas-excel.html  You build your data analysis tool to pull from your database (MS Access, etc), modify the data in pandas format, and then display to your enduser in their facvorite spreadsheet like Excel. xlwings has 2 options: 1- Control Excel from python or 2-Call custom python code from within Excel. Chris explains the latter, so I'm going with that.\n",
    "\n",
    "First, we insall xlwings by entering this at command line if proper folder/env:\n",
    "\n",
    "conda install xlwings\n",
    "\n",
    "Then run this at command line to generate some helper files, including an Excel file with VBA code:\n",
    "\n",
    "We'll get back to that but I wanted to review the xlwings and see what other capabilities they have: https://docs.xlwings.org/en/latest/ \n"
   ]
  },
  {
   "cell_type": "markdown",
   "metadata": {},
   "source": [
    "### xlwings  Load Function\n",
    "\n",
    "If you want to simply load your dataframe read in from csv(s) earlier, or another spreadsheet / Excel file, you could use the Load command."
   ]
  },
  {
   "cell_type": "code",
   "execution_count": 19,
   "metadata": {},
   "outputs": [
    {
     "name": "stdout",
     "output_type": "stream",
     "text": [
      "<class 'pandas.core.frame.DataFrame'>\n",
      "RangeIndex: 8 entries, 0 to 7\n",
      "Data columns (total 9 columns):\n",
      " #   Column    Non-Null Count  Dtype  \n",
      "---  ------    --------------  -----  \n",
      " 0   num       7 non-null      float64\n",
      " 1   char      7 non-null      object \n",
      " 2   fctr      8 non-null      object \n",
      " 3   date      7 non-null      object \n",
      " 4   time      7 non-null      object \n",
      " 5   datetime  7 non-null      object \n",
      " 6   currency  7 non-null      float64\n",
      " 7   row       8 non-null      object \n",
      " 8   group     8 non-null      object \n",
      "dtypes: float64(2), object(7)\n",
      "memory usage: 708.0+ bytes\n"
     ]
    }
   ],
   "source": [
    "# Dataframe using Pandas\n",
    "\n",
    "exibble_csv = '../../data/exibble.csv'\n",
    "\n",
    "df_ex = pd.read_csv(exibble_csv)\n",
    "# Getting first 3 rows from the DataFrame\n",
    "#df_ex = df_pizza\n",
    "df_ex.info()"
   ]
  },
  {
   "cell_type": "code",
   "execution_count": 20,
   "metadata": {},
   "outputs": [
    {
     "data": {
      "text/html": [
       "<div id=\"hrkplbglnk\" style=\"padding-left:0px;padding-right:0px;padding-top:10px;padding-bottom:10px;overflow-x:auto;overflow-y:auto;width:auto;height:auto;\">\n",
       "<style>\n",
       "#hrkplbglnk table {\n",
       "          font-family: -apple-system, BlinkMacSystemFont, 'Segoe UI', Roboto, Oxygen, Ubuntu, Cantarell, 'Helvetica Neue', 'Fira Sans', 'Droid Sans', Arial, sans-serif;\n",
       "          -webkit-font-smoothing: antialiased;\n",
       "          -moz-osx-font-smoothing: grayscale;\n",
       "        }\n",
       "\n",
       "#hrkplbglnk thead, tbody, tfoot, tr, td, th { border-style: none; }\n",
       " tr { background-color: transparent; }\n",
       "#hrkplbglnk p { margin: 0; padding: 0; }\n",
       " #hrkplbglnk .gt_table { display: table; border-collapse: collapse; line-height: normal; margin-left: auto; margin-right: auto; color: #333333; font-size: 16px; font-weight: normal; font-style: normal; background-color: #FFFFFF; width: auto; border-top-style: solid; border-top-width: 2px; border-top-color: #A8A8A8; border-right-style: none; border-right-width: 2px; border-right-color: #D3D3D3; border-bottom-style: solid; border-bottom-width: 2px; border-bottom-color: #A8A8A8; border-left-style: none; border-left-width: 2px; border-left-color: #D3D3D3; }\n",
       " #hrkplbglnk .gt_caption { padding-top: 4px; padding-bottom: 4px; }\n",
       " #hrkplbglnk .gt_title { color: #333333; font-size: 125%; font-weight: initial; padding-top: 4px; padding-bottom: 4px; padding-left: 5px; padding-right: 5px; border-bottom-color: #FFFFFF; border-bottom-width: 0; }\n",
       " #hrkplbglnk .gt_subtitle { color: #333333; font-size: 85%; font-weight: initial; padding-top: 3px; padding-bottom: 5px; padding-left: 5px; padding-right: 5px; border-top-color: #FFFFFF; border-top-width: 0; }\n",
       " #hrkplbglnk .gt_heading { background-color: #FFFFFF; text-align: center; border-bottom-color: #FFFFFF; border-left-style: none; border-left-width: 1px; border-left-color: #D3D3D3; border-right-style: none; border-right-width: 1px; border-right-color: #D3D3D3; }\n",
       " #hrkplbglnk .gt_bottom_border { border-bottom-style: solid; border-bottom-width: 2px; border-bottom-color: #D3D3D3; }\n",
       " #hrkplbglnk .gt_col_headings { border-top-style: solid; border-top-width: 2px; border-top-color: #D3D3D3; border-bottom-style: solid; border-bottom-width: 2px; border-bottom-color: #D3D3D3; border-left-style: none; border-left-width: 1px; border-left-color: #D3D3D3; border-right-style: none; border-right-width: 1px; border-right-color: #D3D3D3; }\n",
       " #hrkplbglnk .gt_col_heading { color: #333333; background-color: #FFFFFF; font-size: 100%; font-weight: normal; text-transform: inherit; border-left-style: none; border-left-width: 1px; border-left-color: #D3D3D3; border-right-style: none; border-right-width: 1px; border-right-color: #D3D3D3; vertical-align: bottom; padding-top: 5px; padding-bottom: 5px; padding-left: 5px; padding-right: 5px; overflow-x: hidden; }\n",
       " #hrkplbglnk .gt_column_spanner_outer { color: #333333; background-color: #FFFFFF; font-size: 100%; font-weight: normal; text-transform: inherit; padding-top: 0; padding-bottom: 0; padding-left: 4px; padding-right: 4px; }\n",
       " #hrkplbglnk .gt_column_spanner_outer:first-child { padding-left: 0; }\n",
       " #hrkplbglnk .gt_column_spanner_outer:last-child { padding-right: 0; }\n",
       " #hrkplbglnk .gt_column_spanner { border-bottom-style: solid; border-bottom-width: 2px; border-bottom-color: #D3D3D3; vertical-align: bottom; padding-top: 5px; padding-bottom: 5px; overflow-x: hidden; display: inline-block; width: 100%; }\n",
       " #hrkplbglnk .gt_spanner_row { border-bottom-style: hidden; }\n",
       " #hrkplbglnk .gt_group_heading { padding-top: 8px; padding-bottom: 8px; padding-left: 5px; padding-right: 5px; color: #333333; background-color: #FFFFFF; font-size: 100%; font-weight: initial; text-transform: inherit; border-top-style: solid; border-top-width: 2px; border-top-color: #D3D3D3; border-bottom-style: solid; border-bottom-width: 2px; border-bottom-color: #D3D3D3; border-left-style: none; border-left-width: 1px; border-left-color: #D3D3D3; border-right-style: none; border-right-width: 1px; border-right-color: #D3D3D3; vertical-align: middle; text-align: left; }\n",
       " #hrkplbglnk .gt_empty_group_heading { padding: 0.5px; color: #333333; background-color: #FFFFFF; font-size: 100%; font-weight: initial; border-top-style: solid; border-top-width: 2px; border-top-color: #D3D3D3; border-bottom-style: solid; border-bottom-width: 2px; border-bottom-color: #D3D3D3; vertical-align: middle; }\n",
       " #hrkplbglnk .gt_from_md> :first-child { margin-top: 0; }\n",
       " #hrkplbglnk .gt_from_md> :last-child { margin-bottom: 0; }\n",
       " #hrkplbglnk .gt_row { padding-top: 8px; padding-bottom: 8px; padding-left: 5px; padding-right: 5px; margin: 10px; border-top-style: solid; border-top-width: 1px; border-top-color: #D3D3D3; border-left-style: none; border-left-width: 1px; border-left-color: #D3D3D3; border-right-style: none; border-right-width: 1px; border-right-color: #D3D3D3; vertical-align: middle; overflow-x: hidden; }\n",
       " #hrkplbglnk .gt_stub { color: #333333; background-color: #FFFFFF; font-size: 100%; font-weight: initial; text-transform: inherit; border-right-style: solid; border-right-width: 2px; border-right-color: #D3D3D3; padding-left: 5px; padding-right: 5px; }\n",
       " #hrkplbglnk .gt_stub_row_group { color: #333333; background-color: #FFFFFF; font-size: 100%; font-weight: initial; text-transform: inherit; border-right-style: solid; border-right-width: 2px; border-right-color: #D3D3D3; padding-left: 5px; padding-right: 5px; vertical-align: top; }\n",
       " #hrkplbglnk .gt_row_group_first td { border-top-width: 2px; }\n",
       " #hrkplbglnk .gt_row_group_first th { border-top-width: 2px; }\n",
       " #hrkplbglnk .gt_striped { background-color: rgba(128,128,128,0.05); }\n",
       " #hrkplbglnk .gt_table_body { border-top-style: solid; border-top-width: 2px; border-top-color: #D3D3D3; border-bottom-style: solid; border-bottom-width: 2px; border-bottom-color: #D3D3D3; }\n",
       " #hrkplbglnk .gt_sourcenotes { color: #333333; background-color: #FFFFFF; border-bottom-style: none; border-bottom-width: 2px; border-bottom-color: #D3D3D3; border-left-style: none; border-left-width: 2px; border-left-color: #D3D3D3; border-right-style: none; border-right-width: 2px; border-right-color: #D3D3D3; }\n",
       " #hrkplbglnk .gt_sourcenote { font-size: 90%; padding-top: 4px; padding-bottom: 4px; padding-left: 5px; padding-right: 5px; text-align: left; }\n",
       " #hrkplbglnk .gt_left { text-align: left; }\n",
       " #hrkplbglnk .gt_center { text-align: center; }\n",
       " #hrkplbglnk .gt_right { text-align: right; font-variant-numeric: tabular-nums; }\n",
       " #hrkplbglnk .gt_font_normal { font-weight: normal; }\n",
       " #hrkplbglnk .gt_font_bold { font-weight: bold; }\n",
       " #hrkplbglnk .gt_font_italic { font-style: italic; }\n",
       " #hrkplbglnk .gt_super { font-size: 65%; }\n",
       " #hrkplbglnk .gt_footnote_marks { font-size: 75%; vertical-align: 0.4em; position: initial; }\n",
       " #hrkplbglnk .gt_asterisk { font-size: 100%; vertical-align: 0; }\n",
       " \n",
       "</style>\n",
       "<table class=\"gt_table\" data-quarto-disable-processing=\"false\" data-quarto-bootstrap=\"false\">\n",
       "<thead>\n",
       "\n",
       "<tr class=\"gt_col_headings\">\n",
       "  <th class=\"gt_col_heading gt_columns_bottom_border gt_left\" rowspan=\"1\" colspan=\"1\" scope=\"col\" id=\"example\">example</th>\n",
       "  <th class=\"gt_col_heading gt_columns_bottom_border gt_left\" rowspan=\"1\" colspan=\"1\" scope=\"col\" id=\"numbers\">numbers</th>\n",
       "</tr>\n",
       "</thead>\n",
       "<tbody class=\"gt_table_body\">\n",
       "  <tr>\n",
       "    <td class=\"gt_row gt_left\">Row 1</td>\n",
       "    <td class=\"gt_row gt_left\"><div><svg role=\"img\" viewBox=\"0 0 600 130\" style=\"height: 2em; margin-left: auto; margin-right: auto; font-size: inherit; overflow: visible; vertical-align: middle; position:relative;\"><defs><pattern id=\"area_pattern\" width=\"8\" height=\"8\" patternUnits=\"userSpaceOnUse\"><path class=\"pattern-line\" d=\"M 0,8 l 8,-8 M -1,1 l 4,-4 M 6,10 l 4,-4\" stroke=\"#FF0000\" stroke-width=\"1.5\" stroke-linecap=\"round\" shape-rendering=\"geometricPrecision\"></path></pattern></defs><style> text { font-family: ui-monospace, 'Cascadia Code', 'Source Code Pro', Menlo, Consolas, 'DejaVu Sans Mono', monospace; stroke-width: 0.15em; paint-order: stroke; stroke-linejoin: round; cursor: default; } .vert-line:hover rect { fill: #911EB4; fill-opacity: 40%; stroke: #FFFFFF60; color: red; } .vert-line:hover text { stroke: white; fill: #212427; } .horizontal-line:hover text {stroke: white; fill: #212427; } .ref-line:hover rect { stroke: #FFFFFF60; } .ref-line:hover line { stroke: #FF0000; } .ref-line:hover text { stroke: white; fill: #212427; } .y-axis-line:hover rect { fill: #EDEDED; fill-opacity: 60%; stroke: #FFFFFF60; color: red; } .y-axis-line:hover text { stroke: white; stroke-width: 0.20em; fill: #1A1C1F; } </style><path class=\"area-closed\" d=\"M 50.0,66.51515151515152 105.55555555555554,57.42424242424242 161.1111111111111,108.93939393939394 216.66666666666666,105.9090909090909 272.2222222222222,15.0 327.77777777777777,57.42424242424242 383.3333333333333,63.484848484848484 438.88888888888886,115.0 494.4444444444444,105.9090909090909 550.0,78.63636363636363 550.0,125 50.0,125 Z\" stroke=\"transparent\" stroke-width=\"2\" fill=\"url(#area_pattern)\" fill-opacity=\"0.7\"></path><path d=\"M 50.0,66.51515151515152 C 75.0,66.51515151515152 80.55555555555554,57.42424242424242 105.55555555555554,57.42424242424242 C 130.55555555555554,57.42424242424242 136.1111111111111,108.93939393939394 161.1111111111111,108.93939393939394 C 186.1111111111111,108.93939393939394 191.66666666666666,105.9090909090909 216.66666666666666,105.9090909090909 C 241.66666666666666,105.9090909090909 247.22222222222217,15.0 272.2222222222222,15.0 C 297.2222222222222,15.0 302.77777777777777,57.42424242424242 327.77777777777777,57.42424242424242 C 352.77777777777777,57.42424242424242 358.3333333333333,63.484848484848484 383.3333333333333,63.484848484848484 C 408.3333333333333,63.484848484848484 413.88888888888886,115.0 438.88888888888886,115.0 C 463.88888888888886,115.0 469.4444444444444,105.9090909090909 494.4444444444444,105.9090909090909 C 519.4444444444443,105.9090909090909 525.0,78.63636363636363 550.0,78.63636363636363\" stroke=\"#4682B4\" stroke-width=\"8\" fill=\"none\"></path><circle cx=\"50.0\" cy=\"66.51515151515152\" r=\"10\" stroke=\"#FFFFFF\" stroke-width=\"4\" fill=\"#FF0000\"></circle><circle cx=\"105.55555555555554\" cy=\"57.42424242424242\" r=\"10\" stroke=\"#FFFFFF\" stroke-width=\"4\" fill=\"#FF0000\"></circle><circle cx=\"161.1111111111111\" cy=\"108.93939393939394\" r=\"10\" stroke=\"#FFFFFF\" stroke-width=\"4\" fill=\"#FF0000\"></circle><circle cx=\"216.66666666666666\" cy=\"105.9090909090909\" r=\"10\" stroke=\"#FFFFFF\" stroke-width=\"4\" fill=\"#FF0000\"></circle><circle cx=\"272.2222222222222\" cy=\"15.0\" r=\"10\" stroke=\"#FFFFFF\" stroke-width=\"4\" fill=\"#FF0000\"></circle><circle cx=\"327.77777777777777\" cy=\"57.42424242424242\" r=\"10\" stroke=\"#FFFFFF\" stroke-width=\"4\" fill=\"#FF0000\"></circle><circle cx=\"383.3333333333333\" cy=\"63.484848484848484\" r=\"10\" stroke=\"#FFFFFF\" stroke-width=\"4\" fill=\"#FF0000\"></circle><circle cx=\"438.88888888888886\" cy=\"115.0\" r=\"10\" stroke=\"#FFFFFF\" stroke-width=\"4\" fill=\"#FF0000\"></circle><circle cx=\"494.4444444444444\" cy=\"105.9090909090909\" r=\"10\" stroke=\"#FFFFFF\" stroke-width=\"4\" fill=\"#FF0000\"></circle><circle cx=\"550.0\" cy=\"78.63636363636363\" r=\"10\" stroke=\"#FFFFFF\" stroke-width=\"4\" fill=\"#FF0000\"></circle><g class=\"y-axis-line\"><rect x=\"0\" y=\"0\" width=\"65\" height=\"130\" stroke=\"transparent\" stroke-width=\"0\" fill=\"transparent\"></rect><text x=\"0\" y=\"19.0\" fill=\"transparent\" stroke=\"transparent\" font-size=\"25\">37</text><text x=\"0\" y=\"126.0\" fill=\"transparent\" stroke=\"transparent\" font-size=\"25\">4</text></g><g class=\"vert-line\"><rect x=\"40.0\" y=\"0\" width=\"20\" height=\"130\" stroke=\"transparent\" stroke-width=\"12\" fill=\"transparent\"></rect><text x=\"60.0\" y=\"20\" fill=\"transparent\" stroke=\"transparent\" font-size=\"30px\">20</text></g><g class=\"vert-line\"><rect x=\"95.55555555555554\" y=\"0\" width=\"20\" height=\"130\" stroke=\"transparent\" stroke-width=\"12\" fill=\"transparent\"></rect><text x=\"115.55555555555554\" y=\"20\" fill=\"transparent\" stroke=\"transparent\" font-size=\"30px\">23</text></g><g class=\"vert-line\"><rect x=\"151.1111111111111\" y=\"0\" width=\"20\" height=\"130\" stroke=\"transparent\" stroke-width=\"12\" fill=\"transparent\"></rect><text x=\"171.1111111111111\" y=\"20\" fill=\"transparent\" stroke=\"transparent\" font-size=\"30px\">6</text></g><g class=\"vert-line\"><rect x=\"206.66666666666666\" y=\"0\" width=\"20\" height=\"130\" stroke=\"transparent\" stroke-width=\"12\" fill=\"transparent\"></rect><text x=\"226.66666666666666\" y=\"20\" fill=\"transparent\" stroke=\"transparent\" font-size=\"30px\">7</text></g><g class=\"vert-line\"><rect x=\"262.2222222222222\" y=\"0\" width=\"20\" height=\"130\" stroke=\"transparent\" stroke-width=\"12\" fill=\"transparent\"></rect><text x=\"282.2222222222222\" y=\"20\" fill=\"transparent\" stroke=\"transparent\" font-size=\"30px\">37</text></g><g class=\"vert-line\"><rect x=\"317.77777777777777\" y=\"0\" width=\"20\" height=\"130\" stroke=\"transparent\" stroke-width=\"12\" fill=\"transparent\"></rect><text x=\"337.77777777777777\" y=\"20\" fill=\"transparent\" stroke=\"transparent\" font-size=\"30px\">23</text></g><g class=\"vert-line\"><rect x=\"373.3333333333333\" y=\"0\" width=\"20\" height=\"130\" stroke=\"transparent\" stroke-width=\"12\" fill=\"transparent\"></rect><text x=\"393.3333333333333\" y=\"20\" fill=\"transparent\" stroke=\"transparent\" font-size=\"30px\">21</text></g><g class=\"vert-line\"><rect x=\"428.88888888888886\" y=\"0\" width=\"20\" height=\"130\" stroke=\"transparent\" stroke-width=\"12\" fill=\"transparent\"></rect><text x=\"448.88888888888886\" y=\"20\" fill=\"transparent\" stroke=\"transparent\" font-size=\"30px\">4</text></g><g class=\"vert-line\"><rect x=\"484.4444444444444\" y=\"0\" width=\"20\" height=\"130\" stroke=\"transparent\" stroke-width=\"12\" fill=\"transparent\"></rect><text x=\"504.4444444444444\" y=\"20\" fill=\"transparent\" stroke=\"transparent\" font-size=\"30px\">7</text></g><g class=\"vert-line\"><rect x=\"540.0\" y=\"0\" width=\"20\" height=\"130\" stroke=\"transparent\" stroke-width=\"12\" fill=\"transparent\"></rect><text x=\"560.0\" y=\"20\" fill=\"transparent\" stroke=\"transparent\" font-size=\"30px\">16</text></g></svg></div></td>\n",
       "  </tr>\n",
       "  <tr>\n",
       "    <td class=\"gt_row gt_left\">Row 2</td>\n",
       "    <td class=\"gt_row gt_left\"><div><svg role=\"img\" viewBox=\"0 0 600 130\" style=\"height: 2em; margin-left: auto; margin-right: auto; font-size: inherit; overflow: visible; vertical-align: middle; position:relative;\"><defs><pattern id=\"area_pattern\" width=\"8\" height=\"8\" patternUnits=\"userSpaceOnUse\"><path class=\"pattern-line\" d=\"M 0,8 l 8,-8 M -1,1 l 4,-4 M 6,10 l 4,-4\" stroke=\"#FF0000\" stroke-width=\"1.5\" stroke-linecap=\"round\" shape-rendering=\"geometricPrecision\"></path></pattern></defs><style> text { font-family: ui-monospace, 'Cascadia Code', 'Source Code Pro', Menlo, Consolas, 'DejaVu Sans Mono', monospace; stroke-width: 0.15em; paint-order: stroke; stroke-linejoin: round; cursor: default; } .vert-line:hover rect { fill: #911EB4; fill-opacity: 40%; stroke: #FFFFFF60; color: red; } .vert-line:hover text { stroke: white; fill: #212427; } .horizontal-line:hover text {stroke: white; fill: #212427; } .ref-line:hover rect { stroke: #FFFFFF60; } .ref-line:hover line { stroke: #FF0000; } .ref-line:hover text { stroke: white; fill: #212427; } .y-axis-line:hover rect { fill: #EDEDED; fill-opacity: 60%; stroke: #FFFFFF60; color: red; } .y-axis-line:hover text { stroke: white; stroke-width: 0.20em; fill: #1A1C1F; } </style><path class=\"area-closed\" d=\"M 50.0,115.0 105.55555555555554,69.08163265306123 161.1111111111111,44.591836734693885 216.66666666666666,113.77551020408163 272.2222222222222,102.75510204081633 327.77777777777777,15.0 383.3333333333333,84.38775510204083 438.88888888888886,101.73469387755102 494.4444444444444,65.0 550.0,100.3061224489796 550.0,125 50.0,125 Z\" stroke=\"transparent\" stroke-width=\"2\" fill=\"url(#area_pattern)\" fill-opacity=\"0.7\"></path><path d=\"M 50.0,115.0 C 75.0,115.0 80.55555555555554,69.08163265306123 105.55555555555554,69.08163265306123 C 130.55555555555554,69.08163265306123 136.1111111111111,44.591836734693885 161.1111111111111,44.591836734693885 C 186.1111111111111,44.591836734693885 191.66666666666666,113.77551020408163 216.66666666666666,113.77551020408163 C 241.66666666666666,113.77551020408163 247.22222222222217,102.75510204081633 272.2222222222222,102.75510204081633 C 297.2222222222222,102.75510204081633 302.77777777777777,15.0 327.77777777777777,15.0 C 352.77777777777777,15.0 358.3333333333333,84.38775510204083 383.3333333333333,84.38775510204083 C 408.3333333333333,84.38775510204083 413.88888888888886,101.73469387755102 438.88888888888886,101.73469387755102 C 463.88888888888886,101.73469387755102 469.4444444444444,65.0 494.4444444444444,65.0 C 519.4444444444443,65.0 525.0,100.3061224489796 550.0,100.3061224489796\" stroke=\"#4682B4\" stroke-width=\"8\" fill=\"none\"></path><circle cx=\"50.0\" cy=\"115.0\" r=\"10\" stroke=\"#FFFFFF\" stroke-width=\"4\" fill=\"#FF0000\"></circle><circle cx=\"105.55555555555554\" cy=\"69.08163265306123\" r=\"10\" stroke=\"#FFFFFF\" stroke-width=\"4\" fill=\"#FF0000\"></circle><circle cx=\"161.1111111111111\" cy=\"44.591836734693885\" r=\"10\" stroke=\"#FFFFFF\" stroke-width=\"4\" fill=\"#FF0000\"></circle><circle cx=\"216.66666666666666\" cy=\"113.77551020408163\" r=\"10\" stroke=\"#FFFFFF\" stroke-width=\"4\" fill=\"#FF0000\"></circle><circle cx=\"272.2222222222222\" cy=\"102.75510204081633\" r=\"10\" stroke=\"#FFFFFF\" stroke-width=\"4\" fill=\"#FF0000\"></circle><circle cx=\"327.77777777777777\" cy=\"15.0\" r=\"10\" stroke=\"#FFFFFF\" stroke-width=\"4\" fill=\"#FF0000\"></circle><circle cx=\"383.3333333333333\" cy=\"84.38775510204083\" r=\"10\" stroke=\"#FFFFFF\" stroke-width=\"4\" fill=\"#FF0000\"></circle><circle cx=\"438.88888888888886\" cy=\"101.73469387755102\" r=\"10\" stroke=\"#FFFFFF\" stroke-width=\"4\" fill=\"#FF0000\"></circle><circle cx=\"494.4444444444444\" cy=\"65.0\" r=\"10\" stroke=\"#FFFFFF\" stroke-width=\"4\" fill=\"#FF0000\"></circle><circle cx=\"550.0\" cy=\"100.3061224489796\" r=\"10\" stroke=\"#FFFFFF\" stroke-width=\"4\" fill=\"#FF0000\"></circle><g class=\"y-axis-line\"><rect x=\"0\" y=\"0\" width=\"65\" height=\"130\" stroke=\"transparent\" stroke-width=\"0\" fill=\"transparent\"></rect><text x=\"0\" y=\"19.0\" fill=\"transparent\" stroke=\"transparent\" font-size=\"25\">12.1</text><text x=\"0\" y=\"126.0\" fill=\"transparent\" stroke=\"transparent\" font-size=\"25\">2.30</text></g><g class=\"vert-line\"><rect x=\"40.0\" y=\"0\" width=\"20\" height=\"130\" stroke=\"transparent\" stroke-width=\"12\" fill=\"transparent\"></rect><text x=\"60.0\" y=\"20\" fill=\"transparent\" stroke=\"transparent\" font-size=\"30px\">2.30</text></g><g class=\"vert-line\"><rect x=\"95.55555555555554\" y=\"0\" width=\"20\" height=\"130\" stroke=\"transparent\" stroke-width=\"12\" fill=\"transparent\"></rect><text x=\"115.55555555555554\" y=\"20\" fill=\"transparent\" stroke=\"transparent\" font-size=\"30px\">6.80</text></g><g class=\"vert-line\"><rect x=\"151.1111111111111\" y=\"0\" width=\"20\" height=\"130\" stroke=\"transparent\" stroke-width=\"12\" fill=\"transparent\"></rect><text x=\"171.1111111111111\" y=\"20\" fill=\"transparent\" stroke=\"transparent\" font-size=\"30px\">9.20</text></g><g class=\"vert-line\"><rect x=\"206.66666666666666\" y=\"0\" width=\"20\" height=\"130\" stroke=\"transparent\" stroke-width=\"12\" fill=\"transparent\"></rect><text x=\"226.66666666666666\" y=\"20\" fill=\"transparent\" stroke=\"transparent\" font-size=\"30px\">2.42</text></g><g class=\"vert-line\"><rect x=\"262.2222222222222\" y=\"0\" width=\"20\" height=\"130\" stroke=\"transparent\" stroke-width=\"12\" fill=\"transparent\"></rect><text x=\"282.2222222222222\" y=\"20\" fill=\"transparent\" stroke=\"transparent\" font-size=\"30px\">3.50</text></g><g class=\"vert-line\"><rect x=\"317.77777777777777\" y=\"0\" width=\"20\" height=\"130\" stroke=\"transparent\" stroke-width=\"12\" fill=\"transparent\"></rect><text x=\"337.77777777777777\" y=\"20\" fill=\"transparent\" stroke=\"transparent\" font-size=\"30px\">12.1</text></g><g class=\"vert-line\"><rect x=\"373.3333333333333\" y=\"0\" width=\"20\" height=\"130\" stroke=\"transparent\" stroke-width=\"12\" fill=\"transparent\"></rect><text x=\"393.3333333333333\" y=\"20\" fill=\"transparent\" stroke=\"transparent\" font-size=\"30px\">5.30</text></g><g class=\"vert-line\"><rect x=\"428.88888888888886\" y=\"0\" width=\"20\" height=\"130\" stroke=\"transparent\" stroke-width=\"12\" fill=\"transparent\"></rect><text x=\"448.88888888888886\" y=\"20\" fill=\"transparent\" stroke=\"transparent\" font-size=\"30px\">3.60</text></g><g class=\"vert-line\"><rect x=\"484.4444444444444\" y=\"0\" width=\"20\" height=\"130\" stroke=\"transparent\" stroke-width=\"12\" fill=\"transparent\"></rect><text x=\"504.4444444444444\" y=\"20\" fill=\"transparent\" stroke=\"transparent\" font-size=\"30px\">7.20</text></g><g class=\"vert-line\"><rect x=\"540.0\" y=\"0\" width=\"20\" height=\"130\" stroke=\"transparent\" stroke-width=\"12\" fill=\"transparent\"></rect><text x=\"560.0\" y=\"20\" fill=\"transparent\" stroke=\"transparent\" font-size=\"30px\">3.74</text></g></svg></div></td>\n",
       "  </tr>\n",
       "  <tr>\n",
       "    <td class=\"gt_row gt_left\">Row 3</td>\n",
       "    <td class=\"gt_row gt_left\"><div><svg role=\"img\" viewBox=\"0 0 450 130\" style=\"height: 2em; margin-left: auto; margin-right: auto; font-size: inherit; overflow: visible; vertical-align: middle; position:relative;\"><defs><pattern id=\"area_pattern\" width=\"8\" height=\"8\" patternUnits=\"userSpaceOnUse\"><path class=\"pattern-line\" d=\"M 0,8 l 8,-8 M -1,1 l 4,-4 M 6,10 l 4,-4\" stroke=\"#FF0000\" stroke-width=\"1.5\" stroke-linecap=\"round\" shape-rendering=\"geometricPrecision\"></path></pattern></defs><style> text { font-family: ui-monospace, 'Cascadia Code', 'Source Code Pro', Menlo, Consolas, 'DejaVu Sans Mono', monospace; stroke-width: 0.15em; paint-order: stroke; stroke-linejoin: round; cursor: default; } .vert-line:hover rect { fill: #911EB4; fill-opacity: 40%; stroke: #FFFFFF60; color: red; } .vert-line:hover text { stroke: white; fill: #212427; } .horizontal-line:hover text {stroke: white; fill: #212427; } .ref-line:hover rect { stroke: #FFFFFF60; } .ref-line:hover line { stroke: #FF0000; } .ref-line:hover text { stroke: white; fill: #212427; } .y-axis-line:hover rect { fill: #EDEDED; fill-opacity: 60%; stroke: #FFFFFF60; color: red; } .y-axis-line:hover text { stroke: white; stroke-width: 0.20em; fill: #1A1C1F; } </style><path class=\"area-closed\" d=\"M 50.0,115.0 108.33333333333333,80.0 166.66666666666666,25.0 225.0,36.50000000000001 283.3333333333333,55.0 341.66666666666663,15.0 400.0,92.0 400.0,125 50.0,125 Z\" stroke=\"transparent\" stroke-width=\"2\" fill=\"url(#area_pattern)\" fill-opacity=\"0.7\"></path><path d=\"M 50.0,115.0 C 75.0,115.0 83.33333333333333,80.0 108.33333333333333,80.0 C 133.33333333333331,80.0 141.66666666666666,25.0 166.66666666666666,25.0 C 191.66666666666666,25.0 200.0,36.50000000000001 225.0,36.50000000000001 C 250.0,36.50000000000001 258.3333333333333,55.0 283.3333333333333,55.0 C 308.3333333333333,55.0 316.66666666666663,15.0 341.66666666666663,15.0 C 366.66666666666663,15.0 375.0,92.0 400.0,92.0\" stroke=\"#4682B4\" stroke-width=\"8\" fill=\"none\"></path><circle cx=\"50.0\" cy=\"115.0\" r=\"10\" stroke=\"#FFFFFF\" stroke-width=\"4\" fill=\"#FF0000\"></circle><circle cx=\"108.33333333333333\" cy=\"80.0\" r=\"10\" stroke=\"#FFFFFF\" stroke-width=\"4\" fill=\"#FF0000\"></circle><circle cx=\"166.66666666666666\" cy=\"25.0\" r=\"10\" stroke=\"#FFFFFF\" stroke-width=\"4\" fill=\"#FF0000\"></circle><circle cx=\"225.0\" cy=\"36.50000000000001\" r=\"10\" stroke=\"#FFFFFF\" stroke-width=\"4\" fill=\"#FF0000\"></circle><circle cx=\"283.3333333333333\" cy=\"55.0\" r=\"10\" stroke=\"#FFFFFF\" stroke-width=\"4\" fill=\"#FF0000\"></circle><circle cx=\"341.66666666666663\" cy=\"15.0\" r=\"10\" stroke=\"#FFFFFF\" stroke-width=\"4\" fill=\"#FF0000\"></circle><circle cx=\"400.0\" cy=\"92.0\" r=\"10\" stroke=\"#FFFFFF\" stroke-width=\"4\" fill=\"#FF0000\"></circle><g class=\"y-axis-line\"><rect x=\"0\" y=\"0\" width=\"65\" height=\"130\" stroke=\"transparent\" stroke-width=\"0\" fill=\"transparent\"></rect><text x=\"0\" y=\"19.0\" fill=\"transparent\" stroke=\"transparent\" font-size=\"25\">8.00</text><text x=\"0\" y=\"126.0\" fill=\"transparent\" stroke=\"transparent\" font-size=\"25\">−12.0</text></g><g class=\"vert-line\"><rect x=\"40.0\" y=\"0\" width=\"20\" height=\"130\" stroke=\"transparent\" stroke-width=\"12\" fill=\"transparent\"></rect><text x=\"60.0\" y=\"20\" fill=\"transparent\" stroke=\"transparent\" font-size=\"30px\">−12.0</text></g><g class=\"vert-line\"><rect x=\"98.33333333333333\" y=\"0\" width=\"20\" height=\"130\" stroke=\"transparent\" stroke-width=\"12\" fill=\"transparent\"></rect><text x=\"118.33333333333333\" y=\"20\" fill=\"transparent\" stroke=\"transparent\" font-size=\"30px\">−5.00</text></g><g class=\"vert-line\"><rect x=\"156.66666666666666\" y=\"0\" width=\"20\" height=\"130\" stroke=\"transparent\" stroke-width=\"12\" fill=\"transparent\"></rect><text x=\"176.66666666666666\" y=\"20\" fill=\"transparent\" stroke=\"transparent\" font-size=\"30px\">6.00</text></g><g class=\"vert-line\"><rect x=\"215.0\" y=\"0\" width=\"20\" height=\"130\" stroke=\"transparent\" stroke-width=\"12\" fill=\"transparent\"></rect><text x=\"235.0\" y=\"20\" fill=\"transparent\" stroke=\"transparent\" font-size=\"30px\">3.70</text></g><g class=\"vert-line\"><rect x=\"273.3333333333333\" y=\"0\" width=\"20\" height=\"130\" stroke=\"transparent\" stroke-width=\"12\" fill=\"transparent\"></rect><text x=\"293.3333333333333\" y=\"20\" fill=\"transparent\" stroke=\"transparent\" font-size=\"30px\">0</text></g><g class=\"vert-line\"><rect x=\"331.66666666666663\" y=\"0\" width=\"20\" height=\"130\" stroke=\"transparent\" stroke-width=\"12\" fill=\"transparent\"></rect><text x=\"351.66666666666663\" y=\"20\" fill=\"transparent\" stroke=\"transparent\" font-size=\"30px\">8.00</text></g><g class=\"vert-line\"><rect x=\"390.0\" y=\"0\" width=\"20\" height=\"130\" stroke=\"transparent\" stroke-width=\"12\" fill=\"transparent\"></rect><text x=\"410.0\" y=\"20\" fill=\"transparent\" stroke=\"transparent\" font-size=\"30px\">−7.40</text></g></svg></div></td>\n",
       "  </tr>\n",
       "  <tr>\n",
       "    <td class=\"gt_row gt_left\">Row 4</td>\n",
       "    <td class=\"gt_row gt_left\"><div><svg role=\"img\" viewBox=\"0 0 650 130\" style=\"height: 2em; margin-left: auto; margin-right: auto; font-size: inherit; overflow: visible; vertical-align: middle; position:relative;\"><defs><pattern id=\"area_pattern\" width=\"8\" height=\"8\" patternUnits=\"userSpaceOnUse\"><path class=\"pattern-line\" d=\"M 0,8 l 8,-8 M -1,1 l 4,-4 M 6,10 l 4,-4\" stroke=\"#FF0000\" stroke-width=\"1.5\" stroke-linecap=\"round\" shape-rendering=\"geometricPrecision\"></path></pattern></defs><style> text { font-family: ui-monospace, 'Cascadia Code', 'Source Code Pro', Menlo, Consolas, 'DejaVu Sans Mono', monospace; stroke-width: 0.15em; paint-order: stroke; stroke-linejoin: round; cursor: default; } .vert-line:hover rect { fill: #911EB4; fill-opacity: 40%; stroke: #FFFFFF60; color: red; } .vert-line:hover text { stroke: white; fill: #212427; } .horizontal-line:hover text {stroke: white; fill: #212427; } .ref-line:hover rect { stroke: #FFFFFF60; } .ref-line:hover line { stroke: #FF0000; } .ref-line:hover text { stroke: white; fill: #212427; } .y-axis-line:hover rect { fill: #EDEDED; fill-opacity: 60%; stroke: #FFFFFF60; color: red; } .y-axis-line:hover text { stroke: white; stroke-width: 0.20em; fill: #1A1C1F; } </style><path class=\"area-closed\" d=\"M 50.0,106.66666666666666 105.0,115.0 160.0,52.5 215.00000000000003,85.83333333333333 270.0,81.66666666666667 325.0,73.33333333333333 380.00000000000006,110.83333333333334 435.00000000000006,15.0 490.0,44.166666666666664 545.0,60.833333333333336 600.0,90.0 600.0,125 50.0,125 Z\" stroke=\"transparent\" stroke-width=\"2\" fill=\"url(#area_pattern)\" fill-opacity=\"0.7\"></path><path d=\"M 50.0,106.66666666666666 C 75.0,106.66666666666666 80.0,115.0 105.0,115.0 C 130.0,115.0 135.0,52.5 160.0,52.5 C 185.0,52.5 190.00000000000003,85.83333333333333 215.00000000000003,85.83333333333333 C 240.00000000000003,85.83333333333333 245.0,81.66666666666667 270.0,81.66666666666667 C 295.0,81.66666666666667 300.0,73.33333333333333 325.0,73.33333333333333 C 350.0,73.33333333333333 355.00000000000006,110.83333333333334 380.00000000000006,110.83333333333334 C 405.00000000000006,110.83333333333334 410.00000000000006,15.0 435.00000000000006,15.0 C 460.00000000000006,15.0 465.0,44.166666666666664 490.0,44.166666666666664 C 515.0,44.166666666666664 520.0,60.833333333333336 545.0,60.833333333333336 C 570.0,60.833333333333336 575.0,90.0 600.0,90.0\" stroke=\"#4682B4\" stroke-width=\"8\" fill=\"none\"></path><circle cx=\"50.0\" cy=\"106.66666666666666\" r=\"10\" stroke=\"#FFFFFF\" stroke-width=\"4\" fill=\"#FF0000\"></circle><circle cx=\"105.0\" cy=\"115.0\" r=\"10\" stroke=\"#FFFFFF\" stroke-width=\"4\" fill=\"#FF0000\"></circle><circle cx=\"160.0\" cy=\"52.5\" r=\"10\" stroke=\"#FFFFFF\" stroke-width=\"4\" fill=\"#FF0000\"></circle><circle cx=\"215.00000000000003\" cy=\"85.83333333333333\" r=\"10\" stroke=\"#FFFFFF\" stroke-width=\"4\" fill=\"#FF0000\"></circle><circle cx=\"270.0\" cy=\"81.66666666666667\" r=\"10\" stroke=\"#FFFFFF\" stroke-width=\"4\" fill=\"#FF0000\"></circle><circle cx=\"325.0\" cy=\"73.33333333333333\" r=\"10\" stroke=\"#FFFFFF\" stroke-width=\"4\" fill=\"#FF0000\"></circle><circle cx=\"380.00000000000006\" cy=\"110.83333333333334\" r=\"10\" stroke=\"#FFFFFF\" stroke-width=\"4\" fill=\"#FF0000\"></circle><circle cx=\"435.00000000000006\" cy=\"15.0\" r=\"10\" stroke=\"#FFFFFF\" stroke-width=\"4\" fill=\"#FF0000\"></circle><circle cx=\"490.0\" cy=\"44.166666666666664\" r=\"10\" stroke=\"#FFFFFF\" stroke-width=\"4\" fill=\"#FF0000\"></circle><circle cx=\"545.0\" cy=\"60.833333333333336\" r=\"10\" stroke=\"#FFFFFF\" stroke-width=\"4\" fill=\"#FF0000\"></circle><circle cx=\"600.0\" cy=\"90.0\" r=\"10\" stroke=\"#FFFFFF\" stroke-width=\"4\" fill=\"#FF0000\"></circle><g class=\"y-axis-line\"><rect x=\"0\" y=\"0\" width=\"65\" height=\"130\" stroke=\"transparent\" stroke-width=\"0\" fill=\"transparent\"></rect><text x=\"0\" y=\"19.0\" fill=\"transparent\" stroke=\"transparent\" font-size=\"25\">24</text><text x=\"0\" y=\"126.0\" fill=\"transparent\" stroke=\"transparent\" font-size=\"25\">0</text></g><g class=\"vert-line\"><rect x=\"40.0\" y=\"0\" width=\"20\" height=\"130\" stroke=\"transparent\" stroke-width=\"12\" fill=\"transparent\"></rect><text x=\"60.0\" y=\"20\" fill=\"transparent\" stroke=\"transparent\" font-size=\"30px\">2</text></g><g class=\"vert-line\"><rect x=\"95.0\" y=\"0\" width=\"20\" height=\"130\" stroke=\"transparent\" stroke-width=\"12\" fill=\"transparent\"></rect><text x=\"115.0\" y=\"20\" fill=\"transparent\" stroke=\"transparent\" font-size=\"30px\">0</text></g><g class=\"vert-line\"><rect x=\"150.0\" y=\"0\" width=\"20\" height=\"130\" stroke=\"transparent\" stroke-width=\"12\" fill=\"transparent\"></rect><text x=\"170.0\" y=\"20\" fill=\"transparent\" stroke=\"transparent\" font-size=\"30px\">15</text></g><g class=\"vert-line\"><rect x=\"205.00000000000003\" y=\"0\" width=\"20\" height=\"130\" stroke=\"transparent\" stroke-width=\"12\" fill=\"transparent\"></rect><text x=\"225.00000000000003\" y=\"20\" fill=\"transparent\" stroke=\"transparent\" font-size=\"30px\">7</text></g><g class=\"vert-line\"><rect x=\"260.0\" y=\"0\" width=\"20\" height=\"130\" stroke=\"transparent\" stroke-width=\"12\" fill=\"transparent\"></rect><text x=\"280.0\" y=\"20\" fill=\"transparent\" stroke=\"transparent\" font-size=\"30px\">8</text></g><g class=\"vert-line\"><rect x=\"315.0\" y=\"0\" width=\"20\" height=\"130\" stroke=\"transparent\" stroke-width=\"12\" fill=\"transparent\"></rect><text x=\"335.0\" y=\"20\" fill=\"transparent\" stroke=\"transparent\" font-size=\"30px\">10</text></g><g class=\"vert-line\"><rect x=\"370.00000000000006\" y=\"0\" width=\"20\" height=\"130\" stroke=\"transparent\" stroke-width=\"12\" fill=\"transparent\"></rect><text x=\"390.00000000000006\" y=\"20\" fill=\"transparent\" stroke=\"transparent\" font-size=\"30px\">1</text></g><g class=\"vert-line\"><rect x=\"425.00000000000006\" y=\"0\" width=\"20\" height=\"130\" stroke=\"transparent\" stroke-width=\"12\" fill=\"transparent\"></rect><text x=\"445.00000000000006\" y=\"20\" fill=\"transparent\" stroke=\"transparent\" font-size=\"30px\">24</text></g><g class=\"vert-line\"><rect x=\"480.0\" y=\"0\" width=\"20\" height=\"130\" stroke=\"transparent\" stroke-width=\"12\" fill=\"transparent\"></rect><text x=\"500.0\" y=\"20\" fill=\"transparent\" stroke=\"transparent\" font-size=\"30px\">17</text></g><g class=\"vert-line\"><rect x=\"535.0\" y=\"0\" width=\"20\" height=\"130\" stroke=\"transparent\" stroke-width=\"12\" fill=\"transparent\"></rect><text x=\"555.0\" y=\"20\" fill=\"transparent\" stroke=\"transparent\" font-size=\"30px\">13</text></g><g class=\"vert-line\"><rect x=\"590.0\" y=\"0\" width=\"20\" height=\"130\" stroke=\"transparent\" stroke-width=\"12\" fill=\"transparent\"></rect><text x=\"610.0\" y=\"20\" fill=\"transparent\" stroke=\"transparent\" font-size=\"30px\">6</text></g></svg></div></td>\n",
       "  </tr>\n",
       "</tbody>\n",
       "\n",
       "\n",
       "</table>\n",
       "\n",
       "</div>\n",
       "        "
      ],
      "text/plain": [
       "GT(_tbl_data=shape: (4, 2)\n",
       "┌─────────┬─────────────────────────────────┐\n",
       "│ example ┆ numbers                         │\n",
       "│ ---     ┆ ---                             │\n",
       "│ str     ┆ str                             │\n",
       "╞═════════╪═════════════════════════════════╡\n",
       "│ Row 1   ┆ 20 23 6 7 37 23 21 4 7 16       │\n",
       "│ Row 2   ┆ 2.3 6.8 9.2 2.42 3.5 12.1 5.3 … │\n",
       "│ Row 3   ┆ -12 -5 6 3.7 0 8 -7.4           │\n",
       "│ Row 4   ┆ 2 0 15 7 8 10 1 24 17 13 6      │\n",
       "└─────────┴─────────────────────────────────┘, _body=<great_tables._gt_data.Body object at 0x000001EF699A7710>, _boxhead=Boxhead([ColInfo(var='example', type=<ColInfoTypeEnum.default: 1>, column_label='example', column_align='left', column_width=None), ColInfo(var='numbers', type=<ColInfoTypeEnum.default: 1>, column_label='numbers', column_align='left', column_width=None)]), _stub=<great_tables._gt_data.Stub object at 0x000001EF699BB740>, _spanners=Spanners([]), _heading=Heading(title=None, subtitle=None, preheader=None), _stubhead=None, _source_notes=[], _footnotes=[], _styles=[], _locale=<great_tables._gt_data.Locale object at 0x000001EF699BB6E0>, _formats=[<great_tables._gt_data.FormatInfo object at 0x000001EF699F2990>], _substitutions=[], _options=Options(table_id=OptionsInfo(scss=False, category='table', type='value', value=None), table_caption=OptionsInfo(scss=False, category='table', type='value', value=None), table_width=OptionsInfo(scss=True, category='table', type='px', value='auto'), table_layout=OptionsInfo(scss=True, category='table', type='value', value='fixed'), table_margin_left=OptionsInfo(scss=True, category='table', type='px', value='auto'), table_margin_right=OptionsInfo(scss=True, category='table', type='px', value='auto'), table_background_color=OptionsInfo(scss=True, category='table', type='value', value='#FFFFFF'), table_additional_css=OptionsInfo(scss=False, category='table', type='values', value=[]), table_font_names=OptionsInfo(scss=False, category='table', type='values', value=['-apple-system', 'BlinkMacSystemFont', 'Segoe UI', 'Roboto', 'Oxygen', 'Ubuntu', 'Cantarell', 'Helvetica Neue', 'Fira Sans', 'Droid Sans', 'Arial', 'sans-serif']), table_font_size=OptionsInfo(scss=True, category='table', type='px', value='16px'), table_font_weight=OptionsInfo(scss=True, category='table', type='value', value='normal'), table_font_style=OptionsInfo(scss=True, category='table', type='value', value='normal'), table_font_color=OptionsInfo(scss=True, category='table', type='value', value='#333333'), table_font_color_light=OptionsInfo(scss=True, category='table', type='value', value='#FFFFFF'), table_border_top_include=OptionsInfo(scss=False, category='table', type='boolean', value=True), table_border_top_style=OptionsInfo(scss=True, category='table', type='value', value='solid'), table_border_top_width=OptionsInfo(scss=True, category='table', type='px', value='2px'), table_border_top_color=OptionsInfo(scss=True, category='table', type='value', value='#A8A8A8'), table_border_right_style=OptionsInfo(scss=True, category='table', type='value', value='none'), table_border_right_width=OptionsInfo(scss=True, category='table', type='px', value='2px'), table_border_right_color=OptionsInfo(scss=True, category='table', type='value', value='#D3D3D3'), table_border_bottom_include=OptionsInfo(scss=False, category='table', type='boolean', value=True), table_border_bottom_style=OptionsInfo(scss=True, category='table', type='value', value='solid'), table_border_bottom_width=OptionsInfo(scss=True, category='table', type='px', value='2px'), table_border_bottom_color=OptionsInfo(scss=True, category='table', type='value', value='#A8A8A8'), table_border_left_style=OptionsInfo(scss=True, category='table', type='value', value='none'), table_border_left_width=OptionsInfo(scss=True, category='table', type='px', value='2px'), table_border_left_color=OptionsInfo(scss=True, category='table', type='value', value='#D3D3D3'), heading_background_color=OptionsInfo(scss=True, category='heading', type='value', value=None), heading_align=OptionsInfo(scss=True, category='heading', type='value', value='center'), heading_title_font_size=OptionsInfo(scss=True, category='heading', type='px', value='125%'), heading_title_font_weight=OptionsInfo(scss=True, category='heading', type='value', value='initial'), heading_subtitle_font_size=OptionsInfo(scss=True, category='heading', type='px', value='85%'), heading_subtitle_font_weight=OptionsInfo(scss=True, category='heading', type='value', value='initial'), heading_padding=OptionsInfo(scss=True, category='heading', type='px', value='4px'), heading_padding_horizontal=OptionsInfo(scss=True, category='heading', type='px', value='5px'), heading_border_bottom_style=OptionsInfo(scss=True, category='heading', type='value', value='solid'), heading_border_bottom_width=OptionsInfo(scss=True, category='heading', type='px', value='2px'), heading_border_bottom_color=OptionsInfo(scss=True, category='heading', type='value', value='#D3D3D3'), heading_border_lr_style=OptionsInfo(scss=True, category='heading', type='value', value='none'), heading_border_lr_width=OptionsInfo(scss=True, category='heading', type='px', value='1px'), heading_border_lr_color=OptionsInfo(scss=True, category='heading', type='value', value='#D3D3D3'), column_labels_background_color=OptionsInfo(scss=True, category='column_labels', type='value', value=None), column_labels_font_size=OptionsInfo(scss=True, category='column_labels', type='px', value='100%'), column_labels_font_weight=OptionsInfo(scss=True, category='column_labels', type='value', value='normal'), column_labels_text_transform=OptionsInfo(scss=True, category='column_labels', type='value', value='inherit'), column_labels_padding=OptionsInfo(scss=True, category='column_labels', type='px', value='5px'), column_labels_padding_horizontal=OptionsInfo(scss=True, category='column_labels', type='px', value='5px'), column_labels_vlines_style=OptionsInfo(scss=True, category='table_body', type='value', value='none'), column_labels_vlines_width=OptionsInfo(scss=True, category='table_body', type='px', value='1px'), column_labels_vlines_color=OptionsInfo(scss=True, category='table_body', type='value', value='#D3D3D3'), column_labels_border_top_style=OptionsInfo(scss=True, category='column_labels', type='value', value='solid'), column_labels_border_top_width=OptionsInfo(scss=True, category='column_labels', type='px', value='2px'), column_labels_border_top_color=OptionsInfo(scss=True, category='column_labels', type='value', value='#D3D3D3'), column_labels_border_bottom_style=OptionsInfo(scss=True, category='column_labels', type='value', value='solid'), column_labels_border_bottom_width=OptionsInfo(scss=True, category='column_labels', type='px', value='2px'), column_labels_border_bottom_color=OptionsInfo(scss=True, category='column_labels', type='value', value='#D3D3D3'), column_labels_border_lr_style=OptionsInfo(scss=True, category='column_labels', type='value', value='none'), column_labels_border_lr_width=OptionsInfo(scss=True, category='column_labels', type='px', value='1px'), column_labels_border_lr_color=OptionsInfo(scss=True, category='column_labels', type='value', value='#D3D3D3'), column_labels_hidden=OptionsInfo(scss=False, category='column_labels', type='boolean', value=False), row_group_background_color=OptionsInfo(scss=True, category='row_group', type='value', value=None), row_group_font_size=OptionsInfo(scss=True, category='row_group', type='px', value='100%'), row_group_font_weight=OptionsInfo(scss=True, category='row_group', type='value', value='initial'), row_group_text_transform=OptionsInfo(scss=True, category='row_group', type='value', value='inherit'), row_group_padding=OptionsInfo(scss=True, category='row_group', type='px', value='8px'), row_group_padding_horizontal=OptionsInfo(scss=True, category='row_group', type='px', value='5px'), row_group_border_top_style=OptionsInfo(scss=True, category='row_group', type='value', value='solid'), row_group_border_top_width=OptionsInfo(scss=True, category='row_group', type='px', value='2px'), row_group_border_top_color=OptionsInfo(scss=True, category='row_group', type='value', value='#D3D3D3'), row_group_border_right_style=OptionsInfo(scss=True, category='row_group', type='value', value='none'), row_group_border_right_width=OptionsInfo(scss=True, category='row_group', type='px', value='1px'), row_group_border_right_color=OptionsInfo(scss=True, category='row_group', type='value', value='#D3D3D3'), row_group_border_bottom_style=OptionsInfo(scss=True, category='row_group', type='value', value='solid'), row_group_border_bottom_width=OptionsInfo(scss=True, category='row_group', type='px', value='2px'), row_group_border_bottom_color=OptionsInfo(scss=True, category='row_group', type='value', value='#D3D3D3'), row_group_border_left_style=OptionsInfo(scss=True, category='row_group', type='value', value='none'), row_group_border_left_width=OptionsInfo(scss=True, category='row_group', type='px', value='1px'), row_group_border_left_color=OptionsInfo(scss=True, category='row_group', type='value', value='#D3D3D3'), row_group_as_column=OptionsInfo(scss=False, category='row_group', type='boolean', value=False), table_body_hlines_style=OptionsInfo(scss=True, category='table_body', type='value', value='solid'), table_body_hlines_width=OptionsInfo(scss=True, category='table_body', type='px', value='1px'), table_body_hlines_color=OptionsInfo(scss=True, category='table_body', type='value', value='#D3D3D3'), table_body_vlines_style=OptionsInfo(scss=True, category='table_body', type='value', value='none'), table_body_vlines_width=OptionsInfo(scss=True, category='table_body', type='px', value='1px'), table_body_vlines_color=OptionsInfo(scss=True, category='table_body', type='value', value='#D3D3D3'), table_body_border_top_style=OptionsInfo(scss=True, category='table_body', type='value', value='solid'), table_body_border_top_width=OptionsInfo(scss=True, category='table_body', type='px', value='2px'), table_body_border_top_color=OptionsInfo(scss=True, category='table_body', type='value', value='#D3D3D3'), table_body_border_bottom_style=OptionsInfo(scss=True, category='table_body', type='value', value='solid'), table_body_border_bottom_width=OptionsInfo(scss=True, category='table_body', type='px', value='2px'), table_body_border_bottom_color=OptionsInfo(scss=True, category='table_body', type='value', value='#D3D3D3'), data_row_padding=OptionsInfo(scss=True, category='data_row', type='px', value='8px'), data_row_padding_horizontal=OptionsInfo(scss=True, category='data_row', type='px', value='5px'), stub_background_color=OptionsInfo(scss=True, category='stub', type='value', value=None), stub_font_size=OptionsInfo(scss=True, category='stub', type='px', value='100%'), stub_font_weight=OptionsInfo(scss=True, category='stub', type='value', value='initial'), stub_text_transform=OptionsInfo(scss=True, category='stub', type='value', value='inherit'), stub_border_style=OptionsInfo(scss=True, category='stub', type='value', value='solid'), stub_border_width=OptionsInfo(scss=True, category='stub', type='px', value='2px'), stub_border_color=OptionsInfo(scss=True, category='stub', type='value', value='#D3D3D3'), stub_row_group_background_color=OptionsInfo(scss=True, category='stub', type='value', value=None), stub_row_group_font_size=OptionsInfo(scss=True, category='stub', type='px', value='100%'), stub_row_group_font_weight=OptionsInfo(scss=True, category='stub', type='value', value='initial'), stub_row_group_text_transform=OptionsInfo(scss=True, category='stub', type='value', value='inherit'), stub_row_group_border_style=OptionsInfo(scss=True, category='stub', type='value', value='solid'), stub_row_group_border_width=OptionsInfo(scss=True, category='stub', type='px', value='2px'), stub_row_group_border_color=OptionsInfo(scss=True, category='stub', type='value', value='#D3D3D3'), source_notes_padding=OptionsInfo(scss=True, category='source_notes', type='px', value='4px'), source_notes_padding_horizontal=OptionsInfo(scss=True, category='source_notes', type='px', value='5px'), source_notes_background_color=OptionsInfo(scss=True, category='source_notes', type='value', value=None), source_notes_font_size=OptionsInfo(scss=True, category='source_notes', type='px', value='90%'), source_notes_border_bottom_style=OptionsInfo(scss=True, category='source_notes', type='value', value='none'), source_notes_border_bottom_width=OptionsInfo(scss=True, category='source_notes', type='px', value='2px'), source_notes_border_bottom_color=OptionsInfo(scss=True, category='source_notes', type='value', value='#D3D3D3'), source_notes_border_lr_style=OptionsInfo(scss=True, category='source_notes', type='value', value='none'), source_notes_border_lr_width=OptionsInfo(scss=True, category='source_notes', type='px', value='2px'), source_notes_border_lr_color=OptionsInfo(scss=True, category='source_notes', type='value', value='#D3D3D3'), source_notes_multiline=OptionsInfo(scss=False, category='source_notes', type='boolean', value=True), source_notes_sep=OptionsInfo(scss=False, category='source_notes', type='value', value=' '), row_striping_background_color=OptionsInfo(scss=True, category='row', type='value', value='rgba(128,128,128,0.05)'), row_striping_include_stub=OptionsInfo(scss=False, category='row', type='boolean', value=False), row_striping_include_table_body=OptionsInfo(scss=False, category='row', type='boolean', value=False), container_width=OptionsInfo(scss=False, category='container', type='px', value='auto'), container_height=OptionsInfo(scss=False, category='container', type='px', value='auto'), container_padding_x=OptionsInfo(scss=False, category='container', type='px', value='0px'), container_padding_y=OptionsInfo(scss=False, category='container', type='px', value='10px'), container_overflow_x=OptionsInfo(scss=False, category='container', type='overflow', value='auto'), container_overflow_y=OptionsInfo(scss=False, category='container', type='overflow', value='auto'), quarto_disable_processing=OptionsInfo(scss=False, category='quarto', type='logical', value=False), quarto_use_bootstrap=OptionsInfo(scss=False, category='quarto', type='logical', value=False)), _has_built=False)"
      ]
     },
     "execution_count": 20,
     "metadata": {},
     "output_type": "execute_result"
    }
   ],
   "source": [
    "# JUST TESTING - NOT  MY CODE - JUST NEEDED NUMERIC DATA\n",
    "random_numbers_df = pl.DataFrame(\n",
    "    {\n",
    "        \"example\": [\"Row \" + str(x) for x in range(1, 5)],\n",
    "        \"numbers\": [\n",
    "            \"20 23 6 7 37 23 21 4 7 16\",\n",
    "            \"2.3 6.8 9.2 2.42 3.5 12.1 5.3 3.6 7.2 3.74\",\n",
    "            \"-12 -5 6 3.7 0 8 -7.4\",\n",
    "            \"2 0 15 7 8 10 1 24 17 13 6\",\n",
    "        ],\n",
    "    }\n",
    ")\n",
    "\n",
    "GT(random_numbers_df).fmt_nanoplot(columns=\"numbers\")"
   ]
  },
  {
   "cell_type": "code",
   "execution_count": 21,
   "metadata": {},
   "outputs": [
    {
     "data": {
      "text/html": [
       "<div>\n",
       "<style scoped>\n",
       "    .dataframe tbody tr th:only-of-type {\n",
       "        vertical-align: middle;\n",
       "    }\n",
       "\n",
       "    .dataframe tbody tr th {\n",
       "        vertical-align: top;\n",
       "    }\n",
       "\n",
       "    .dataframe thead th {\n",
       "        text-align: right;\n",
       "    }\n",
       "</style>\n",
       "<table border=\"1\" class=\"dataframe\">\n",
       "  <thead>\n",
       "    <tr style=\"text-align: right;\">\n",
       "      <th></th>\n",
       "      <th>id</th>\n",
       "      <th>date</th>\n",
       "      <th>time</th>\n",
       "      <th>name</th>\n",
       "      <th>size</th>\n",
       "      <th>type</th>\n",
       "      <th>price</th>\n",
       "    </tr>\n",
       "  </thead>\n",
       "  <tbody>\n",
       "    <tr>\n",
       "      <th>0</th>\n",
       "      <td>2015-000001</td>\n",
       "      <td>2015-01-01</td>\n",
       "      <td>11:38:36</td>\n",
       "      <td>hawaiian</td>\n",
       "      <td>M</td>\n",
       "      <td>classic</td>\n",
       "      <td>13.25</td>\n",
       "    </tr>\n",
       "    <tr>\n",
       "      <th>1</th>\n",
       "      <td>2015-000002</td>\n",
       "      <td>2015-01-01</td>\n",
       "      <td>11:57:40</td>\n",
       "      <td>classic_dlx</td>\n",
       "      <td>M</td>\n",
       "      <td>classic</td>\n",
       "      <td>16.00</td>\n",
       "    </tr>\n",
       "    <tr>\n",
       "      <th>2</th>\n",
       "      <td>2015-000002</td>\n",
       "      <td>2015-01-01</td>\n",
       "      <td>11:57:40</td>\n",
       "      <td>mexicana</td>\n",
       "      <td>M</td>\n",
       "      <td>veggie</td>\n",
       "      <td>16.00</td>\n",
       "    </tr>\n",
       "    <tr>\n",
       "      <th>3</th>\n",
       "      <td>2015-000002</td>\n",
       "      <td>2015-01-01</td>\n",
       "      <td>11:57:40</td>\n",
       "      <td>thai_ckn</td>\n",
       "      <td>L</td>\n",
       "      <td>chicken</td>\n",
       "      <td>20.75</td>\n",
       "    </tr>\n",
       "    <tr>\n",
       "      <th>4</th>\n",
       "      <td>2015-000002</td>\n",
       "      <td>2015-01-01</td>\n",
       "      <td>11:57:40</td>\n",
       "      <td>five_cheese</td>\n",
       "      <td>L</td>\n",
       "      <td>veggie</td>\n",
       "      <td>18.50</td>\n",
       "    </tr>\n",
       "  </tbody>\n",
       "</table>\n",
       "</div>"
      ],
      "text/plain": [
       "            id        date      time         name size     type  price\n",
       "0  2015-000001  2015-01-01  11:38:36     hawaiian    M  classic  13.25\n",
       "1  2015-000002  2015-01-01  11:57:40  classic_dlx    M  classic  16.00\n",
       "2  2015-000002  2015-01-01  11:57:40     mexicana    M   veggie  16.00\n",
       "3  2015-000002  2015-01-01  11:57:40     thai_ckn    L  chicken  20.75\n",
       "4  2015-000002  2015-01-01  11:57:40  five_cheese    L   veggie  18.50"
      ]
     },
     "execution_count": 21,
     "metadata": {},
     "output_type": "execute_result"
    }
   ],
   "source": [
    "# Let's recall our pizza df\n",
    "\n",
    "df_pizza_mini.head(5)"
   ]
  },
  {
   "cell_type": "code",
   "execution_count": 22,
   "metadata": {},
   "outputs": [],
   "source": [
    "# translate the df earlier\n",
    "# Analyze the data however we want\n",
    "summary = df_pizza_mini.groupby([\"name\"])[\"price\"].sum()\n",
    "total_revenue = df_pizza_mini[\"price\"].sum()"
   ]
  },
  {
   "cell_type": "code",
   "execution_count": 42,
   "metadata": {},
   "outputs": [
    {
     "data": {
      "text/html": [
       "<div>\n",
       "<style scoped>\n",
       "    .dataframe tbody tr th:only-of-type {\n",
       "        vertical-align: middle;\n",
       "    }\n",
       "\n",
       "    .dataframe tbody tr th {\n",
       "        vertical-align: top;\n",
       "    }\n",
       "\n",
       "    .dataframe thead th {\n",
       "        text-align: right;\n",
       "    }\n",
       "</style>\n",
       "<table border=\"1\" class=\"dataframe\">\n",
       "  <thead>\n",
       "    <tr style=\"text-align: right;\">\n",
       "      <th></th>\n",
       "      <th>start_date</th>\n",
       "      <th>end_date</th>\n",
       "      <th>date</th>\n",
       "      <th>time</th>\n",
       "      <th>name</th>\n",
       "      <th>size</th>\n",
       "      <th>type</th>\n",
       "      <th>price</th>\n",
       "    </tr>\n",
       "    <tr>\n",
       "      <th>id</th>\n",
       "      <th></th>\n",
       "      <th></th>\n",
       "      <th></th>\n",
       "      <th></th>\n",
       "      <th></th>\n",
       "      <th></th>\n",
       "      <th></th>\n",
       "      <th></th>\n",
       "    </tr>\n",
       "  </thead>\n",
       "  <tbody>\n",
       "    <tr>\n",
       "      <th>2015-000001</th>\n",
       "      <td>2015-01-01</td>\n",
       "      <td>2015-01-31</td>\n",
       "      <td>2015-01-01</td>\n",
       "      <td>0.485139</td>\n",
       "      <td>hawaiian</td>\n",
       "      <td>M</td>\n",
       "      <td>classic</td>\n",
       "      <td>13.25</td>\n",
       "    </tr>\n",
       "    <tr>\n",
       "      <th>2015-000002</th>\n",
       "      <td>2015-01-01</td>\n",
       "      <td>2015-01-31</td>\n",
       "      <td>2015-01-01</td>\n",
       "      <td>0.498380</td>\n",
       "      <td>classic_dlx</td>\n",
       "      <td>M</td>\n",
       "      <td>classic</td>\n",
       "      <td>16.00</td>\n",
       "    </tr>\n",
       "    <tr>\n",
       "      <th>2015-000002</th>\n",
       "      <td>2015-01-01</td>\n",
       "      <td>2015-01-31</td>\n",
       "      <td>2015-01-01</td>\n",
       "      <td>0.498380</td>\n",
       "      <td>mexicana</td>\n",
       "      <td>M</td>\n",
       "      <td>veggie</td>\n",
       "      <td>16.00</td>\n",
       "    </tr>\n",
       "    <tr>\n",
       "      <th>2015-000002</th>\n",
       "      <td>2015-01-01</td>\n",
       "      <td>2015-01-31</td>\n",
       "      <td>2015-01-01</td>\n",
       "      <td>0.498380</td>\n",
       "      <td>thai_ckn</td>\n",
       "      <td>L</td>\n",
       "      <td>chicken</td>\n",
       "      <td>20.75</td>\n",
       "    </tr>\n",
       "    <tr>\n",
       "      <th>2015-000002</th>\n",
       "      <td>2015-01-01</td>\n",
       "      <td>2015-01-31</td>\n",
       "      <td>2015-01-01</td>\n",
       "      <td>0.498380</td>\n",
       "      <td>five_cheese</td>\n",
       "      <td>L</td>\n",
       "      <td>veggie</td>\n",
       "      <td>18.50</td>\n",
       "    </tr>\n",
       "    <tr>\n",
       "      <th>...</th>\n",
       "      <td>...</td>\n",
       "      <td>...</td>\n",
       "      <td>...</td>\n",
       "      <td>...</td>\n",
       "      <td>...</td>\n",
       "      <td>...</td>\n",
       "      <td>...</td>\n",
       "      <td>...</td>\n",
       "    </tr>\n",
       "    <tr>\n",
       "      <th>2015-000048</th>\n",
       "      <td>2015-01-01</td>\n",
       "      <td>2015-06-01</td>\n",
       "      <td>2015-01-01</td>\n",
       "      <td>0.768542</td>\n",
       "      <td>spicy_ital</td>\n",
       "      <td>L</td>\n",
       "      <td>supreme</td>\n",
       "      <td>20.75</td>\n",
       "    </tr>\n",
       "    <tr>\n",
       "      <th>2015-000048</th>\n",
       "      <td>2015-01-01</td>\n",
       "      <td>2015-06-01</td>\n",
       "      <td>2015-01-01</td>\n",
       "      <td>0.768542</td>\n",
       "      <td>green_garden</td>\n",
       "      <td>S</td>\n",
       "      <td>veggie</td>\n",
       "      <td>12.00</td>\n",
       "    </tr>\n",
       "    <tr>\n",
       "      <th>2015-000048</th>\n",
       "      <td>2015-01-01</td>\n",
       "      <td>2015-06-01</td>\n",
       "      <td>2015-01-01</td>\n",
       "      <td>0.768542</td>\n",
       "      <td>ckn_pesto</td>\n",
       "      <td>M</td>\n",
       "      <td>chicken</td>\n",
       "      <td>16.75</td>\n",
       "    </tr>\n",
       "    <tr>\n",
       "      <th>2015-000049</th>\n",
       "      <td>2015-01-01</td>\n",
       "      <td>2015-06-01</td>\n",
       "      <td>2015-01-01</td>\n",
       "      <td>0.772917</td>\n",
       "      <td>sicilian</td>\n",
       "      <td>L</td>\n",
       "      <td>supreme</td>\n",
       "      <td>20.25</td>\n",
       "    </tr>\n",
       "    <tr>\n",
       "      <th>2015-000050</th>\n",
       "      <td>2015-01-01</td>\n",
       "      <td>2015-06-01</td>\n",
       "      <td>2015-01-01</td>\n",
       "      <td>0.778484</td>\n",
       "      <td>the_greek</td>\n",
       "      <td>XL</td>\n",
       "      <td>classic</td>\n",
       "      <td>25.50</td>\n",
       "    </tr>\n",
       "  </tbody>\n",
       "</table>\n",
       "<p>123 rows × 8 columns</p>\n",
       "</div>"
      ],
      "text/plain": [
       "            start_date   end_date       date      time          name size  \\\n",
       "id                                                                          \n",
       "2015-000001 2015-01-01 2015-01-31 2015-01-01  0.485139      hawaiian    M   \n",
       "2015-000002 2015-01-01 2015-01-31 2015-01-01  0.498380   classic_dlx    M   \n",
       "2015-000002 2015-01-01 2015-01-31 2015-01-01  0.498380      mexicana    M   \n",
       "2015-000002 2015-01-01 2015-01-31 2015-01-01  0.498380      thai_ckn    L   \n",
       "2015-000002 2015-01-01 2015-01-31 2015-01-01  0.498380   five_cheese    L   \n",
       "...                ...        ...        ...       ...           ...  ...   \n",
       "2015-000048 2015-01-01 2015-06-01 2015-01-01  0.768542    spicy_ital    L   \n",
       "2015-000048 2015-01-01 2015-06-01 2015-01-01  0.768542  green_garden    S   \n",
       "2015-000048 2015-01-01 2015-06-01 2015-01-01  0.768542     ckn_pesto    M   \n",
       "2015-000049 2015-01-01 2015-06-01 2015-01-01  0.772917      sicilian    L   \n",
       "2015-000050 2015-01-01 2015-06-01 2015-01-01  0.778484     the_greek   XL   \n",
       "\n",
       "                type  price  \n",
       "id                           \n",
       "2015-000001  classic  13.25  \n",
       "2015-000002  classic  16.00  \n",
       "2015-000002   veggie  16.00  \n",
       "2015-000002  chicken  20.75  \n",
       "2015-000002   veggie  18.50  \n",
       "...              ...    ...  \n",
       "2015-000048  supreme  20.75  \n",
       "2015-000048   veggie  12.00  \n",
       "2015-000048  chicken  16.75  \n",
       "2015-000049  supreme  20.25  \n",
       "2015-000050  classic  25.50  \n",
       "\n",
       "[123 rows x 8 columns]"
      ]
     },
     "execution_count": 42,
     "metadata": {},
     "output_type": "execute_result"
    }
   ],
   "source": [
    "# Using the Load function on your dataframe and Excel sheet\n",
    "\n",
    "# Read in another great table datset: exibble\n",
    "# import the \n",
    "import xlwings as xw\n",
    "from xlwings import load\n",
    "load()"
   ]
  },
  {
   "cell_type": "markdown",
   "metadata": {},
   "source": [
    "I realized I needed to downoad VS Code because xlwings looks for a .py file although I could work with in in Jupyter NB too.\n",
    "\n",
    "I also need to down"
   ]
  },
  {
   "cell_type": "markdown",
   "metadata": {},
   "source": [
    "Back to PBPython tutorial, let's review the folder and files I generated from the command line. This is what the Excel template file looks like:\n",
    "\n",
    "***screenshot here\n",
    "\n",
    "Chris had 2 modules: Module 1 and xlwings and mentions to leave xlwings module alone unless there issues in deployment. I only had Module 1 and then a refernce to xlwings along with a tab with xlwings config- this may have changed since his article from 2020. We shall see ;) Modue 1 is where I'll make changes to use code to call python.  I'll create my input fields in Excel first. For my app, I'm going to give the user the ability to enter a fund, account #, start date and end date which will extract the ?? date based on their inputs.\n",
    "\n",
    "Here's my spreadsheet:\n",
    "\n",
    "** pic of excel\n",
    "\n",
    "Now I'll return to my notebook here to entermy python code. I'll start with the function to retreive the code???"
   ]
  },
  {
   "cell_type": "code",
   "execution_count": null,
   "metadata": {},
   "outputs": [],
   "source": [
    "# import additional xlwing packages\n",
    "\n",
    "from xlwings import Workbook, Range\n",
    "\n",
    "# define my function\n",
    "def summarize_trans_history():\n",
    "    \"\"\"\n",
    "    Retrieve the fund and account numbers and date ranges from the Excel sheet\n",
    "    \"\"\"\n",
    "    # Make a connection to the calling Excel file\n",
    "    wb = Workbook.caller()\n",
    "\n",
    "    # Retrieve the fund and account numbers along with dates - check cells correspond to correct location of entry\n",
    "    fund = Range('B3').value\n",
    "    type = Range('D3').value\n",
    "    start_date = Range('F3').value\n",
    "    end_date = Range('H3').value\n",
    "\n",
    "    # Output the data with default values to confirm my code is working\n",
    "    Range('A4').value = fund\n",
    "    Range('A5').value = account\n",
    "    Range('A6').value = start_date\n",
    "    Range('A7').value = end_date\n"
   ]
  },
  {
   "cell_type": "markdown",
   "metadata": {},
   "source": [
    "I noticed that Chris used a sqqLite database to retreive his data. I was hoping to connect to my MS Access db or SQL developer database but SQL developer and MS Access aren't directly supported by xlwings; I'd have to create an API and due to security issues using my work databases, I realized this wouldn't work. As a result, my solution was to also use SQLite: https://sqlite.org/about.html. xlwings website https://docs.xlwings.org/en/latest/ notes this if using SQLite:\n",
    "\n",
    "<I>Use an SQLite database that you download from a network location. Note that this requires to add sqlite3 to requirements.txt.\n",
    "\n",
    "I pip installed sqlalchemy (you can also conda install), read the documentation on it, made sure I had the latest version, followed the beginner tutorial, and went back to my project. Sqlalchemy's instructions recommend assigning 'memory' as the engine initally to test things out - that's where I'll start. I also installed SQLite on my PC (it's pre-installed on my Mac but I'm working in my PC for this section) - this site was helpful https://www.navicat.com/en/company/aboutus/blog/2397-getting-started-with-sqlite.html.  and set up a local database with that. "
   ]
  },
  {
   "cell_type": "code",
   "execution_count": 26,
   "metadata": {},
   "outputs": [
    {
     "data": {
      "text/plain": [
       "'2.0.41'"
      ]
     },
     "execution_count": 26,
     "metadata": {},
     "output_type": "execute_result"
    }
   ],
   "source": [
    "import sqlalchemy\n",
    "sqlalchemy.__version__"
   ]
  },
  {
   "cell_type": "code",
   "execution_count": 44,
   "metadata": {},
   "outputs": [],
   "source": [
    "from sqlalchemy import create_engine\n",
    "#engine = create_engine(\"sqlite+pysqlite:///:memory:\", echo=True)"
   ]
  },
  {
   "cell_type": "code",
   "execution_count": 28,
   "metadata": {},
   "outputs": [
    {
     "name": "stdout",
     "output_type": "stream",
     "text": [
      "C:\\Users\\jurbano\\data_viz\\notebooks\\input\n"
     ]
    }
   ],
   "source": [
    "import os\n",
    "os =  os.getcwd()\n",
    "print(os)"
   ]
  },
  {
   "cell_type": "code",
   "execution_count": 33,
   "metadata": {},
   "outputs": [],
   "source": [
    "from pathlib import Path\n"
   ]
  },
  {
   "cell_type": "code",
   "execution_count": 99,
   "metadata": {},
   "outputs": [],
   "source": [
    "# TRY THIS LATER ONCE figure out SQlite\n",
    "# This is PBPython's code - not sure I can use this until I have an engine it can tap into. I might have to use a file \n",
    "from sqlalchemy import create_engine\n",
    "os = Path.cwd() / 'data'\n",
    "\n",
    "\n",
    "filename= 'pizza2.db'\n",
    "#pathlib.Path(mydir) / myfile\n",
    "#from pathlib import Path\n",
    "os = 'C:/Users/jurbano/data_viz/notebooks/input'\n",
    "#'C:/mydir'\n",
    "\n",
    "#from sqlalchemy import create_engine\n",
    "#db_file = os.path.join(os.path.dirname(wb.fullname), filename)\n",
    "#engine = create_engine(\"sqlite+pysqlite:///:memory:\", echo=True)\n",
    "#engine = create_engine(r\"access+pyodbc:///{}\".format(db_file))\n",
    "\n",
    "# Connect to sqlite db\n",
    "db_file = Path.cwd().joinpath(os).joinpath(filename)\n",
    "engine = create_engine(r\"sqlite:///{}\".format(db_file))"
   ]
  },
  {
   "cell_type": "code",
   "execution_count": 97,
   "metadata": {},
   "outputs": [
    {
     "data": {
      "text/html": [
       "<div>\n",
       "<style scoped>\n",
       "    .dataframe tbody tr th:only-of-type {\n",
       "        vertical-align: middle;\n",
       "    }\n",
       "\n",
       "    .dataframe tbody tr th {\n",
       "        vertical-align: top;\n",
       "    }\n",
       "\n",
       "    .dataframe thead th {\n",
       "        text-align: right;\n",
       "    }\n",
       "</style>\n",
       "<table border=\"1\" class=\"dataframe\">\n",
       "  <thead>\n",
       "    <tr style=\"text-align: right;\">\n",
       "      <th></th>\n",
       "      <th>id</th>\n",
       "      <th>start_date</th>\n",
       "      <th>end_date</th>\n",
       "      <th>date</th>\n",
       "      <th>time</th>\n",
       "      <th>name</th>\n",
       "      <th>size</th>\n",
       "      <th>type</th>\n",
       "      <th>price</th>\n",
       "    </tr>\n",
       "  </thead>\n",
       "  <tbody>\n",
       "    <tr>\n",
       "      <th>0</th>\n",
       "      <td>2015-000001</td>\n",
       "      <td>1/1/2015</td>\n",
       "      <td>2/1/2015</td>\n",
       "      <td>2015-01-01</td>\n",
       "      <td>11:38:36</td>\n",
       "      <td>hawaiian</td>\n",
       "      <td>M</td>\n",
       "      <td>classic</td>\n",
       "      <td>13.25</td>\n",
       "    </tr>\n",
       "    <tr>\n",
       "      <th>1</th>\n",
       "      <td>2015-000002</td>\n",
       "      <td>1/1/2015</td>\n",
       "      <td>2/1/2015</td>\n",
       "      <td>2015-01-01</td>\n",
       "      <td>11:57:40</td>\n",
       "      <td>classic_dlx</td>\n",
       "      <td>M</td>\n",
       "      <td>classic</td>\n",
       "      <td>16.00</td>\n",
       "    </tr>\n",
       "    <tr>\n",
       "      <th>2</th>\n",
       "      <td>2015-000002</td>\n",
       "      <td>1/1/2015</td>\n",
       "      <td>2/1/2015</td>\n",
       "      <td>2015-01-01</td>\n",
       "      <td>11:57:40</td>\n",
       "      <td>mexicana</td>\n",
       "      <td>M</td>\n",
       "      <td>veggie</td>\n",
       "      <td>16.00</td>\n",
       "    </tr>\n",
       "    <tr>\n",
       "      <th>3</th>\n",
       "      <td>2015-000002</td>\n",
       "      <td>1/1/2015</td>\n",
       "      <td>2/1/2015</td>\n",
       "      <td>2015-01-01</td>\n",
       "      <td>11:57:40</td>\n",
       "      <td>thai_ckn</td>\n",
       "      <td>L</td>\n",
       "      <td>chicken</td>\n",
       "      <td>20.75</td>\n",
       "    </tr>\n",
       "    <tr>\n",
       "      <th>4</th>\n",
       "      <td>2015-000002</td>\n",
       "      <td>1/1/2015</td>\n",
       "      <td>2/1/2015</td>\n",
       "      <td>2015-01-01</td>\n",
       "      <td>11:57:40</td>\n",
       "      <td>five_cheese</td>\n",
       "      <td>L</td>\n",
       "      <td>veggie</td>\n",
       "      <td>18.50</td>\n",
       "    </tr>\n",
       "    <tr>\n",
       "      <th>5</th>\n",
       "      <td>2015-000002</td>\n",
       "      <td>1/1/2015</td>\n",
       "      <td>2/1/2015</td>\n",
       "      <td>2015-01-01</td>\n",
       "      <td>11:57:40</td>\n",
       "      <td>ital_supr</td>\n",
       "      <td>L</td>\n",
       "      <td>supreme</td>\n",
       "      <td>20.75</td>\n",
       "    </tr>\n",
       "    <tr>\n",
       "      <th>6</th>\n",
       "      <td>2015-000003</td>\n",
       "      <td>1/1/2015</td>\n",
       "      <td>3/1/2015</td>\n",
       "      <td>2015-01-01</td>\n",
       "      <td>12:12:28</td>\n",
       "      <td>prsc_argla</td>\n",
       "      <td>L</td>\n",
       "      <td>supreme</td>\n",
       "      <td>20.75</td>\n",
       "    </tr>\n",
       "    <tr>\n",
       "      <th>7</th>\n",
       "      <td>2015-000003</td>\n",
       "      <td>1/1/2015</td>\n",
       "      <td>3/1/2015</td>\n",
       "      <td>2015-01-01</td>\n",
       "      <td>12:12:28</td>\n",
       "      <td>ital_supr</td>\n",
       "      <td>M</td>\n",
       "      <td>supreme</td>\n",
       "      <td>16.50</td>\n",
       "    </tr>\n",
       "    <tr>\n",
       "      <th>8</th>\n",
       "      <td>2015-000004</td>\n",
       "      <td>1/1/2015</td>\n",
       "      <td>3/1/2015</td>\n",
       "      <td>2015-01-01</td>\n",
       "      <td>12:16:31</td>\n",
       "      <td>ital_supr</td>\n",
       "      <td>M</td>\n",
       "      <td>supreme</td>\n",
       "      <td>16.50</td>\n",
       "    </tr>\n",
       "    <tr>\n",
       "      <th>9</th>\n",
       "      <td>2015-000005</td>\n",
       "      <td>1/1/2015</td>\n",
       "      <td>3/1/2015</td>\n",
       "      <td>2015-01-01</td>\n",
       "      <td>12:21:30</td>\n",
       "      <td>ital_supr</td>\n",
       "      <td>M</td>\n",
       "      <td>supreme</td>\n",
       "      <td>16.50</td>\n",
       "    </tr>\n",
       "  </tbody>\n",
       "</table>\n",
       "</div>"
      ],
      "text/plain": [
       "            id start_date  end_date        date      time         name size  \\\n",
       "0  2015-000001   1/1/2015  2/1/2015  2015-01-01  11:38:36     hawaiian    M   \n",
       "1  2015-000002   1/1/2015  2/1/2015  2015-01-01  11:57:40  classic_dlx    M   \n",
       "2  2015-000002   1/1/2015  2/1/2015  2015-01-01  11:57:40     mexicana    M   \n",
       "3  2015-000002   1/1/2015  2/1/2015  2015-01-01  11:57:40     thai_ckn    L   \n",
       "4  2015-000002   1/1/2015  2/1/2015  2015-01-01  11:57:40  five_cheese    L   \n",
       "5  2015-000002   1/1/2015  2/1/2015  2015-01-01  11:57:40    ital_supr    L   \n",
       "6  2015-000003   1/1/2015  3/1/2015  2015-01-01  12:12:28   prsc_argla    L   \n",
       "7  2015-000003   1/1/2015  3/1/2015  2015-01-01  12:12:28    ital_supr    M   \n",
       "8  2015-000004   1/1/2015  3/1/2015  2015-01-01  12:16:31    ital_supr    M   \n",
       "9  2015-000005   1/1/2015  3/1/2015  2015-01-01  12:21:30    ital_supr    M   \n",
       "\n",
       "      type  price  \n",
       "0  classic  13.25  \n",
       "1  classic  16.00  \n",
       "2   veggie  16.00  \n",
       "3  chicken  20.75  \n",
       "4   veggie  18.50  \n",
       "5  supreme  20.75  \n",
       "6  supreme  20.75  \n",
       "7  supreme  16.50  \n",
       "8  supreme  16.50  \n",
       "9  supreme  16.50  "
      ]
     },
     "execution_count": 97,
     "metadata": {},
     "output_type": "execute_result"
    }
   ],
   "source": [
    "# Test out Chris's version first I added some start and end dates to my pizza data but that didn't work\n",
    "# Create SQL query\n",
    "#start_date = '1/01/2015'\n",
    "#end_date = '6/01/2015'\n",
    "\n",
    "# Instead, I modified my SQL statement to bring everything because fields in where clause returned 0 records \n",
    "# and I knew there were records from viewing my migrated sqlite db here: https://inloop.github.io/sqlite-viewer/\n",
    "\n",
    "sql = 'SELECT * from pizzaplace2' # WHERE type=\"{}\" AND date BETWEEN \"{}\" AND \"{}\"'.format(type, start_date, end_date)\n",
    "\n",
    "# Read query directly into a dataframe and \n",
    "sales_data = pd.read_sql(sql, engine)\n",
    "\n",
    "# drop last added column added in migration and take a peak at df\n",
    "sales_data.drop(sales_data.columns[9], axis=1).head(10)"
   ]
  },
  {
   "cell_type": "code",
   "execution_count": 89,
   "metadata": {},
   "outputs": [
    {
     "name": "stdout",
     "output_type": "stream",
     "text": [
      "Total sales: $483.00\n"
     ]
    }
   ],
   "source": [
    "# Finally some records!\n",
    "# Now I'm ready to analyze or group the data using my tables fields - I pulled all the fields with my Select * statement\n",
    "summary = sales_data.groupby([\"type\"])[\"price\"].sum()\n",
    "total_sales = sales_data[\"price\"].sum()\n",
    "print(f\"Total sales: ${total_sales:.2f}\")"
   ]
  },
  {
   "cell_type": "markdown",
   "metadata": {},
   "source": [
    "And some results! I have a total sales for all pizza types. Now I'll try to use this in the Excel sheet with some user input. I have some modifications to make there first."
   ]
  },
  {
   "cell_type": "code",
   "execution_count": null,
   "metadata": {},
   "outputs": [],
   "source": []
  },
  {
   "cell_type": "markdown",
   "metadata": {},
   "source": [
    "And now we'll modify our function to bring in user input from our excel file and print it back to the same Excel file."
   ]
  },
  {
   "cell_type": "code",
   "execution_count": 94,
   "metadata": {},
   "outputs": [],
   "source": [
    "# define my function\n",
    "\n",
    "def summarize_sales():\n",
    "    \"\"\"\n",
    "    Retrieve the pizza type and date ranges from the Excel sheet\n",
    "    \"\"\"\n",
    "    # Make a connection to the calling Excel file\n",
    "    wb = Workbook.caller()\n",
    "\n",
    "    # Retrieve the fund and account numbers along with dates - check cells correspond to correct location of entry\n",
    "    #fund = Range('B3').value\n",
    "    type = Range('D3').value\n",
    "    start_date = Range('F3').value\n",
    "    end_date = Range('H3').value\n",
    "\n",
    "    # Output the data with default values to confirm my code is working\n",
    "    #Range('A4').value = fund\n",
    "    Range('A5').value = type\n",
    "    Range('A6').value = start_date\n",
    "    Range('A7').value = end_date\n",
    "\n",
    "    # If retrieving a number from the excel sheet as an int\n",
    "    # id = Range('B2').options(numbers=int).value\n",
    "    # Get our pizza type - maybe make this a drop down in the future??\n",
    "    type = Range('B2').value\n",
    "\n",
    "    # Get our dates - in real life would need to do some error checking to ensure\n",
    "    # the correct format\n",
    "    start_date = Range('D2').value\n",
    "    end_date = Range('F2').value\n",
    "\n",
    "    # Clear existing data\n",
    "    Range('A5:F100').clear_contents()\n",
    "\n",
    "    # Create SQL query\n",
    "    sql = 'SELECT * from pizzaplace2 WHERE type=\"{}\" AND date BETWEEN \"{}\" AND \"{}\"'.format(type, start_date, end_date)\n",
    "\n",
    "    # Read query directly into a dataframe\n",
    "    sales_data = pd.read_sql(sql, engine)\n",
    "\n",
    "    # Analyze the data however we want\n",
    "    summary = sales_data.groupby([\"type\"])[\"price\"].sum()\n",
    "    total_sales = sales_data[\"price\"].sum()\n",
    "\n",
    "    # Output the results\n",
    "    if summary.empty:\n",
    "        Range('A5').value = \"No Data for pizza type {}\".format(type)\n",
    "    else:\n",
    "        Range('A5').options(index=True).value = summary\n",
    "        Range('E5').value = \"Total Sales\"\n",
    "        Range('F5').value = total_sales"
   ]
  },
  {
   "cell_type": "code",
   "execution_count": 69,
   "metadata": {},
   "outputs": [],
   "source": [
    "app = xw.apps.add()\n",
    "wb = xw.Book()     \n",
    "wb.close()\n",
    "app.quit()"
   ]
  },
  {
   "cell_type": "code",
   "execution_count": 95,
   "metadata": {},
   "outputs": [
    {
     "name": "stdout",
     "output_type": "stream",
     "text": [
      "Total sales: $483.00\n"
     ]
    }
   ],
   "source": [
    "# Now I'm ready to analyze or group the data using my tables fields - I pulled all the fields with my Select * statement\n",
    "summary = sales_data.groupby([\"type\"])[\"price\"].sum()\n",
    "total_sales = sales_data[\"price\"].sum()\n",
    "print(f\"Total sales: ${total_sales:.2f}\")"
   ]
  },
  {
   "cell_type": "markdown",
   "metadata": {},
   "source": [
    "Add to README for citation of Great Tables: \n",
    "@software{Iannone_great_tables,\n",
    "author = {Iannone, Richard and Chow, Michael},\n",
    "license = {MIT},\n",
    "title = {{great-tables: Make awesome display tables using Python.}},\n",
    "url = {https://github.com/posit-dev/great-tables},\n",
    "version = {0.14.0}\n",
    "}"
   ]
  },
  {
   "cell_type": "code",
   "execution_count": null,
   "metadata": {},
   "outputs": [],
   "source": []
  }
 ],
 "metadata": {
  "kernelspec": {
   "display_name": "Python [conda env:aap]",
   "language": "python",
   "name": "conda-env-aap-py"
  },
  "language_info": {
   "codemirror_mode": {
    "name": "ipython",
    "version": 3
   },
   "file_extension": ".py",
   "mimetype": "text/x-python",
   "name": "python",
   "nbconvert_exporter": "python",
   "pygments_lexer": "ipython3",
   "version": "3.12.11"
  },
  "toc-autonumbering": true
 },
 "nbformat": 4,
 "nbformat_minor": 4
}
